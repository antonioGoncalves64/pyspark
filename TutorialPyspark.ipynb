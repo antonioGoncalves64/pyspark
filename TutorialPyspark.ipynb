{
  "nbformat": 4,
  "nbformat_minor": 0,
  "metadata": {
    "colab": {
      "provenance": [],
      "authorship_tag": "ABX9TyOMZjD4E+7vf478+3Dfn1J3",
      "include_colab_link": true
    },
    "kernelspec": {
      "name": "python3",
      "display_name": "Python 3"
    },
    "language_info": {
      "name": "python"
    }
  },
  "cells": [
    {
      "cell_type": "markdown",
      "metadata": {
        "id": "view-in-github",
        "colab_type": "text"
      },
      "source": [
        "<a href=\"https://colab.research.google.com/github/antonioGoncalves64/pyspark/blob/main/TutorialPyspark.ipynb\" target=\"_parent\"><img src=\"https://colab.research.google.com/assets/colab-badge.svg\" alt=\"Open In Colab\"/></a>"
      ]
    },
    {
      "cell_type": "markdown",
      "source": [
        "# Automatic Installation pySpark\n",
        "\n",
        "The easy way of installing PySpark on Google Colab is to use pip install."
      ],
      "metadata": {
        "id": "y5TC_wFBcbhG"
      }
    },
    {
      "cell_type": "code",
      "execution_count": 2,
      "metadata": {
        "colab": {
          "base_uri": "https://localhost:8080/"
        },
        "id": "uu32wx-2bIK7",
        "outputId": "cefd4ae2-8695-4e36-91fb-7e5ddda7d202"
      },
      "outputs": [
        {
          "output_type": "stream",
          "name": "stdout",
          "text": [
            "Looking in indexes: https://pypi.org/simple, https://us-python.pkg.dev/colab-wheels/public/simple/\n",
            "Requirement already satisfied: pyspark in /usr/local/lib/python3.8/dist-packages (3.3.1)\n",
            "Requirement already satisfied: py4j==0.10.9.5 in /usr/local/lib/python3.8/dist-packages (from pyspark) (0.10.9.5)\n"
          ]
        }
      ],
      "source": [
        "! pip install pyspark"
      ]
    },
    {
      "cell_type": "markdown",
      "source": [],
      "metadata": {
        "id": "gmxuWxzxcmDB"
      }
    },
    {
      "cell_type": "code",
      "source": [],
      "metadata": {
        "id": "ujMwhiVUcuFg"
      },
      "execution_count": null,
      "outputs": []
    },
    {
      "cell_type": "markdown",
      "source": [],
      "metadata": {
        "id": "43ABU5OXcvMh"
      }
    },
    {
      "cell_type": "markdown",
      "source": [
        "The second method of installing PySpark on Google Colab is to use pip install."
      ],
      "metadata": {
        "id": "W_V_1nUKdCLl"
      }
    },
    {
      "cell_type": "markdown",
      "source": [
        "# Create a Spark session\n",
        "After installation, we can create a Spark session and check its information."
      ],
      "metadata": {
        "id": "2TjBgdBYc4Z1"
      }
    },
    {
      "cell_type": "code",
      "source": [
        "from pyspark import SparkConf \n",
        "from pyspark.context import SparkContext \n",
        "\n",
        "sc = SparkContext.getOrCreate(SparkConf().setMaster(\"local[*]\").setAppName(\"Intro pyspark\"))\n",
        "\n",
        "\n",
        "# Verify SparkContext\n",
        "sc\n",
        "\n"
      ],
      "metadata": {
        "colab": {
          "base_uri": "https://localhost:8080/",
          "height": 193
        },
        "id": "XIauV_VmdaOJ",
        "outputId": "32c39332-a59c-46b9-c116-a641dcc672ac"
      },
      "execution_count": 6,
      "outputs": [
        {
          "output_type": "execute_result",
          "data": {
            "text/plain": [
              "<SparkContext master=local[*] appName=pyspark-shell>"
            ],
            "text/html": [
              "\n",
              "        <div>\n",
              "            <p><b>SparkContext</b></p>\n",
              "\n",
              "            <p><a href=\"http://39c3077a080d:4040\">Spark UI</a></p>\n",
              "\n",
              "            <dl>\n",
              "              <dt>Version</dt>\n",
              "                <dd><code>v3.3.1</code></dd>\n",
              "              <dt>Master</dt>\n",
              "                <dd><code>local[*]</code></dd>\n",
              "              <dt>AppName</dt>\n",
              "                <dd><code>pyspark-shell</code></dd>\n",
              "            </dl>\n",
              "        </div>\n",
              "        "
            ]
          },
          "metadata": {},
          "execution_count": 6
        }
      ]
    },
    {
      "cell_type": "markdown",
      "source": [
        "# Resilient Distributed Datasets (RDD)\n",
        "Spark revolves around the concept of a resilient distributed dataset (RDD), which is a fault-tolerant collection of elements that can be operated on in parallel."
      ],
      "metadata": {
        "id": "S_x0ahKgedgz"
      }
    },
    {
      "cell_type": "markdown",
      "source": [
        "## How to create RDDs\n",
        "\n",
        "There are two ways to create RDDs:\n",
        "\n",
        "* parallelizing an existing collection in your driver program, or\n",
        "* referencing a dataset in an external storage system, such as a shared filesystem, HDFS, HBase, or any data source offering a Hadoop InputFormat."
      ],
      "metadata": {
        "id": "NqxCeQ7DeyEY"
      }
    },
    {
      "cell_type": "markdown",
      "source": [
        "### Parallelized collection\n",
        "\n",
        "Parallelized collections are created by calling SparkContext’s parallelize method on an existing iterable or collection in your driver program. The elements of the collection are copied to form a distributed dataset that can be operated on in parallel. For example, here is how to create two parallelized collection: one for holding the numbers 1 to 5 and the other for hoding a String."
      ],
      "metadata": {
        "id": "1WOLHqqDfrtX"
      }
    },
    {
      "cell_type": "code",
      "source": [
        "numRDD = sc.parallelize([1,2,3,4,5])\n",
        "print (\"numRDD:   \", type(numRDD)) #confirm type of object RDD\n",
        "\n",
        "helloRDD = sc.parallelize((\"Hello world\"))\n",
        "print (\"helloRDD: \",type(helloRDD)) #confirm type of object RDD"
      ],
      "metadata": {
        "colab": {
          "base_uri": "https://localhost:8080/"
        },
        "id": "E5ztdsxefEnN",
        "outputId": "008f4d37-00c4-4552-c7b6-528fc20e87db"
      },
      "execution_count": 9,
      "outputs": [
        {
          "output_type": "stream",
          "name": "stdout",
          "text": [
            "numRDD:    <class 'pyspark.rdd.RDD'>\n",
            "helloRDD:  <class 'pyspark.rdd.RDD'>\n"
          ]
        }
      ]
    },
    {
      "cell_type": "markdown",
      "source": [
        "Once created, the distributed dataset (distData) can be operated on in parallel. For example, we can call distData.reduce(lambda a, b: a + b) to add up the elements of the list."
      ],
      "metadata": {
        "id": "FGwFtO39gCpq"
      }
    },
    {
      "cell_type": "code",
      "source": [
        "distData = sc.parallelize([1,2,3])\n",
        "distData.reduce(lambda a, b: a + b)"
      ],
      "metadata": {
        "colab": {
          "base_uri": "https://localhost:8080/"
        },
        "id": "aTPrNBTwgGnC",
        "outputId": "01f8e776-474f-4854-82d5-5bb700ca2790"
      },
      "execution_count": 10,
      "outputs": [
        {
          "output_type": "execute_result",
          "data": {
            "text/plain": [
              "6"
            ]
          },
          "metadata": {},
          "execution_count": 10
        }
      ]
    },
    {
      "cell_type": "markdown",
      "source": [
        "One important parameter for parallel collections is the number of partitions to cut the dataset into. Spark will run one task for each partition of the cluster. Typically you want 2-4 partitions for each CPU in your cluster. Normally, Spark tries to set the number of partitions automatically based on your cluster. However, you can also set it manually by passing it as a second parameter to parallelize (e.g. sc.parallelize(data, 10))"
      ],
      "metadata": {
        "id": "RxvHIDiNgMAa"
      }
    },
    {
      "cell_type": "code",
      "source": [
        "data01 = sc.parallelize([1,2,3,4,5])\n",
        "print (\"Data01 NumPartitions: \", data01.getNumPartitions())\n",
        "\n",
        "data02 = sc.parallelize([1,2,3,4,5],3)\n",
        "print (\"data02 NumPartitions: \", data02.getNumPartitions())"
      ],
      "metadata": {
        "colab": {
          "base_uri": "https://localhost:8080/"
        },
        "id": "TbbmSxvOgNuC",
        "outputId": "a684cfcc-f3b1-47f2-c4c0-fd038b97b966"
      },
      "execution_count": 11,
      "outputs": [
        {
          "output_type": "stream",
          "name": "stdout",
          "text": [
            "Data01 NumPartitions:  2\n",
            "data02 NumPartitions:  3\n"
          ]
        }
      ]
    },
    {
      "cell_type": "markdown",
      "source": [
        "### External Datasets\n",
        "PySpark can create distributed datasets from any storage source supported by Hadoop, including your local file system, HDFS, Cassandra, HBase, Amazon S3, etc. Spark supports text files, SequenceFiles, and any other Hadoop InputFormat.\n",
        "\n",
        "Text file RDDs can be created using SparkContext’s textFile method. This method takes a URI for the file (either a local path on the machine, or a hdfs://, s3a://, etc URI) and reads it as a collection of lines. Here is an example invocation:"
      ],
      "metadata": {
        "id": "CoFolhdgiTPY"
      }
    },
    {
      "cell_type": "code",
      "source": [
        "# Downloading and preprocessing Cars Data downloaded origianlly from https://perso.telecom-paristech.fr/eagan/class/igr204/datasets\n",
        "!wget https://jacobceles.github.io/knowledge_repo/colab_and_pyspark/cars.csv\n",
        "\n",
        "fileRDD = sc.textFile(\"cars.csv\")\n",
        "\n",
        "newRDD= fileRDD.take(3)\n",
        "\n",
        "for i in newRDD:\n",
        "    print(i)"
      ],
      "metadata": {
        "colab": {
          "base_uri": "https://localhost:8080/"
        },
        "id": "i3CvUU_siqi_",
        "outputId": "05686c4f-7c3c-44ee-aa02-c6e028aa7a9d"
      },
      "execution_count": 12,
      "outputs": [
        {
          "output_type": "stream",
          "name": "stdout",
          "text": [
            "--2022-12-14 16:51:29--  https://jacobceles.github.io/knowledge_repo/colab_and_pyspark/cars.csv\n",
            "Resolving jacobceles.github.io (jacobceles.github.io)... 185.199.108.153, 185.199.109.153, 185.199.110.153, ...\n",
            "Connecting to jacobceles.github.io (jacobceles.github.io)|185.199.108.153|:443... connected.\n",
            "HTTP request sent, awaiting response... 301 Moved Permanently\n",
            "Location: https://jacobcelestine.com/knowledge_repo/colab_and_pyspark/cars.csv [following]\n",
            "--2022-12-14 16:51:29--  https://jacobcelestine.com/knowledge_repo/colab_and_pyspark/cars.csv\n",
            "Resolving jacobcelestine.com (jacobcelestine.com)... 185.199.108.153, 185.199.109.153, 185.199.110.153, ...\n",
            "Connecting to jacobcelestine.com (jacobcelestine.com)|185.199.108.153|:443... connected.\n",
            "HTTP request sent, awaiting response... 200 OK\n",
            "Length: 22608 (22K) [text/csv]\n",
            "Saving to: ‘cars.csv’\n",
            "\n",
            "cars.csv            100%[===================>]  22.08K  --.-KB/s    in 0s      \n",
            "\n",
            "2022-12-14 16:51:29 (109 MB/s) - ‘cars.csv’ saved [22608/22608]\n",
            "\n",
            "Car;MPG;Cylinders;Displacement;Horsepower;Weight;Acceleration;Model;Origin\n",
            "Chevrolet Chevelle Malibu;18.0;8;307.0;130.0;3504.;12.0;70;US\n",
            "Buick Skylark 320;15.0;8;350.0;165.0;3693.;11.5;70;US\n"
          ]
        }
      ]
    },
    {
      "cell_type": "markdown",
      "source": [
        "### RDD Operations\n",
        "\n",
        "RDDs support two types of operations: transformations and actions\n",
        " \n",
        "* Transformations  create a new dataset from an existing one.\n",
        "* Actions, which return a value to the driver program after running a computation on the dataset. \n",
        "\n",
        "For example, map is a transformation that passes each dataset element through a function and returns a new RDD representing the results. On the other hand, reduce is an action that aggregates all the elements of the RDD using some function and returns the final result to the driver program (although there is also a parallel reduceByKey that returns a distributed dataset).\n",
        "\n",
        "All transformations in Spark are lazy, in that they do not compute their results right away. Instead, they just remember the transformations applied to some base dataset (e.g. a file). The transformations are only computed when an action requires a result to be returned to the driver program. This design enables Spark to run more efficiently. For example, we can realize that a dataset created through map will be used in a reduce and return only the result of the reduce to the driver, rather than the larger mapped dataset.\n"
      ],
      "metadata": {
        "id": "FVKUL-IVepVB"
      }
    },
    {
      "cell_type": "markdown",
      "source": [
        "#### Transformations\n"
      ],
      "metadata": {
        "id": "zg2yz8pnhYLc"
      }
    },
    {
      "cell_type": "code",
      "source": [
        "# map( ) - Return a new RDD by applying a function to each element of this RDD.\n",
        "\n",
        "RDD = sc.parallelize([1,2,3,4,5])\n",
        "RDD_map = RDD.map(lambda x : x * 2)\n",
        "print (\"RDD_map: \",RDD_map.collect()) # action convert to a  List"
      ],
      "metadata": {
        "colab": {
          "base_uri": "https://localhost:8080/"
        },
        "id": "sa6vX4Ilm3vS",
        "outputId": "02878055-f9ad-41b3-ea66-e4b8c0879960"
      },
      "execution_count": 14,
      "outputs": [
        {
          "output_type": "stream",
          "name": "stdout",
          "text": [
            "RDD_map:  [2, 4, 6, 8, 10]\n"
          ]
        }
      ]
    },
    {
      "cell_type": "code",
      "source": [
        "# filter( ) returns a new RDD with only the elements that pass the condition\n",
        "\n",
        "RDD = sc.parallelize([1,2,3,4])\n",
        "RDD_filter = RDD.filter(lambda x : x >2)\n",
        "print (\"RDD_filter: \", RDD_filter.collect()) # action convert to a  List"
      ],
      "metadata": {
        "colab": {
          "base_uri": "https://localhost:8080/"
        },
        "id": "ICjGylIDnG3I",
        "outputId": "4e4a9d4f-96f0-40a4-bf64-e37ea3ac469f"
      },
      "execution_count": 15,
      "outputs": [
        {
          "output_type": "stream",
          "name": "stdout",
          "text": [
            "RDD_filter:  [3, 4]\n"
          ]
        }
      ]
    },
    {
      "cell_type": "code",
      "source": [
        "# flatMap( ) returns multiple values for each element in the original RDD\n",
        "\n",
        "RDD = sc.parallelize([\"hello word\", \"How are you\"])\n",
        "RDD_flatMap = RDD.flatMap(lambda x : x.split(\" \"))\n",
        "print (\"RDD_flatMap: \", RDD_flatMap.collect()) # action convert to a  List"
      ],
      "metadata": {
        "colab": {
          "base_uri": "https://localhost:8080/"
        },
        "id": "YczEBvB7nHG3",
        "outputId": "b46ce428-ddbc-4e50-ef1f-a48fc48738ac"
      },
      "execution_count": 16,
      "outputs": [
        {
          "output_type": "stream",
          "name": "stdout",
          "text": [
            "RDD_flatMap:  ['hello', 'word', 'How', 'are', 'you']\n"
          ]
        }
      ]
    },
    {
      "cell_type": "code",
      "source": [
        "# union( ) Return the union of this RDD and another one\n",
        "\n",
        "rdd01 = sc.parallelize([1, 3, 5, 7])\n",
        "rdd02 = sc.parallelize([2, 4, 6, 8])\n",
        "rdd03 = rdd01.union(rdd02)\n",
        "rdd03.collect()"
      ],
      "metadata": {
        "colab": {
          "base_uri": "https://localhost:8080/"
        },
        "id": "jho6OzISnHQ3",
        "outputId": "11e8d250-3e12-4e3f-b938-8738c1b83567"
      },
      "execution_count": 17,
      "outputs": [
        {
          "output_type": "execute_result",
          "data": {
            "text/plain": [
              "[1, 3, 5, 7, 2, 4, 6, 8]"
            ]
          },
          "metadata": {},
          "execution_count": 17
        }
      ]
    },
    {
      "cell_type": "markdown",
      "source": [
        "#### Actions"
      ],
      "metadata": {
        "id": "eNcDqouUoDXW"
      }
    },
    {
      "cell_type": "code",
      "source": [
        "# collection ( ) Return a list that contains all of the elements in this RDD\n",
        "\n",
        "data = [1,2,3,4,5,6,7,8,9,10,11,12]\n",
        "rdd  = sc.parallelize(data)\n",
        "\n",
        "newData = rdd.collect()\n",
        "for d in newData:\n",
        "    print (f\"Value: {d}\")"
      ],
      "metadata": {
        "colab": {
          "base_uri": "https://localhost:8080/"
        },
        "id": "stkC1bThoPNF",
        "outputId": "38a6442d-232d-4f47-ca42-218f3a7b9a60"
      },
      "execution_count": 18,
      "outputs": [
        {
          "output_type": "stream",
          "name": "stdout",
          "text": [
            "Value: 1\n",
            "Value: 2\n",
            "Value: 3\n",
            "Value: 4\n",
            "Value: 5\n",
            "Value: 6\n",
            "Value: 7\n",
            "Value: 8\n",
            "Value: 9\n",
            "Value: 10\n",
            "Value: 11\n",
            "Value: 12\n"
          ]
        }
      ]
    },
    {
      "cell_type": "code",
      "source": [
        "# take(num) – Take the first num elements of the RDD\n",
        "\n",
        "data = [1,2,3,4,5,6,7,8,9,10,11,12]\n",
        "rdd  = sc.parallelize(data)\n",
        "\n",
        "newData = rdd.take(2)\n",
        "for d in newData:\n",
        "    print (f\"Value: {d}\")"
      ],
      "metadata": {
        "colab": {
          "base_uri": "https://localhost:8080/"
        },
        "id": "GwEaAKFioYVF",
        "outputId": "b0abbeb9-fd9c-4a5d-9aaa-f4d99d641434"
      },
      "execution_count": 19,
      "outputs": [
        {
          "output_type": "stream",
          "name": "stdout",
          "text": [
            "Value: 1\n",
            "Value: 2\n"
          ]
        }
      ]
    },
    {
      "cell_type": "code",
      "source": [
        "# first( ) – Returns the first record of the RDD\n",
        "\n",
        "data = [1,2,3,4,5,6,7,8,9,10,11,12]\n",
        "rdd  = sc.parallelize(data)\n",
        "\n",
        "newData = rdd.first()\n",
        "print (f\"Value: {newData}\")"
      ],
      "metadata": {
        "colab": {
          "base_uri": "https://localhost:8080/"
        },
        "id": "-_Z4xlYvogo4",
        "outputId": "d76af679-fa19-49ad-dfbf-34c56c4e9837"
      },
      "execution_count": 20,
      "outputs": [
        {
          "output_type": "stream",
          "name": "stdout",
          "text": [
            "Value: 1\n"
          ]
        }
      ]
    },
    {
      "cell_type": "code",
      "source": [
        "# count( ) – Returns the number of records in an RDD\n",
        "\n",
        "data = [1,2,3,4,5,6,7,8,9,10,11,12]\n",
        "rdd  = sc.parallelize(data)\n",
        "\n",
        "num = rdd.count()\n",
        "print (f\"Count: {num}\")"
      ],
      "metadata": {
        "id": "4bqBHK_jomPQ"
      },
      "execution_count": null,
      "outputs": []
    },
    {
      "cell_type": "code",
      "source": [
        "# max( ) – Returns max record\n",
        "\n",
        "data = [1,2,3,4,5,6,7,8,9,10,11,12]\n",
        "rdd  = sc.parallelize(data)\n",
        "\n",
        "num = rdd.max()\n",
        "print (f\"Max: {num}\")"
      ],
      "metadata": {
        "id": "xuuLupgAomcJ"
      },
      "execution_count": null,
      "outputs": []
    },
    {
      "cell_type": "code",
      "source": [
        "# reduce( ) – Reduces the records to single, we can use this to count or sum\n",
        "\n",
        "data = [1,2,3,4,5,6,7,8,9,10,11,12]\n",
        "rdd  = sc.parallelize(data)\n",
        "\n",
        "num = rdd.reduce(lambda a,b: (a+b))\n",
        "print (f\"Max: {num}\")"
      ],
      "metadata": {
        "id": "U2G5cn1Domfv"
      },
      "execution_count": null,
      "outputs": []
    },
    {
      "cell_type": "code",
      "source": [],
      "metadata": {
        "id": "5Aeg264po0f_"
      },
      "execution_count": null,
      "outputs": []
    },
    {
      "cell_type": "markdown",
      "source": [
        "### Pair RDDs\n",
        "\n",
        "Spark Paired RDDs are RDDs containing a key-value pair. Key-value pair (KVP) consists of a two linked data item in it. Here, the key is the identifier, whereas value is the data corresponding to the key value."
      ],
      "metadata": {
        "id": "P5JQGB8go-6j"
      }
    },
    {
      "cell_type": "markdown",
      "source": [
        "#### Creating Pair RDDs\n",
        "Two common ways to create pair RDD:\n",
        "\n",
        "* From a list of key-value tuples\n",
        "* From a regular RDD"
      ],
      "metadata": {
        "id": "3hxK-CL4xovT"
      }
    },
    {
      "cell_type": "code",
      "source": [
        "# Create a Pair RDD from regular RDD\n",
        "\n",
        "rdd = sc.parallelize([\"b\", \"a\", \"c\"])\n",
        "sorted(rdd.map(lambda x: (x, 1)).collect())"
      ],
      "metadata": {
        "colab": {
          "base_uri": "https://localhost:8080/"
        },
        "id": "eQVy8b_nxzzg",
        "outputId": "41c7de24-dc29-4ef1-924c-d8b0273f2575"
      },
      "execution_count": 21,
      "outputs": [
        {
          "output_type": "execute_result",
          "data": {
            "text/plain": [
              "[('a', 1), ('b', 1), ('c', 1)]"
            ]
          },
          "metadata": {},
          "execution_count": 21
        }
      ]
    },
    {
      "cell_type": "code",
      "source": [
        "# Create a Pair RDD from a list\n",
        "\n",
        "rdd = sc.parallelize([(1,\"a\"), (2,\"b\"), (3,\"c\")])\n",
        "rdd.collect()"
      ],
      "metadata": {
        "colab": {
          "base_uri": "https://localhost:8080/"
        },
        "id": "tCGfYEfkx7d2",
        "outputId": "d8c9ee9e-e06b-4f31-e2d4-564d5b200bd7"
      },
      "execution_count": 22,
      "outputs": [
        {
          "output_type": "execute_result",
          "data": {
            "text/plain": [
              "[(1, 'a'), (2, 'b'), (3, 'c')]"
            ]
          },
          "metadata": {},
          "execution_count": 22
        }
      ]
    },
    {
      "cell_type": "markdown",
      "source": [
        "#### Transformations on pair RDDs\n",
        "\n",
        "All regular transformations work on pair RDD. Have to pass functions that operate on key value pairs rather than on individual elements"
      ],
      "metadata": {
        "id": "cBnHZy3byBZ-"
      }
    },
    {
      "cell_type": "code",
      "source": [
        "# reduceByKey(fun) - groups all the values with the same key\n",
        "\n",
        "rdd = sc.parallelize([(\"a\",1), (\"b\",2), (\"c\", 10),(\"a\", 2), (\"d\", 5), (\"a\", 4) ])\n",
        "rdd_reduceByKey = rdd.reduceByKey(lambda x, y: x+y )\n",
        "rdd_reduceByKey.collect()"
      ],
      "metadata": {
        "colab": {
          "base_uri": "https://localhost:8080/"
        },
        "id": "wwpHth-TyMrU",
        "outputId": "7b92d24e-3c02-4045-bb7d-50d3ab17abdc"
      },
      "execution_count": 23,
      "outputs": [
        {
          "output_type": "execute_result",
          "data": {
            "text/plain": [
              "[('b', 2), ('c', 10), ('d', 5), ('a', 7)]"
            ]
          },
          "metadata": {},
          "execution_count": 23
        }
      ]
    },
    {
      "cell_type": "code",
      "source": [
        "# sortByKey(fun) - Order RDD pair by key\n",
        "\n",
        "rdd = sc.parallelize([(\"a\",1), (\"c\",2), (\"b\", 10),(\"a\", 2), (\"d\", 5), (\"a\", 4) ])\n",
        "rdd_reduceByKey = rdd.reduceByKey(lambda x, y: x+y )\n",
        "rdd_reduceByKey.sortByKey(ascending = True).collect()"
      ],
      "metadata": {
        "colab": {
          "base_uri": "https://localhost:8080/"
        },
        "id": "NHwTbpWyyRyc",
        "outputId": "768dfe6c-c9cb-47b6-9015-62883c7c3213"
      },
      "execution_count": 24,
      "outputs": [
        {
          "output_type": "execute_result",
          "data": {
            "text/plain": [
              "[('a', 7), ('b', 10), ('c', 2), ('d', 5)]"
            ]
          },
          "metadata": {},
          "execution_count": 24
        }
      ]
    },
    {
      "cell_type": "code",
      "source": [
        "# groupByKey( ) - Groups all the values with the same key in the pair\n",
        "\n",
        "rdd = sc.parallelize([(\"a\",1), (\"c\",2), (\"b\", 10),(\"a\", 2), (\"d\", 5), (\"a\", 4) ])\n",
        "rdd_groupByKey = rdd.groupByKey().collect()\n",
        "for letter, value in  rdd_groupByKey:\n",
        "    print (letter, list(value))"
      ],
      "metadata": {
        "colab": {
          "base_uri": "https://localhost:8080/"
        },
        "id": "HcGYGzxLyVo8",
        "outputId": "8d98b284-da24-4a9d-c289-9186fa3c8937"
      },
      "execution_count": 27,
      "outputs": [
        {
          "output_type": "stream",
          "name": "stdout",
          "text": [
            "c [2]\n",
            "b [10]\n",
            "d [5]\n",
            "a [1, 2, 4]\n"
          ]
        }
      ]
    },
    {
      "cell_type": "code",
      "source": [
        "# join( ) - transformation joins the two pair RDDs based on their key\n",
        "\n",
        "rdd01 = sc.parallelize([(\"a\",1), (\"b\", 5),(\"c\", 7) ])\n",
        "rdd02 = sc.parallelize([(\"a\",2), (\"b\", 3),(\"d\", 4) ])\n",
        "\n",
        "rdd01. join(rdd02).collect()"
      ],
      "metadata": {
        "id": "Zzx2RbH9yV3k"
      },
      "execution_count": null,
      "outputs": []
    },
    {
      "cell_type": "code",
      "source": [
        "# countByKey( ) - action counts the number of elements for each key\n",
        "\n",
        "rdd = sc.parallelize([(\"a\",2), (\"b\", 4),(\"a\", 3) ])\n",
        "for key, val in  rdd.countByKey().items():\n",
        "    print (key, val)"
      ],
      "metadata": {
        "id": "3HiAIbCNyf7B"
      },
      "execution_count": null,
      "outputs": []
    },
    {
      "cell_type": "code",
      "source": [
        "# collectAsMap( ) - action return the key-value pairs in the RDD as a dictionary\n",
        "\n",
        "rdd = sc.parallelize([(\"a\",2), (\"b\", 4),(\"c\", 3) ])\n",
        "rdd.collectAsMap()"
      ],
      "metadata": {
        "colab": {
          "base_uri": "https://localhost:8080/"
        },
        "id": "GdOxOJK3ygDS",
        "outputId": "8105ad2e-ad3b-498d-c3cc-008c49e64346"
      },
      "execution_count": 26,
      "outputs": [
        {
          "output_type": "execute_result",
          "data": {
            "text/plain": [
              "{'a': 2, 'b': 4, 'c': 3}"
            ]
          },
          "metadata": {},
          "execution_count": 26
        }
      ]
    },
    {
      "cell_type": "code",
      "source": [],
      "metadata": {
        "id": "QY0C4rCDygGB"
      },
      "execution_count": null,
      "outputs": []
    },
    {
      "cell_type": "code",
      "source": [],
      "metadata": {
        "id": "6iJDju4aygKJ"
      },
      "execution_count": null,
      "outputs": []
    }
  ]
}