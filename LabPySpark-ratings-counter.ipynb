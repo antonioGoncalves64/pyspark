{
  "cells": [
    {
      "cell_type": "markdown",
      "id": "ff38a246",
      "metadata": {
        "id": "ff38a246"
      },
      "source": [
        "<img src=\"https://github.com/antonioGoncalves64/pyspark/blob/main/spark.png?raw=1\" alt=\"drawing\" width=\"300\"/>"
      ]
    },
    {
      "cell_type": "markdown",
      "id": "7337c90d",
      "metadata": {
        "id": "7337c90d"
      },
      "source": [
        "# Introdução\n",
        "\n",
        "Pretendemos obter um resumo das classificações de filmes a partir do ficheiro (ratings.csv) que contem milhares de dados de classificações de filmes. \n",
        "\n",
        "O ficheiro **ratings.csv**  é composto por um conjunto de dados e que contém a  25 milhões de classificações realizadas a 62.000 filmes por 162.000 utilizadores. Onde cada linha representa o números de filmes que forma classificados com um dado valor.\n",
        "\n",
        "## Formatação e Codificação\n",
        "\n",
        "\n",
        "O ficheiro do conjunto de dados é escrito como um ficheiro de valores separados por vírgulas com uma única linha de cabeçalho. Estes ficheiros são codificados como UTF-8. Se os caracteres acentuados em títulos de filmes  (por exemplo, Misérables, Les (1995)) forem apresentados incorrectamente, certifique-se de que qualquer programa que leia os dados, como um editor de texto, terminal, ou script, está configurado para UTF-8.\n",
        "\n",
        "* **Ids do utilizador.** Os utilizadores de MovieLens foram seleccionados ao acaso para inclusão. Os seus identificadores foram anonimizados. \n",
        "\n",
        "* **Ids de filmes.** Só estão incluídos no conjunto de dados filmes com pelo menos uma classificação ou etiqueta. Estes ids de filmes são consistentes com os utilizados no sítio web do MovieLens (por exemplo, id 1 corresponde ao URL https://movielens.org/movies/1).\n",
        "\n",
        "* **Classificações dos filmes.** Todas as classificações estão contidas no ficheiro **ratings.csv**. Este ficheiro possui uma linha de cabeçalho seguido de vários registo de  rating dispostos em linha. Cada registo  tem o seguinte formato: **id do utilizador, id de filme, classificações (rating), carimbos temporais (timestamp).** As classificações (rating)  são feitas numa escala de 5 estrelas, com incrementos de meia estrela (0,5 estrelas - 5,0 estrelas). Os carimbos temporais representam segundos desde a meia-noite do Tempo Universal Coordenado (UTC) de 1 de Janeiro de 1970.\n",
        "\n",
        "\n",
        "## Trabalho a ser realizado\n",
        "\n",
        "A partir dos registo de votações contidas no ficheiro **ratings.csv** pretendemos no final obter um histograma, também conhecido como distribuição de frequências, dos ratings totais. Em seguida é apresentado um exemplo.\n",
        "\n",
        "* 0.5, 18408\n",
        "* 1.0, 40233\n",
        "* 1.5, 21566\n",
        "* 2.0, 85616\n",
        "* 2.5, 65307\n",
        "* 3.0, 256838\n",
        "* 3.5, 164152\n",
        "* 4.0, 349862\n",
        "* 4.5, 113879\n",
        "* 5.0, 556793"
      ]
    },
    {
      "cell_type": "code",
      "source": [
        "# write here your solution\n",
        "\n"
      ],
      "metadata": {
        "id": "-xUaoYhcMpxh"
      },
      "id": "-xUaoYhcMpxh",
      "execution_count": null,
      "outputs": []
    },
    {
      "cell_type": "markdown",
      "id": "327d58f5",
      "metadata": {
        "id": "327d58f5"
      },
      "source": [
        "Double-click **here** for the solution.\n",
        "\n",
        "<!-- The answer is below:\n",
        "\n",
        "!pip install pyspark\n",
        "!pip install findspark\n",
        "\n",
        "from pyspark import SparkConf \n",
        "from pyspark.context import SparkContext \n",
        "import collections\n",
        "\n",
        "sc = SparkContext.getOrCreate(SparkConf().setMaster(\"local[*]\").setAppName(\"RatingsHistogram\"))\n",
        "\n",
        "!curl https://raw.githubusercontent.com/antonioGoncalves64/pyspark/main/ratings.csv >> ratings.csv\n",
        "\n",
        "lines = sc.textFile(\"ratings.csv\") # sample data  is upload do colab at content directory\n",
        "ratings = lines.map(lambda x: x.split(\",\")[2])\n",
        "\n",
        "result = ratings.countByValue()\n",
        "\n",
        "sortedResults = collections.OrderedDict(sorted(result.items()))\n",
        "for key, value in sortedResults.items():\n",
        "    print(F\"{key}, {value:d}\")\n",
        "\n",
        "\n",
        "-->"
      ]
    }
  ],
  "metadata": {
    "kernelspec": {
      "display_name": "Python 3 (ipykernel)",
      "language": "python",
      "name": "python3"
    },
    "language_info": {
      "codemirror_mode": {
        "name": "ipython",
        "version": 3
      },
      "file_extension": ".py",
      "mimetype": "text/x-python",
      "name": "python",
      "nbconvert_exporter": "python",
      "pygments_lexer": "ipython3",
      "version": "3.9.12"
    },
    "colab": {
      "provenance": []
    }
  },
  "nbformat": 4,
  "nbformat_minor": 5
}