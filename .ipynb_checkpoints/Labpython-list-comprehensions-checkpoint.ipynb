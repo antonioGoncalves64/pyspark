{
 "cells": [
  {
   "cell_type": "markdown",
   "metadata": {
    "id": "6MFSMd-UYv_3"
   },
   "source": [
    "<img src=\"https://github.com/antonioGoncalves64/pyspark/blob/main/python.png?raw=1\" alt=\"drawing\" width=\"250\"/>"
   ]
  },
  {
   "cell_type": "markdown",
   "metadata": {
    "id": "MV8niY42Yv_8"
   },
   "source": [
    "# Lab List Comprehensions and Generators"
   ]
  },
  {
   "cell_type": "markdown",
   "metadata": {
    "id": "ysZZBu4f5LlT"
   },
   "source": [
    "Like list comprehensions, generator expressions allow you to quickly create a generator object in just a few lines of code. They’re also useful in the same cases where list comprehensions are used, with an added benefit: you can create them without building and holding the entire object in memory before iteration. In other words, you’ll have no memory penalty when you use generator expressions. Take this example of squaring some numbers:"
   ]
  },
  {
   "cell_type": "code",
   "execution_count": 1,
   "metadata": {
    "id": "5bSAgl6C5P75"
   },
   "outputs": [],
   "source": [
    "nums_squared_lc = [num**2 for num in range(5)]\n",
    "nums_squared_gc = (num**2 for num in range(5))"
   ]
  },
  {
   "cell_type": "markdown",
   "metadata": {
    "id": "PPswFMgo5UKZ"
   },
   "source": [
    "Both nums_squared_lc and nums_squared_gc look basically the same, but there’s one key difference. Can you spot it? Take a look at what happens when you inspect each of these objects:"
   ]
  },
  {
   "cell_type": "code",
   "execution_count": 3,
   "metadata": {
    "colab": {
     "base_uri": "https://localhost:8080/"
    },
    "id": "onGJtl5d5Voo",
    "outputId": "8720d360-94b3-471f-e6c2-792db664d22a"
   },
   "outputs": [
    {
     "name": "stdout",
     "output_type": "stream",
     "text": [
      "[0, 1, 4, 9, 16]\n",
      "<generator object <genexpr> at 0x7f74e7753580>\n"
     ]
    }
   ],
   "source": [
    "print (nums_squared_lc)\n",
    "print(nums_squared_gc)"
   ]
  },
  {
   "cell_type": "markdown",
   "metadata": {
    "id": "FulLbuBb5nGf"
   },
   "source": [
    "The first object used brackets to build a list, while the second created a generator expression by using parentheses. The output confirms that you’ve created a generator object and that it is distinct from a list."
   ]
  },
  {
   "cell_type": "markdown",
   "metadata": {
    "id": "5WJPqj5gYv_9"
   },
   "source": [
    "## Exercise 1 - Given a list of numbers, remove all odd numbers from the list\n"
   ]
  },
  {
   "cell_type": "code",
   "execution_count": null,
   "metadata": {
    "id": "aI9eZ2ttYv_-"
   },
   "outputs": [],
   "source": [
    "# Code block for learners to answer\n"
   ]
  },
  {
   "cell_type": "markdown",
   "metadata": {
    "id": "bTvTEidqYwAA"
   },
   "source": [
    "Double-click **here** for the solution.\n",
    "\n",
    "<!-- The answer is below:\n",
    "\n",
    "result = [number for number in numbers if number % 2 == 0]\n",
    "print(result)\n",
    "\n",
    "-->\n",
    "\n"
   ]
  },
  {
   "cell_type": "markdown",
   "metadata": {
    "id": "hO4WueueYwAB"
   },
   "source": [
    "## Exercise 2 - Given a list of numbers, remove floats (numbers with decimals)\n"
   ]
  },
  {
   "cell_type": "code",
   "execution_count": null,
   "metadata": {
    "id": "nlLIk2dXYwAB"
   },
   "outputs": [],
   "source": [
    "# Code block for learners to answer\n"
   ]
  },
  {
   "cell_type": "markdown",
   "metadata": {
    "id": "-eP1cVP8YwAC"
   },
   "source": [
    "Double-click **here** for the solution.\n",
    "\n",
    "<!-- The answer is below:\n",
    "\n",
    "original_list = [2,3.75,.04,59.354,6,7.7777,8,9]\n",
    "only_ints = [number for number in original_list if type(number) == int]\n",
    "print(only_ints)\n",
    "\n",
    "-->\n",
    "\n"
   ]
  },
  {
   "cell_type": "markdown",
   "metadata": {
    "id": "o2mhBdbBYwAD"
   },
   "source": [
    "## Exercise 3 - Find all of the numbers from 1-1000 that are divisible by \n"
   ]
  },
  {
   "cell_type": "code",
   "execution_count": null,
   "metadata": {
    "id": "R9sWE2Q9YwAD"
   },
   "outputs": [],
   "source": [
    "# Code block for learners to answer\n"
   ]
  },
  {
   "cell_type": "markdown",
   "metadata": {
    "id": "GX5HHYrSYwAE"
   },
   "source": [
    "Double-click **here** for the solution.\n",
    "\n",
    "<!-- The answer is below:\n",
    "\n",
    "div7 = [n for n in range(1,1000) if n % 7 == 0] \n",
    "print(div7)\n",
    "\n",
    "-->\n",
    "\n"
   ]
  },
  {
   "cell_type": "markdown",
   "metadata": {
    "id": "wfk-iw7KYwAF"
   },
   "source": [
    "## Exercise 4 - Count the number of spaces in a string\n"
   ]
  },
  {
   "cell_type": "code",
   "execution_count": null,
   "metadata": {
    "id": "YDmySyEfYwAG"
   },
   "outputs": [],
   "source": [
    "# Code block for learners to answer\n"
   ]
  },
  {
   "cell_type": "markdown",
   "metadata": {
    "id": "ZStMGFH_YwAG"
   },
   "source": [
    "Double-click **here** for the solution.\n",
    "\n",
    "<!-- The answer is below:\n",
    "\n",
    "some_string = 'the slow solid squid swam sumptuously through the slimy swamp'\n",
    "spaces = [s for s in some_string if s == ' ']\n",
    "print(len(spaces))\n",
    "\n",
    "-->\n",
    "\n"
   ]
  },
  {
   "cell_type": "markdown",
   "metadata": {
    "id": "4Ei__d9mYwAH"
   },
   "source": [
    "## Exercise 5 - Find the common numbers in two lists (without using a tuple or set) list_a = [1, 2, 3, 4], list_b = [2, 3, 4, 5] result = [2, 3, 4]\n"
   ]
  },
  {
   "cell_type": "code",
   "execution_count": 5,
   "metadata": {
    "id": "XFqtcugKYwAI"
   },
   "outputs": [
    {
     "name": "stdout",
     "output_type": "stream",
     "text": [
      "[2, 3, 4]\n"
     ]
    }
   ],
   "source": [
    "# Code block for learners to answer\n",
    "\n",
    "list_a = [1, 2, 3, 4]\n",
    "list_b = [2, 3, 4, 7]\n",
    "common = [a for a in list_a if a  in list_b]\n",
    "print(common)\n"
   ]
  },
  {
   "cell_type": "markdown",
   "metadata": {
    "id": "QfrzFUFNYwAI"
   },
   "source": [
    "Double-click **here** for the solution.\n",
    "\n",
    "<!-- The answer is below:\n",
    "\n",
    "list_a = [1, 2, 3, 4]\n",
    "list_b = [2, 3, 4, 5]\n",
    "common = [a for a in list_a if a in list_b]\n",
    "print(common)\n",
    "\n",
    "-->\n",
    "\n"
   ]
  },
  {
   "cell_type": "markdown",
   "metadata": {
    "id": "t7DphyIoYwAK"
   },
   "source": [
    "## Exercise 6 - Given numbers = range(20), produce a list containing the word 'even' if a number in the numbers is even, and the word 'odd' \n"
   ]
  },
  {
   "cell_type": "code",
   "execution_count": null,
   "metadata": {
    "id": "7BkxcZw1YwAK"
   },
   "outputs": [],
   "source": [
    "# Code block for learners to answer\n"
   ]
  },
  {
   "cell_type": "markdown",
   "metadata": {
    "id": "GRiH-4m1YwAL"
   },
   "source": [
    "Double-click **here** for the solution.\n",
    "\n",
    "<!-- The answer is below:\n",
    "\n",
    "result = ['even' if n%2 == 0 else 'odd' for n in range(20)]\n",
    "print(result)\n",
    "\n",
    "-->\n",
    "\n"
   ]
  },
  {
   "cell_type": "markdown",
   "metadata": {
    "id": "-DNSnaVfYwAL"
   },
   "source": [
    "## Exercise 7 - Produce a list of tuples consisting of only the matching numbers in these lists list_a = [1, 2, 3,4,5,6,7,8,9], list_b = [2, 7, 1, 12].  Result would look like (4,4), (12,12)\n"
   ]
  },
  {
   "cell_type": "code",
   "execution_count": null,
   "metadata": {
    "id": "UqMfGWumYwAM"
   },
   "outputs": [],
   "source": [
    "# Code block for learners to answer\n"
   ]
  },
  {
   "cell_type": "markdown",
   "metadata": {
    "id": "31G3CoE7YwAM"
   },
   "source": [
    "Double-click **here** for the solution.\n",
    "\n",
    "<!-- The answer is below:\n",
    "\n",
    "list_a = [1, 2, 3,4,5,6,7,8,9]\n",
    "list_b = [2, 7, 1, 12]\n",
    "\n",
    "result = [(a, b) for a in list_a for b in list_b if a == b]\n",
    "print(result)\n",
    "\n",
    "-->\n",
    "\n"
   ]
  },
  {
   "cell_type": "markdown",
   "metadata": {
    "id": "knhvUPCkYwAN"
   },
   "source": [
    "## Exercise 8 - Use a nested list comprehension to find all of the numbers from 1-100 that are divisible by any single digit besides 1 (2-9)\n"
   ]
  },
  {
   "cell_type": "code",
   "execution_count": null,
   "metadata": {
    "id": "njYxC0gTYwAP"
   },
   "outputs": [],
   "source": [
    "# Code block for learners to answer\n"
   ]
  },
  {
   "cell_type": "markdown",
   "metadata": {
    "id": "5wxJwplGYwAP"
   },
   "source": [
    "Double-click **here** for the solution.\n",
    "\n",
    "<!-- The answer is below:\n",
    "\n",
    "result = [number for number in range(1,100) if True in [True for x in range(2,10) if number % x == 0]]\n",
    "print(result)\n",
    "\n",
    "-->\n",
    "\n"
   ]
  },
  {
   "cell_type": "markdown",
   "metadata": {
    "id": "wQCwEHEKYwAQ"
   },
   "source": [
    "## Exercise 9 - Using list comprehension, construct a list from the squares of each element in the list, if the square is greater than 50.\n"
   ]
  },
  {
   "cell_type": "code",
   "execution_count": null,
   "metadata": {
    "id": "ekYht1kBYwAQ"
   },
   "outputs": [],
   "source": [
    "# Code block for learners to answer\n"
   ]
  },
  {
   "cell_type": "markdown",
   "metadata": {
    "id": "Oq2boeXNYwAR"
   },
   "source": [
    "Double-click **here** for the solution.\n",
    "\n",
    "<!-- The answer is below:\n",
    "\n",
    "lst1=[2, 4, 6, 8, 10, 12, 14]\n",
    "lst2 = [i**2 for i in lst1 if i**2>50]\n",
    "\n",
    "-->\n",
    "\n"
   ]
  },
  {
   "cell_type": "markdown",
   "metadata": {
    "id": "VkaKCnKRYwAS"
   },
   "source": [
    "## Exercise 10 - Using list comprehension, construct a list from the squares of each element in the list, if the square is greater than 50.\n"
   ]
  },
  {
   "cell_type": "code",
   "execution_count": null,
   "metadata": {
    "id": "njw-pqcJYwAS"
   },
   "outputs": [],
   "source": [
    "# Code block for learners to answer\n"
   ]
  },
  {
   "cell_type": "markdown",
   "metadata": {
    "id": "1N4Hb_5tYwAT"
   },
   "source": [
    "Double-click **here** for the solution.\n",
    "\n",
    "<!-- The answer is below:\n",
    "\n",
    "lst1=[2, 4, 6, 8, 10, 12, 14]\n",
    "lst2 = [i**2 for i in lst1 if i**2>50]\n",
    "\n",
    "-->\n",
    "\n"
   ]
  },
  {
   "cell_type": "markdown",
   "metadata": {
    "id": "yEr7EhjkZbUB"
   },
   "source": [
    "## Exercise 11 - Given a Python list, write a program to remove all occurrences of item 20."
   ]
  },
  {
   "cell_type": "code",
   "execution_count": null,
   "metadata": {
    "id": "fQzxTv1pZxR-"
   },
   "outputs": [],
   "source": [
    "# Code block for learners to answer"
   ]
  },
  {
   "cell_type": "markdown",
   "metadata": {
    "id": "UlU7ALWRZy3u"
   },
   "source": [
    "Double-click **here** for the solution.\n",
    "\n",
    "<!-- The answer is below:\n",
    "\n",
    "list1 = [5, 20, 15, 20, 25, 50, 20]\n",
    "\n",
    "# remove specific items and return a new list\n",
    "def remove_value(sample_list, val):\n",
    "    return [i for i in sample_list if i != val]\n",
    "\n",
    "res = remove_value(list1, 20)\n",
    "print(res)\n",
    "\n",
    "-->\n"
   ]
  },
  {
   "cell_type": "markdown",
   "metadata": {
    "id": "KIimTyCMamJk"
   },
   "source": [
    "## Exercise 12 - create a list of even numbers between 0 and 9."
   ]
  },
  {
   "cell_type": "code",
   "execution_count": null,
   "metadata": {
    "id": "k3P2PgKnamJm"
   },
   "outputs": [],
   "source": [
    "# Code block for learners to answer"
   ]
  },
  {
   "cell_type": "markdown",
   "metadata": {
    "id": "089MDct-amJo"
   },
   "source": [
    "\n",
    "\n",
    "Double-click **here** for the solution.\n",
    "\n",
    "<!-- The answer is below:\n",
    "\n",
    "[i for i in range(10) if i%2 == 0]\n",
    "\n",
    "-->\n"
   ]
  },
  {
   "cell_type": "markdown",
   "metadata": {
    "id": "_uvJ57kLamef"
   },
   "source": [
    "## Exercise 13 - Square only the even numbers in mylist and store the result in a list."
   ]
  },
  {
   "cell_type": "code",
   "execution_count": null,
   "metadata": {
    "id": "dj-ZKZZzameg"
   },
   "outputs": [],
   "source": [
    "# Code block for learners to answer"
   ]
  },
  {
   "cell_type": "markdown",
   "metadata": {
    "id": "EzsrnbZWameg"
   },
   "source": [
    "Double-click **here** for the solution.\n",
    "\n",
    "<!-- The answer is below:\n",
    "\n",
    "mylist = [1,2,3,4,5]\n",
    "\n",
    "result = [i**2 for i in mylist if i%2==0]\n",
    "print(result)\n",
    "\n",
    "-->\n"
   ]
  },
  {
   "cell_type": "markdown",
   "metadata": {
    "id": "pVH2iyfmamp6"
   },
   "source": [
    "## Exercise 14 - In mylist, square the number if its even, else, cube it."
   ]
  },
  {
   "cell_type": "code",
   "execution_count": null,
   "metadata": {
    "id": "jefvyyuuamp7"
   },
   "outputs": [],
   "source": [
    "# Code block for learners to answer"
   ]
  },
  {
   "cell_type": "markdown",
   "metadata": {
    "id": "tQSXj8mZamp8"
   },
   "source": [
    "Double-click **here** for the solution.\n",
    "\n",
    "<!-- The answer is below:\n",
    "\n",
    "mylist = [1,2,3,4,5]\n",
    "\n",
    "[i**2 if i%2==0 else i**3 for i in mylist ]\n",
    "\n",
    "-->\n"
   ]
  },
  {
   "cell_type": "markdown",
   "metadata": {
    "id": "gSzuKUSGamys"
   },
   "source": [
    "## Exercise 15 - Flatten the matrix mat (a list of lists) keeping only the even numbers.\n",
    "\n",
    "mat = [[1,2,3,4], [5,6,7,8], [9,10,11,12], [13,14,15,16]]"
   ]
  },
  {
   "cell_type": "code",
   "execution_count": null,
   "metadata": {
    "id": "BiSjDUlcamyt"
   },
   "outputs": [],
   "source": [
    "# Code block for learners to answer"
   ]
  },
  {
   "cell_type": "markdown",
   "metadata": {
    "id": "gSuEd2aXamyt"
   },
   "source": [
    "Double-click **here** for the solution.\n",
    "\n",
    "<!-- The answer is below:\n",
    "\n",
    "mat = [[1,2,3,4], [5,6,7,8], [9,10,11,12], [13,14,15,16]]\n",
    "\n",
    "[i for row in mat for i in row if i%2==0]\n",
    "\n",
    "-->\n"
   ]
  }
 ],
 "metadata": {
  "colab": {
   "provenance": []
  },
  "kernelspec": {
   "display_name": "Python 3 (ipykernel)",
   "language": "python",
   "name": "python3"
  },
  "language_info": {
   "codemirror_mode": {
    "name": "ipython",
    "version": 3
   },
   "file_extension": ".py",
   "mimetype": "text/x-python",
   "name": "python",
   "nbconvert_exporter": "python",
   "pygments_lexer": "ipython3",
   "version": "3.9.12"
  },
  "nteract": {
   "version": "0.28.0"
  }
 },
 "nbformat": 4,
 "nbformat_minor": 1
}
