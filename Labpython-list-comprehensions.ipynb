{
  "cells": [
    {
      "cell_type": "markdown",
      "metadata": {
        "id": "6MFSMd-UYv_3"
      },
      "source": [
        "<img src=\"https://github.com/antonioGoncalves64/pyspark/blob/main/python.png?raw=1\" alt=\"drawing\" width=\"250\"/>"
      ]
    },
    {
      "cell_type": "markdown",
      "metadata": {
        "id": "MV8niY42Yv_8"
      },
      "source": [
        "# Lab List Comprehensions"
      ]
    },
    {
      "cell_type": "markdown",
      "metadata": {
        "id": "5WJPqj5gYv_9"
      },
      "source": [
        "## Exercise 1 - Given a list of numbers, remove all odd numbers from the list\n"
      ]
    },
    {
      "cell_type": "code",
      "execution_count": null,
      "metadata": {
        "id": "aI9eZ2ttYv_-"
      },
      "outputs": [],
      "source": [
        "# Code block for learners to answer\n"
      ]
    },
    {
      "cell_type": "markdown",
      "metadata": {
        "id": "bTvTEidqYwAA"
      },
      "source": [
        "Double-click **here** for the solution.\n",
        "\n",
        "<!-- The answer is below:\n",
        "\n",
        "result = [number for number in numbers if number % 2 == 0]\n",
        "print(result)\n",
        "\n",
        "-->\n",
        "\n"
      ]
    },
    {
      "cell_type": "markdown",
      "metadata": {
        "id": "hO4WueueYwAB"
      },
      "source": [
        "## Exercise 2 - Given a list of numbers, remove floats (numbers with decimals)\n"
      ]
    },
    {
      "cell_type": "code",
      "execution_count": null,
      "metadata": {
        "id": "nlLIk2dXYwAB"
      },
      "outputs": [],
      "source": [
        "# Code block for learners to answer\n"
      ]
    },
    {
      "cell_type": "markdown",
      "metadata": {
        "id": "-eP1cVP8YwAC"
      },
      "source": [
        "Double-click **here** for the solution.\n",
        "\n",
        "<!-- The answer is below:\n",
        "\n",
        "original_list = [2,3.75,.04,59.354,6,7.7777,8,9]\n",
        "only_ints = [number for number in original_list if type(number) == int]\n",
        "print(only_ints)\n",
        "\n",
        "-->\n",
        "\n"
      ]
    },
    {
      "cell_type": "markdown",
      "metadata": {
        "id": "o2mhBdbBYwAD"
      },
      "source": [
        "## Exercise 3 - Find all of the numbers from 1-1000 that are divisible by \n"
      ]
    },
    {
      "cell_type": "code",
      "execution_count": null,
      "metadata": {
        "id": "R9sWE2Q9YwAD"
      },
      "outputs": [],
      "source": [
        "# Code block for learners to answer\n"
      ]
    },
    {
      "cell_type": "markdown",
      "metadata": {
        "id": "GX5HHYrSYwAE"
      },
      "source": [
        "Double-click **here** for the solution.\n",
        "\n",
        "<!-- The answer is below:\n",
        "\n",
        "div7 = [n for n in range(1,1000) if n % 7 == 0] \n",
        "print(div7)\n",
        "\n",
        "-->\n",
        "\n"
      ]
    },
    {
      "cell_type": "markdown",
      "metadata": {
        "id": "wfk-iw7KYwAF"
      },
      "source": [
        "## Exercise 4 - Count the number of spaces in a string\n"
      ]
    },
    {
      "cell_type": "code",
      "execution_count": null,
      "metadata": {
        "id": "YDmySyEfYwAG"
      },
      "outputs": [],
      "source": [
        "# Code block for learners to answer\n"
      ]
    },
    {
      "cell_type": "markdown",
      "metadata": {
        "id": "ZStMGFH_YwAG"
      },
      "source": [
        "Double-click **here** for the solution.\n",
        "\n",
        "<!-- The answer is below:\n",
        "\n",
        "some_string = 'the slow solid squid swam sumptuously through the slimy swamp'\n",
        "spaces = [s for s in some_string if s == ' ']\n",
        "print(len(spaces))\n",
        "\n",
        "-->\n",
        "\n"
      ]
    },
    {
      "cell_type": "markdown",
      "metadata": {
        "id": "4Ei__d9mYwAH"
      },
      "source": [
        "## Exercise 5 - Find the common numbers in two lists (without using a tuple or set) list_a = [1, 2, 3, 4], list_b = [2, 3, 4, 5] result = [2, 3, 4]\n"
      ]
    },
    {
      "cell_type": "code",
      "execution_count": null,
      "metadata": {
        "id": "XFqtcugKYwAI"
      },
      "outputs": [],
      "source": [
        "# Code block for learners to answer\n"
      ]
    },
    {
      "cell_type": "markdown",
      "metadata": {
        "id": "QfrzFUFNYwAI"
      },
      "source": [
        "Double-click **here** for the solution.\n",
        "\n",
        "<!-- The answer is below:\n",
        "\n",
        "list_a = [1, 2, 3, 4]\n",
        "list_b = [2, 3, 4, 5]\n",
        "common = [a for a in list_a if a in list_b]\n",
        "print(common)\n",
        "\n",
        "-->\n",
        "\n"
      ]
    },
    {
      "cell_type": "markdown",
      "metadata": {
        "id": "t7DphyIoYwAK"
      },
      "source": [
        "## Exercise 6 - Given numbers = range(20), produce a list containing the word 'even' if a number in the numbers is even, and the word 'odd' \n"
      ]
    },
    {
      "cell_type": "code",
      "execution_count": null,
      "metadata": {
        "id": "7BkxcZw1YwAK"
      },
      "outputs": [],
      "source": [
        "# Code block for learners to answer\n"
      ]
    },
    {
      "cell_type": "markdown",
      "metadata": {
        "id": "GRiH-4m1YwAL"
      },
      "source": [
        "Double-click **here** for the solution.\n",
        "\n",
        "<!-- The answer is below:\n",
        "\n",
        "result = ['even' if n%2 == 0 else 'odd' for n in range(20)]\n",
        "print(result)\n",
        "\n",
        "-->\n",
        "\n"
      ]
    },
    {
      "cell_type": "markdown",
      "metadata": {
        "id": "-DNSnaVfYwAL"
      },
      "source": [
        "## Exercise 7 - Produce a list of tuples consisting of only the matching numbers in these lists list_a = [1, 2, 3,4,5,6,7,8,9], list_b = [2, 7, 1, 12].  Result would look like (4,4), (12,12)\n"
      ]
    },
    {
      "cell_type": "code",
      "execution_count": null,
      "metadata": {
        "id": "UqMfGWumYwAM"
      },
      "outputs": [],
      "source": [
        "# Code block for learners to answer\n"
      ]
    },
    {
      "cell_type": "markdown",
      "metadata": {
        "id": "31G3CoE7YwAM"
      },
      "source": [
        "Double-click **here** for the solution.\n",
        "\n",
        "<!-- The answer is below:\n",
        "\n",
        "list_a = [1, 2, 3,4,5,6,7,8,9]\n",
        "list_b = [2, 7, 1, 12]\n",
        "\n",
        "result = [(a, b) for a in list_a for b in list_b if a == b]\n",
        "print(result)\n",
        "\n",
        "-->\n",
        "\n"
      ]
    },
    {
      "cell_type": "markdown",
      "metadata": {
        "id": "knhvUPCkYwAN"
      },
      "source": [
        "## Exercise 8 - Use a nested list comprehension to find all of the numbers from 1-100 that are divisible by any single digit besides 1 (2-9)\n"
      ]
    },
    {
      "cell_type": "code",
      "execution_count": null,
      "metadata": {
        "id": "njYxC0gTYwAP"
      },
      "outputs": [],
      "source": [
        "# Code block for learners to answer\n"
      ]
    },
    {
      "cell_type": "markdown",
      "metadata": {
        "id": "5wxJwplGYwAP"
      },
      "source": [
        "Double-click **here** for the solution.\n",
        "\n",
        "<!-- The answer is below:\n",
        "\n",
        "result = [number for number in range(1,100) if True in [True for x in range(2,10) if number % x == 0]]\n",
        "print(result)\n",
        "\n",
        "-->\n",
        "\n"
      ]
    },
    {
      "cell_type": "markdown",
      "metadata": {
        "id": "wQCwEHEKYwAQ"
      },
      "source": [
        "## Exercise 9 - Using list comprehension, construct a list from the squares of each element in the list, if the square is greater than 50.\n"
      ]
    },
    {
      "cell_type": "code",
      "execution_count": null,
      "metadata": {
        "id": "ekYht1kBYwAQ"
      },
      "outputs": [],
      "source": [
        "# Code block for learners to answer\n"
      ]
    },
    {
      "cell_type": "markdown",
      "metadata": {
        "id": "Oq2boeXNYwAR"
      },
      "source": [
        "Double-click **here** for the solution.\n",
        "\n",
        "<!-- The answer is below:\n",
        "\n",
        "lst1=[2, 4, 6, 8, 10, 12, 14]\n",
        "lst2 = [i**2 for i in lst1 if i**2>50]\n",
        "\n",
        "-->\n",
        "\n"
      ]
    },
    {
      "cell_type": "markdown",
      "metadata": {
        "id": "VkaKCnKRYwAS"
      },
      "source": [
        "## Exercise 10 - Using list comprehension, construct a list from the squares of each element in the list, if the square is greater than 50.\n"
      ]
    },
    {
      "cell_type": "code",
      "execution_count": null,
      "metadata": {
        "id": "njw-pqcJYwAS"
      },
      "outputs": [],
      "source": [
        "# Code block for learners to answer\n"
      ]
    },
    {
      "cell_type": "markdown",
      "metadata": {
        "id": "1N4Hb_5tYwAT"
      },
      "source": [
        "Double-click **here** for the solution.\n",
        "\n",
        "<!-- The answer is below:\n",
        "\n",
        "lst1=[2, 4, 6, 8, 10, 12, 14]\n",
        "lst2 = [i**2 for i in lst1 if i**2>50]\n",
        "\n",
        "-->\n",
        "\n"
      ]
    },
    {
      "cell_type": "markdown",
      "source": [
        "## Exercise 11 - Given a Python list, write a program to remove all occurrences of item 20."
      ],
      "metadata": {
        "id": "yEr7EhjkZbUB"
      }
    },
    {
      "cell_type": "code",
      "source": [
        "# Code block for learners to answer"
      ],
      "metadata": {
        "id": "fQzxTv1pZxR-"
      },
      "execution_count": 1,
      "outputs": []
    },
    {
      "cell_type": "markdown",
      "source": [
        "Double-click **here** for the solution.\n",
        "\n",
        "<!-- The answer is below:\n",
        "\n",
        "list1 = [5, 20, 15, 20, 25, 50, 20]\n",
        "\n",
        "# remove specific items and return a new list\n",
        "def remove_value(sample_list, val):\n",
        "    return [i for i in sample_list if i != val]\n",
        "\n",
        "res = remove_value(list1, 20)\n",
        "print(res)\n",
        "\n",
        "-->\n"
      ],
      "metadata": {
        "id": "UlU7ALWRZy3u"
      }
    }
  ],
  "metadata": {
    "kernelspec": {
      "display_name": "Python 3 (ipykernel)",
      "language": "python",
      "name": "python3"
    },
    "language_info": {
      "codemirror_mode": {
        "name": "ipython",
        "version": 3
      },
      "file_extension": ".py",
      "mimetype": "text/x-python",
      "name": "python",
      "nbconvert_exporter": "python",
      "pygments_lexer": "ipython3",
      "version": "3.9.12"
    },
    "nteract": {
      "version": "0.28.0"
    },
    "colab": {
      "provenance": []
    }
  },
  "nbformat": 4,
  "nbformat_minor": 0
}