{
  "nbformat": 4,
  "nbformat_minor": 0,
  "metadata": {
    "colab": {
      "provenance": []
    },
    "kernelspec": {
      "name": "python3",
      "display_name": "Python 3"
    },
    "language_info": {
      "name": "python"
    }
  },
  "cells": [
    {
      "cell_type": "markdown",
      "source": [
        "\n",
        "![spark.png](data:image/png;base64,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)"
      ],
      "metadata": {
        "id": "8Z1Gy9tVxz1B"
      }
    },
    {
      "cell_type": "markdown",
      "source": [
        "# Problem to solve:  Perform customer segmentation on the e-commerce using Machine Learning"
      ],
      "metadata": {
        "id": "HlXzSIzCzApB"
      }
    },
    {
      "cell_type": "markdown",
      "source": [
        "By the end of this lab, you will be familiar with the following concepts:\n",
        "\n",
        "1. Reading csv files with PySpark\n",
        "1. Exploratory Data Analysis with PySpark\n",
        "1. Grouping and sorting data\n",
        "1. Performing arithmetic operations\n",
        "1. Aggregating datasets\n",
        "1. Data Pre-Processing with PySpark\n",
        "1. Working with datetime values\n",
        "1. Type conversion\n",
        "1. Joining two dataframes\n",
        "1. The rank() function\n",
        "1. PySpark Machine Learning\n",
        "1. Creating a feature vector\n",
        "1. Standardizing data\n",
        "1. Building a K-Means clustering model\n",
        "1. Interpreting the model\n"
      ],
      "metadata": {
        "id": "c2Lx0QznzfdQ"
      }
    },
    {
      "cell_type": "markdown",
      "source": [
        "# Install pyspark"
      ],
      "metadata": {
        "id": "Zxxchy_VpoAQ"
      }
    },
    {
      "cell_type": "code",
      "execution_count": 1,
      "metadata": {
        "colab": {
          "base_uri": "https://localhost:8080/"
        },
        "id": "5mSUlYfleBaB",
        "outputId": "72fff384-0c01-44ea-eacf-94c6cb359c4d"
      },
      "outputs": [
        {
          "output_type": "stream",
          "name": "stdout",
          "text": [
            "Looking in indexes: https://pypi.org/simple, https://us-python.pkg.dev/colab-wheels/public/simple/\n",
            "Collecting pyspark\n",
            "  Downloading pyspark-3.3.1.tar.gz (281.4 MB)\n",
            "\u001b[K     |████████████████████████████████| 281.4 MB 32 kB/s \n",
            "\u001b[?25hCollecting py4j==0.10.9.5\n",
            "  Downloading py4j-0.10.9.5-py2.py3-none-any.whl (199 kB)\n",
            "\u001b[K     |████████████████████████████████| 199 kB 53.1 MB/s \n",
            "\u001b[?25hBuilding wheels for collected packages: pyspark\n",
            "  Building wheel for pyspark (setup.py) ... \u001b[?25l\u001b[?25hdone\n",
            "  Created wheel for pyspark: filename=pyspark-3.3.1-py2.py3-none-any.whl size=281845512 sha256=83d75d918c80f8774e3bf109795c19601e21b5bbc5ce1105e238c671112e9954\n",
            "  Stored in directory: /root/.cache/pip/wheels/43/dc/11/ec201cd671da62fa9c5cc77078235e40722170ceba231d7598\n",
            "Successfully built pyspark\n",
            "Installing collected packages: py4j, pyspark\n",
            "Successfully installed py4j-0.10.9.5 pyspark-3.3.1\n",
            "Looking in indexes: https://pypi.org/simple, https://us-python.pkg.dev/colab-wheels/public/simple/\n",
            "Collecting findspark\n",
            "  Downloading findspark-2.0.1-py2.py3-none-any.whl (4.4 kB)\n",
            "Installing collected packages: findspark\n",
            "Successfully installed findspark-2.0.1\n"
          ]
        }
      ],
      "source": [
        "!pip install pyspark\n",
        "!pip install findspark"
      ]
    },
    {
      "cell_type": "markdown",
      "source": [
        "# Creating a SparkSession\n",
        "\n",
        "A SparkSession is an entry point into all functionality in Spark, and is required if you want to build a dataframe in PySpark. Run the following lines of code to initialize a SparkSession.\n",
        "\n",
        "Using the codes bellow, we built a spark session and set a name for the application. Then, the data was cached in off-heap memory to avoid storing it directly on disk, and the amount of memory was manually specified."
      ],
      "metadata": {
        "id": "4okpNe9Bptwn"
      }
    },
    {
      "cell_type": "code",
      "source": [
        "from pyspark.sql import SparkSession\n",
        "import findspark\n",
        "\n",
        "findspark.init()\n",
        "\n",
        "spark = SparkSession.builder.appName(\"Pyspark Tutorial\")\\\n",
        "                    .config(\"spark.memory.offHeap.enabled\",\"true\")\\\n",
        "                    .config(\"spark.memory.offHeap.size\",\"10g\")\\\n",
        "                    .getOrCreate()\n",
        "\n",
        "\n",
        "# check spark configuration\n",
        "\n",
        "spark"
      ],
      "metadata": {
        "id": "uJeOnmA1eH5j",
        "outputId": "a153a0c9-0883-4b81-eb4b-257fd57e0884",
        "colab": {
          "base_uri": "https://localhost:8080/",
          "height": 219
        }
      },
      "execution_count": 3,
      "outputs": [
        {
          "output_type": "execute_result",
          "data": {
            "text/plain": [
              "<pyspark.sql.session.SparkSession at 0x7f5f6b614a30>"
            ],
            "text/html": [
              "\n",
              "            <div>\n",
              "                <p><b>SparkSession - in-memory</b></p>\n",
              "                \n",
              "        <div>\n",
              "            <p><b>SparkContext</b></p>\n",
              "\n",
              "            <p><a href=\"http://11d28d021a8c:4040\">Spark UI</a></p>\n",
              "\n",
              "            <dl>\n",
              "              <dt>Version</dt>\n",
              "                <dd><code>v3.3.1</code></dd>\n",
              "              <dt>Master</dt>\n",
              "                <dd><code>local[*]</code></dd>\n",
              "              <dt>AppName</dt>\n",
              "                <dd><code>Datacamp Pyspark Tutorial</code></dd>\n",
              "            </dl>\n",
              "        </div>\n",
              "        \n",
              "            </div>\n",
              "        "
            ]
          },
          "metadata": {},
          "execution_count": 3
        }
      ]
    },
    {
      "cell_type": "markdown",
      "source": [
        "# Creating the DataFrame from a csv"
      ],
      "metadata": {
        "id": "IwD3mc7HpyZ2"
      }
    },
    {
      "cell_type": "code",
      "source": [
        "# Download the data first into a local `OnlineRetail.csv` file\n",
        "\n",
        "!curl https://raw.githubusercontent.com/antonioGoncalves64/pyspark/main/OnlineRetail.csv >> OnlineRetail.csv\n",
        "\n",
        "\n",
        "\n",
        "df = spark.read.csv('OnlineRetail.csv',header=True,sep=\";\")"
      ],
      "metadata": {
        "id": "ppsuabFJeOAZ",
        "colab": {
          "base_uri": "https://localhost:8080/"
        },
        "outputId": "2d5f4ca7-ab14-418f-dc8c-f0bc13d7e46b"
      },
      "execution_count": 5,
      "outputs": [
        {
          "output_type": "stream",
          "name": "stdout",
          "text": [
            "  % Total    % Received % Xferd  Average Speed   Time    Time     Time  Current\n",
            "                                 Dload  Upload   Total   Spent    Left  Speed\n",
            "100 43.4M  100 43.4M    0     0  25.2M      0  0:00:01  0:00:01 --:--:-- 25.2M\n"
          ]
        }
      ]
    },
    {
      "cell_type": "markdown",
      "source": [
        "# Look at the head of the dataframe"
      ],
      "metadata": {
        "id": "lftSwF2iqBur"
      }
    },
    {
      "cell_type": "code",
      "source": [
        "df.show(5,0)"
      ],
      "metadata": {
        "colab": {
          "base_uri": "https://localhost:8080/"
        },
        "id": "Oss3hHQtlOoG",
        "outputId": "97ffe30a-ba0d-4c18-8a20-60c0d1d71c35"
      },
      "execution_count": 6,
      "outputs": [
        {
          "output_type": "stream",
          "name": "stdout",
          "text": [
            "+---------+---------+-----------------------------------+--------+----------------+---------+----------+--------------+\n",
            "|InvoiceNo|StockCode|Description                        |Quantity|InvoiceDate     |UnitPrice|CustomerID|Country       |\n",
            "+---------+---------+-----------------------------------+--------+----------------+---------+----------+--------------+\n",
            "|536365   |85123A   |WHITE HANGING HEART T-LIGHT HOLDER |6       |01/12/2010 08:26|2.55     |17850     |United Kingdom|\n",
            "|536365   |71053    |WHITE METAL LANTERN                |6       |01/12/2010 08:26|3.39     |17850     |United Kingdom|\n",
            "|536365   |84406B   |CREAM CUPID HEARTS COAT HANGER     |8       |01/12/2010 08:26|2.75     |17850     |United Kingdom|\n",
            "|536365   |84029G   |KNITTED UNION FLAG HOT WATER BOTTLE|6       |01/12/2010 08:26|3.39     |17850     |United Kingdom|\n",
            "|536365   |84029E   |RED WOOLLY HOTTIE WHITE HEART.     |6       |01/12/2010 08:26|3.39     |17850     |United Kingdom|\n",
            "+---------+---------+-----------------------------------+--------+----------------+---------+----------+--------------+\n",
            "only showing top 5 rows\n",
            "\n"
          ]
        }
      ]
    },
    {
      "cell_type": "markdown",
      "source": [
        "The dataframe consists of 8 variables:\n",
        "\n",
        "* **InvoiceNo:** The unique identifier of each customer invoice.\n",
        "* **StockCode:** The unique identifier of each item in stock.\n",
        "* **Description:** The item purchased by the customer.\n",
        "* **Quantity:** The number of each item purchased by a customer in a single invoice.\n",
        "* **InvoiceDate:** The purchase date.\n",
        "* **UnitPrice:** Price of one unit of each item.\n",
        "* **CustomerID:** Unique identifier assigned to each user.\n",
        "* **Country:** The country from where the purchase was made"
      ],
      "metadata": {
        "id": "fTTLksfx3HP0"
      }
    },
    {
      "cell_type": "markdown",
      "source": [
        "# Exploratory Data Analysis\n",
        "\n",
        "Perform some exploratory data analysis to further understand these data points:\n",
        "\n",
        "* Number of rows in the dataframe: **541909**\n",
        "* How many unique customers are present in the dataframe: **4373**\n",
        "* What country do most purchases come from: **United Kingdom 3950**\n",
        "* When was the most recent purchase made by a customer on the e-commerce platform: **2011-06-13 15:30:00**\n",
        "* When was the earliest purchase made by a customer on the e-commerce platform: **2010-12-01 08:26:00**"
      ],
      "metadata": {
        "id": "V8yX-nhEqGJ6"
      }
    },
    {
      "cell_type": "markdown",
      "source": [
        "## Count the number of rows in the dataframe"
      ],
      "metadata": {
        "id": "xYUBnDnbq5Zi"
      }
    },
    {
      "cell_type": "code",
      "source": [
        "df.count()"
      ],
      "metadata": {
        "colab": {
          "base_uri": "https://localhost:8080/"
        },
        "id": "m-9txs-Pnh2Q",
        "outputId": "911085b2-5b9f-49cf-99f1-9180e918f026"
      },
      "execution_count": 7,
      "outputs": [
        {
          "output_type": "execute_result",
          "data": {
            "text/plain": [
              "541909"
            ]
          },
          "metadata": {},
          "execution_count": 7
        }
      ]
    },
    {
      "cell_type": "markdown",
      "source": [
        "## Count how many unique customers are present in the dataframe\n",
        "\n",
        "```\n",
        "# This is formatted as code\n",
        "```\n",
        "\n"
      ],
      "metadata": {
        "id": "h_oPAVygq-wR"
      }
    },
    {
      "cell_type": "code",
      "source": [
        "df.select('CustomerID').distinct().count()"
      ],
      "metadata": {
        "colab": {
          "base_uri": "https://localhost:8080/"
        },
        "id": "JRor1x2xnpQW",
        "outputId": "873a26b3-8799-4532-c75e-114848e7f9e5"
      },
      "execution_count": 8,
      "outputs": [
        {
          "output_type": "execute_result",
          "data": {
            "text/plain": [
              "4373"
            ]
          },
          "metadata": {},
          "execution_count": 8
        }
      ]
    },
    {
      "cell_type": "markdown",
      "source": [
        "## What country do most purchases come from"
      ],
      "metadata": {
        "id": "YTbx51yJrMyo"
      }
    },
    {
      "cell_type": "code",
      "source": [
        "from pyspark.sql.functions import *\n",
        "from pyspark.sql.types import *\n",
        "\n",
        "df.groupBy('Country').agg(countDistinct('CustomerID').alias('country_count')).orderBy(desc('country_count')).show()"
      ],
      "metadata": {
        "colab": {
          "base_uri": "https://localhost:8080/"
        },
        "id": "SnRmgb79nyVC",
        "outputId": "4a17f42e-bd58-44e9-efc6-bbc1e584d44c"
      },
      "execution_count": 9,
      "outputs": [
        {
          "output_type": "stream",
          "name": "stdout",
          "text": [
            "+---------------+-------------+\n",
            "|        Country|country_count|\n",
            "+---------------+-------------+\n",
            "| United Kingdom|         3950|\n",
            "|        Germany|           95|\n",
            "|         France|           87|\n",
            "|          Spain|           31|\n",
            "|        Belgium|           25|\n",
            "|    Switzerland|           21|\n",
            "|       Portugal|           19|\n",
            "|          Italy|           15|\n",
            "|        Finland|           12|\n",
            "|        Austria|           11|\n",
            "|         Norway|           10|\n",
            "|Channel Islands|            9|\n",
            "|      Australia|            9|\n",
            "|    Netherlands|            9|\n",
            "|        Denmark|            9|\n",
            "|         Cyprus|            8|\n",
            "|          Japan|            8|\n",
            "|         Sweden|            8|\n",
            "|         Poland|            6|\n",
            "|         Greece|            4|\n",
            "+---------------+-------------+\n",
            "only showing top 20 rows\n",
            "\n"
          ]
        }
      ]
    },
    {
      "cell_type": "markdown",
      "source": [
        "## When was the most recent purchase made by a customer on the e-commerce platform?"
      ],
      "metadata": {
        "id": "lar0QdCzrykp"
      }
    },
    {
      "cell_type": "code",
      "source": [
        "spark.sql(\"set spark.sql.legacy.timeParserPolicy=LEGACY\")\n",
        "df = df.withColumn('date',to_timestamp(\"InvoiceDate\", 'dd/MM/yy HH:mm'))\n",
        "df.select(max(\"date\")).show()"
      ],
      "metadata": {
        "colab": {
          "base_uri": "https://localhost:8080/"
        },
        "id": "QAdQHV2ioZkD",
        "outputId": "526a4f40-ec25-4e7b-97a7-deae5e4b55ad"
      },
      "execution_count": 12,
      "outputs": [
        {
          "output_type": "stream",
          "name": "stdout",
          "text": [
            "+-------------------+\n",
            "|          max(date)|\n",
            "+-------------------+\n",
            "|2011-12-09 12:50:00|\n",
            "+-------------------+\n",
            "\n"
          ]
        }
      ]
    },
    {
      "cell_type": "markdown",
      "source": [
        "## When was the earliest purchase made by a customer on the e-commerce platform?"
      ],
      "metadata": {
        "id": "KzqFlY4nsQTs"
      }
    },
    {
      "cell_type": "code",
      "source": [
        "df.select(min(\"date\")).show()"
      ],
      "metadata": {
        "colab": {
          "base_uri": "https://localhost:8080/"
        },
        "id": "LIJcFZ-7ow6A",
        "outputId": "b50504df-4134-4935-cfd7-7461b9a37ba5"
      },
      "execution_count": 13,
      "outputs": [
        {
          "output_type": "stream",
          "name": "stdout",
          "text": [
            "+-------------------+\n",
            "|          min(date)|\n",
            "+-------------------+\n",
            "|2010-12-01 08:26:00|\n",
            "+-------------------+\n",
            "\n"
          ]
        }
      ]
    },
    {
      "cell_type": "markdown",
      "source": [
        "# Data Pre-processing\n",
        "\n",
        "Now that we have analyzed the dataset and have a better understanding of each data point, we need to prepare the data to feed into the machine learning algorithm.\n",
        "\n",
        "we need to create multiple customer segments based on each user’s purchase behavior. \n",
        "\n",
        "The variables in this dataset are in a format that cannot be easily ingested into the customer segmentation model. These features individually do not tell us much about customer purchase behavior.\n",
        "\n",
        "Due to this, we will use the existing variables to derive three new informative features - **Recency**, **Frequency**, and **Monetary value** (_RFM_). \n",
        "\n",
        "_RFM_ is commonly used in marketing to evaluate a client’s value based on their:\n",
        "\n",
        "* **Recency:** How recently has each customer made a purchase?\n",
        "\n",
        "* **Frequency:** How often have they bought something?\n",
        "\n",
        "* **Monetary Value:** How much money do they spend on average when making purchases?\n",
        "\n",
        "We will now preprocess the dataframe to create the above variables."
      ],
      "metadata": {
        "id": "kjQZ7fJStdV4"
      }
    },
    {
      "cell_type": "markdown",
      "source": [
        "## Recency\n",
        "\n",
        "First, let’s calculate the value of recency - the latest date and time a purchase was made on the platform. This can be achieved in two steps:"
      ],
      "metadata": {
        "id": "LhETrKJJt_V6"
      }
    },
    {
      "cell_type": "markdown",
      "source": [
        "### Assign a recency score to each customer\n",
        "\n",
        "We will subtract every date in the dataframe from the earliest date. This will tell us how recently a customer was seen in the dataframe. A value of 0 indicates the lowest recency, as it will be assigned to the person who was seen making a purchase on the earliest date."
      ],
      "metadata": {
        "id": "rxLmvJiCuJUA"
      }
    },
    {
      "cell_type": "code",
      "source": [
        "df = df.withColumn(\"from_date\", lit(\"01/12/10 08:26\"))\n",
        "df = df.withColumn('from_date',to_timestamp(\"from_date\", 'dd/MM/yy HH:mm'))\n",
        "\n",
        "df2=df.withColumn('from_date',to_timestamp(col('from_date'))).withColumn('recency',col(\"date\").cast(\"long\") - col('from_date').cast(\"long\"))"
      ],
      "metadata": {
        "id": "mBXF4jHkuU4I"
      },
      "execution_count": 14,
      "outputs": []
    },
    {
      "cell_type": "code",
      "source": [
        "df2 = df2.join(df2.groupBy('CustomerID').agg(max('recency').alias('recency')),on='recency',how='leftsemi')"
      ],
      "metadata": {
        "id": "KwX-SY9cutl6"
      },
      "execution_count": 15,
      "outputs": []
    },
    {
      "cell_type": "code",
      "source": [
        "df2.show(5,0)"
      ],
      "metadata": {
        "colab": {
          "base_uri": "https://localhost:8080/"
        },
        "id": "68rv_KQ2uw-x",
        "outputId": "2055cef5-5e88-4d2d-c8f3-e9d94f419747"
      },
      "execution_count": 24,
      "outputs": [
        {
          "output_type": "stream",
          "name": "stdout",
          "text": [
            "+-------+---------+---------+-----------------------------------+--------+----------------+---------+----------+--------------+-------------------+-------------------+\n",
            "|recency|InvoiceNo|StockCode|Description                        |Quantity|InvoiceDate     |UnitPrice|CustomerID|Country       |from_date          |date               |\n",
            "+-------+---------+---------+-----------------------------------+--------+----------------+---------+----------+--------------+-------------------+-------------------+\n",
            "|5220   |536384   |82484    |WOOD BLACK BOARD ANT WHITE FINISH  |3       |01/12/2010 09:53|6.45     |18074     |United Kingdom|2010-12-01 08:26:00|2010-12-01 09:53:00|\n",
            "|5220   |536384   |84755    |COLOUR GLASS T-LIGHT HOLDER HANGING|48      |01/12/2010 09:53|0.65     |18074     |United Kingdom|2010-12-01 08:26:00|2010-12-01 09:53:00|\n",
            "|5220   |536384   |22464    |HANGING METAL HEART LANTERN        |12      |01/12/2010 09:53|1.65     |18074     |United Kingdom|2010-12-01 08:26:00|2010-12-01 09:53:00|\n",
            "|5220   |536384   |21324    |HANGING MEDINA LANTERN SMALL       |6       |01/12/2010 09:53|2.95     |18074     |United Kingdom|2010-12-01 08:26:00|2010-12-01 09:53:00|\n",
            "|5220   |536384   |22457    |NATURAL SLATE HEART CHALKBOARD     |12      |01/12/2010 09:53|2.95     |18074     |United Kingdom|2010-12-01 08:26:00|2010-12-01 09:53:00|\n",
            "+-------+---------+---------+-----------------------------------+--------+----------------+---------+----------+--------------+-------------------+-------------------+\n",
            "only showing top 5 rows\n",
            "\n"
          ]
        }
      ]
    },
    {
      "cell_type": "markdown",
      "source": [
        "An easier way to view all the variables present in a PySpark dataframe is to use its printSchema() function"
      ],
      "metadata": {
        "id": "k3dsG_68S3Dw"
      }
    },
    {
      "cell_type": "code",
      "source": [
        "df2.printSchema()"
      ],
      "metadata": {
        "colab": {
          "base_uri": "https://localhost:8080/"
        },
        "id": "_sT1XSqowAYJ",
        "outputId": "0f5d347a-b4bd-4517-8b8d-7597d27ad6a2"
      },
      "execution_count": 26,
      "outputs": [
        {
          "output_type": "stream",
          "name": "stdout",
          "text": [
            "root\n",
            " |-- recency: long (nullable = true)\n",
            " |-- InvoiceNo: string (nullable = true)\n",
            " |-- StockCode: string (nullable = true)\n",
            " |-- Description: string (nullable = true)\n",
            " |-- Quantity: string (nullable = true)\n",
            " |-- InvoiceDate: string (nullable = true)\n",
            " |-- UnitPrice: string (nullable = true)\n",
            " |-- CustomerID: string (nullable = true)\n",
            " |-- Country: string (nullable = true)\n",
            " |-- from_date: timestamp (nullable = true)\n",
            " |-- date: timestamp (nullable = true)\n",
            "\n"
          ]
        }
      ]
    },
    {
      "cell_type": "markdown",
      "source": [
        "## Frequency\n",
        "\n",
        "Let’s now calculate the value of frequency - how often a customer bought something on the platform. To do this, we just need to group by each customer ID and count the number of items they purchased."
      ],
      "metadata": {
        "id": "fs_ZlB4KwIgN"
      }
    },
    {
      "cell_type": "code",
      "source": [
        "df_freq = df2.groupBy('CustomerID').agg(count('InvoiceDate').alias('frequency'))\n",
        "\n",
        "df_freq.show(5,0)"
      ],
      "metadata": {
        "colab": {
          "base_uri": "https://localhost:8080/"
        },
        "id": "bbPOWWr6wMx6",
        "outputId": "edca27d9-0f69-4758-e2a0-185a4d85a1cc"
      },
      "execution_count": 25,
      "outputs": [
        {
          "output_type": "stream",
          "name": "stdout",
          "text": [
            "+----------+---------+\n",
            "|CustomerID|frequency|\n",
            "+----------+---------+\n",
            "|17714     |10       |\n",
            "|16250     |10       |\n",
            "|15574     |9        |\n",
            "|16320     |9        |\n",
            "|17551     |43       |\n",
            "+----------+---------+\n",
            "only showing top 5 rows\n",
            "\n"
          ]
        }
      ]
    },
    {
      "cell_type": "markdown",
      "source": [
        "There is a frequency value appended to each customer in the dataframe. This new dataframe only has two columns, and we need to join it with the previous one"
      ],
      "metadata": {
        "id": "oeGhASHHTLat"
      }
    },
    {
      "cell_type": "code",
      "source": [
        "df3 = df2.join(df_freq,on='CustomerID',how='inner')\n",
        "df3.printSchema()"
      ],
      "metadata": {
        "colab": {
          "base_uri": "https://localhost:8080/"
        },
        "id": "GuekUq-Cwaj4",
        "outputId": "53f7b8cd-43ab-4f27-b8bb-792349261d6f"
      },
      "execution_count": 27,
      "outputs": [
        {
          "output_type": "stream",
          "name": "stdout",
          "text": [
            "root\n",
            " |-- CustomerID: string (nullable = true)\n",
            " |-- recency: long (nullable = true)\n",
            " |-- InvoiceNo: string (nullable = true)\n",
            " |-- StockCode: string (nullable = true)\n",
            " |-- Description: string (nullable = true)\n",
            " |-- Quantity: string (nullable = true)\n",
            " |-- InvoiceDate: string (nullable = true)\n",
            " |-- UnitPrice: string (nullable = true)\n",
            " |-- Country: string (nullable = true)\n",
            " |-- from_date: timestamp (nullable = true)\n",
            " |-- date: timestamp (nullable = true)\n",
            " |-- frequency: long (nullable = false)\n",
            "\n"
          ]
        }
      ]
    },
    {
      "cell_type": "markdown",
      "source": [
        "### Monetary Value\n",
        "\n",
        "Finally, let’s calculate monetary value - the total amount spent by each customer in the dataframe. There are two steps to achieving this:\n",
        "\n",
        "* Find the total amount spent in each purchase\n",
        "* Find the total amount spent by each customer"
      ],
      "metadata": {
        "id": "cTQq5Ze9wi3_"
      }
    },
    {
      "cell_type": "markdown",
      "source": [
        "### Find the total amount spent in each purchase\n",
        "Each customerID comes with variables called “Quantity” and “UnitPrice” for a single purchase. To get the total amount spent by each customer in one purchase, we need to multiply “Quantity” with “UnitPrice”"
      ],
      "metadata": {
        "id": "ob1Id33lw8fy"
      }
    },
    {
      "cell_type": "code",
      "source": [
        "m_val = df3.withColumn('TotalAmount',col(\"Quantity\") * col(\"UnitPrice\"))\n",
        "\n"
      ],
      "metadata": {
        "id": "rrGWw3kywmeu"
      },
      "execution_count": 28,
      "outputs": []
    },
    {
      "cell_type": "markdown",
      "source": [
        "###Find the total amount spent by each customer. o find the total amount spent by each customer overall, we just need to group by the CustomerID column and sum the total amount spent"
      ],
      "metadata": {
        "id": "M51pE1M3xRbo"
      }
    },
    {
      "cell_type": "code",
      "source": [
        "m_val = m_val.groupBy('CustomerID').agg(sum('TotalAmount').alias('monetary_value'))"
      ],
      "metadata": {
        "id": "Kqdc3EdIxWW2"
      },
      "execution_count": 29,
      "outputs": []
    },
    {
      "cell_type": "markdown",
      "source": [
        "Merge this dataframe with the all the other variables"
      ],
      "metadata": {
        "id": "vkQgiGSGxcu9"
      }
    },
    {
      "cell_type": "code",
      "source": [
        "finaldf = m_val.join(df3,on='CustomerID',how='inner')\n",
        "\n"
      ],
      "metadata": {
        "id": "w7kSfw9kxeuF"
      },
      "execution_count": 30,
      "outputs": []
    },
    {
      "cell_type": "markdown",
      "source": [
        "Now that we have created all the necessary variables to build the model, run the following lines of code to select only the required columns and drop duplicate rows from the dataframe and look at the head of the final dataframe to ensure that the pre-processing has been done accurately."
      ],
      "metadata": {
        "id": "45umEPC1TnaN"
      }
    },
    {
      "cell_type": "code",
      "source": [
        "finaldf = finaldf.select(['recency','frequency','monetary_value','CustomerID']).distinct()\n",
        "\n",
        "finaldf.show(5,0)"
      ],
      "metadata": {
        "colab": {
          "base_uri": "https://localhost:8080/"
        },
        "id": "tCaWp3anyOV1",
        "outputId": "a979a03b-e531-4cad-8d87-8def95630559"
      },
      "execution_count": 31,
      "outputs": [
        {
          "output_type": "stream",
          "name": "stdout",
          "text": [
            "+--------+---------+------------------+----------+\n",
            "|recency |frequency|monetary_value    |CustomerID|\n",
            "+--------+---------+------------------+----------+\n",
            "|4586760 |10       |153.0             |17714     |\n",
            "|9700860 |10       |163.3             |16250     |\n",
            "|16947300|9        |112.10000000000001|15574     |\n",
            "|17391540|9        |185.78000000000003|16320     |\n",
            "|1230360 |43       |306.84            |17551     |\n",
            "+--------+---------+------------------+----------+\n",
            "only showing top 5 rows\n",
            "\n"
          ]
        }
      ]
    },
    {
      "cell_type": "markdown",
      "source": [
        "# Standardization\n",
        "\n",
        "Before building the customer segmentation model, let’s standardize the dataframe to ensure that all the variables are around the same scale. \n",
        "\n",
        "These are the scaled features that will be fed into the clustering algorithm"
      ],
      "metadata": {
        "id": "iC2nTxzQT9cP"
      }
    },
    {
      "cell_type": "code",
      "source": [
        "from pyspark.ml.feature import VectorAssembler\n",
        "from pyspark.ml.feature import StandardScaler\n",
        "\n",
        "assemble=VectorAssembler(inputCols=[\n",
        "    'recency','frequency','monetary_value'\n",
        "], outputCol='features')\n",
        "\n",
        "assembled_data=assemble.transform(finaldf)\n",
        "\n",
        "scale=StandardScaler(inputCol='features',outputCol='standardized')\n",
        "data_scale=scale.fit(assembled_data)\n",
        "data_scale_output=data_scale.transform(assembled_data)\n",
        "\n",
        "data_scale_output.select('standardized').show(2,truncate=False)"
      ],
      "metadata": {
        "colab": {
          "base_uri": "https://localhost:8080/"
        },
        "id": "nfd-repc1ji9",
        "outputId": "23d329ef-d182-41ff-d5df-48fc6585ce64"
      },
      "execution_count": 32,
      "outputs": [
        {
          "output_type": "stream",
          "name": "stdout",
          "text": [
            "+-------------------------------------------------------------+\n",
            "|standardized                                                 |\n",
            "+-------------------------------------------------------------+\n",
            "|[0.5258889381294389,0.25819728443703077,0.054732953197302925]|\n",
            "|[1.1122393507273869,0.25819728443703077,0.05841758991581417] |\n",
            "+-------------------------------------------------------------+\n",
            "only showing top 2 rows\n",
            "\n"
          ]
        }
      ]
    },
    {
      "cell_type": "markdown",
      "source": [
        "# Building the Machine Learning Model\n",
        "\n",
        "Now that we have completed all the data analysis and preparation, let’s build the K-Means clustering model. \n",
        "\n"
      ],
      "metadata": {
        "id": "W1jcV2LsUXCi"
      }
    },
    {
      "cell_type": "markdown",
      "source": [
        "## Finding the number of clusters to use\n",
        "\n",
        "When building a K-Means clustering model, we first need to determine the number of clusters or groups we want the algorithm to return. If we decide on three clusters, for instance, then we will have three customer segments.\n",
        "\n",
        "The most popular technique used to decide on how many clusters to use in K-Means is called the “elbow-method.”\n",
        "\n",
        "This is done simply running the K-Means algorithm for a wide range of clusters and visualizing the model results for each cluster. The plot will have an inflection point that looks like an elbow, and we just pick the number of clusters at this point.\n",
        "\n",
        "Let’s run the following lines of code to build a K-Means clustering algorithm from 2 to 10 clusters."
      ],
      "metadata": {
        "id": "CVrjbxncUkIh"
      }
    },
    {
      "cell_type": "code",
      "source": [
        "from pyspark.ml.clustering import KMeans\n",
        "from pyspark.ml.evaluation import ClusteringEvaluator\n",
        "import numpy as np\n",
        "\n",
        "cost = np.zeros(10)\n",
        "\n",
        "evaluator = ClusteringEvaluator(predictionCol='prediction', featuresCol='standardized',metricName='silhouette', distanceMeasure='squaredEuclidean')\n",
        "\n",
        "for i in range(2,10):\n",
        "    KMeans_algo=KMeans(featuresCol='standardized', k=i)\n",
        "    KMeans_fit=KMeans_algo.fit(data_scale_output)\n",
        "    output=KMeans_fit.transform(data_scale_output)\n",
        "    cost[i] = KMeans_fit.summary.trainingCost"
      ],
      "metadata": {
        "id": "Si6hfGbX2K7D"
      },
      "execution_count": 33,
      "outputs": []
    },
    {
      "cell_type": "markdown",
      "source": [
        "With the codes above, we have successfully built and evaluated a K-Means clustering model with 2 to 10 clusters. The results have been placed in an array, and can now be visualized in a line chart."
      ],
      "metadata": {
        "id": "81VhZ3Y4UzY3"
      }
    },
    {
      "cell_type": "code",
      "source": [
        "import pandas as pd\n",
        "import pylab as pl\n",
        "df_cost = pd.DataFrame(cost[2:])\n",
        "df_cost.columns = [\"cost\"]\n",
        "new_col = range(2,10)\n",
        "df_cost.insert(0, 'cluster', new_col)\n",
        "pl.plot(df_cost.cluster, df_cost.cost)\n",
        "pl.xlabel('Number of Clusters')\n",
        "pl.ylabel('Score')\n",
        "pl.title('Elbow Curve')\n",
        "pl.show()"
      ],
      "metadata": {
        "colab": {
          "base_uri": "https://localhost:8080/",
          "height": 295
        },
        "id": "LQkw8I_F2ORy",
        "outputId": "379f3ca4-7d49-49a0-d505-617980d02f1b"
      },
      "execution_count": 34,
      "outputs": [
        {
          "output_type": "display_data",
          "data": {
            "text/plain": [
              "<Figure size 432x288 with 1 Axes>"
            ],
            "image/png": "[encoded data removed]"
          },
          "metadata": {
            "needs_background": "light"
          }
        }
      ]
    },
    {
      "cell_type": "markdown",
      "source": [
        "## Building the K-Means Clustering Model\n",
        "\n",
        "From the plot above, we can see that there is an inflection point that looks like an elbow at four. Due to this, we will proceed to build the K-Means algorithm with four clusters"
      ],
      "metadata": {
        "id": "IBMCrpdLU7UW"
      }
    },
    {
      "cell_type": "code",
      "source": [
        "KMeans_algo=KMeans(featuresCol='standardized', k=4)\n",
        "KMeans_fit=KMeans_algo.fit(data_scale_output)"
      ],
      "metadata": {
        "id": "3MwHP1gg2sc-"
      },
      "execution_count": 35,
      "outputs": []
    },
    {
      "cell_type": "markdown",
      "source": [
        "## Making Predictions\n",
        "\n",
        "Let’s use the model we created to assign clusters to each customer in the dataset:"
      ],
      "metadata": {
        "id": "D2fzrASHVYMp"
      }
    },
    {
      "cell_type": "code",
      "source": [
        "preds=KMeans_fit.transform(data_scale_output)\n",
        "\n",
        "preds.show(5,0)"
      ],
      "metadata": {
        "colab": {
          "base_uri": "https://localhost:8080/"
        },
        "id": "SzNcLzz62vol",
        "outputId": "e615f118-738c-4cae-e7c8-fb08394f0717"
      },
      "execution_count": 36,
      "outputs": [
        {
          "output_type": "stream",
          "name": "stdout",
          "text": [
            "+--------+---------+------------------+----------+-----------------------------------+-------------------------------------------------------------+----------+\n",
            "|recency |frequency|monetary_value    |CustomerID|features                           |standardized                                                 |prediction|\n",
            "+--------+---------+------------------+----------+-----------------------------------+-------------------------------------------------------------+----------+\n",
            "|4586760 |10       |153.0             |17714     |[4586760.0,10.0,153.0]             |[0.5258889381294389,0.25819728443703077,0.054732953197302925]|0         |\n",
            "|9700860 |10       |163.3             |16250     |[9700860.0,10.0,163.3]             |[1.1122393507273869,0.25819728443703077,0.05841758991581417] |0         |\n",
            "|16947300|9        |112.10000000000001|15574     |[1.69473E7,9.0,112.10000000000001] |[1.943070402890284,0.2323775559933277,0.0401017258393311]    |0         |\n",
            "|17391540|9        |185.78000000000003|16320     |[1.739154E7,9.0,185.78000000000003]|[1.9940041561005288,0.2323775559933277,0.06645939898689503]  |0         |\n",
            "|1230360 |43       |306.84            |17551     |[1230360.0,43.0,306.84]            |[0.14106530839131248,1.1102483230792324,0.10976640103961065] |0         |\n",
            "+--------+---------+------------------+----------+-----------------------------------+-------------------------------------------------------------+----------+\n",
            "only showing top 5 rows\n",
            "\n"
          ]
        }
      ]
    },
    {
      "cell_type": "markdown",
      "source": [
        "Notice that there is a “prediction” column in this dataframe that tells us which cluster each CustomerID belongs to:"
      ],
      "metadata": {
        "id": "KHdl6A6LVjMD"
      }
    },
    {
      "cell_type": "markdown",
      "source": [
        "## Cluster Analysis\n",
        "\n",
        "The final step in this entire tutorial is to analyze the customer segments we just built.\n",
        "\n",
        "Run the following lines of code to visualize the recency, frequency, and monetary value of each customerID in the dataframe:"
      ],
      "metadata": {
        "id": "VbeqqQbuVqOO"
      }
    },
    {
      "cell_type": "code",
      "source": [
        "import matplotlib.pyplot as plt\n",
        "import seaborn as sns\n",
        "\n",
        "df_viz = preds.select('recency','frequency','monetary_value','prediction')\n",
        "df_viz = df_viz.toPandas()\n",
        "avg_df = df_viz.groupby(['prediction'], as_index=False).mean()\n",
        "\n",
        "list1 = ['recency','frequency','monetary_value']\n",
        "\n",
        "for i in list1:\n",
        "    sns.barplot(x='prediction',y=str(i),data=avg_df)\n",
        "    plt.show()"
      ],
      "metadata": {
        "colab": {
          "base_uri": "https://localhost:8080/",
          "height": 814
        },
        "id": "y1RZ3kSL26-E",
        "outputId": "a9c6b0fd-de94-43f9-912a-b7c8a410ebcc"
      },
      "execution_count": 37,
      "outputs": [
        {
          "output_type": "display_data",
          "data": {
            "text/plain": [
              "<Figure size 432x288 with 1 Axes>"
            ],
            "image/png": "[encoded data removed]"
          },
          "metadata": {
            "needs_background": "light"
          }
        },
        {
          "output_type": "display_data",
          "data": {
            "text/plain": [
              "<Figure size 432x288 with 1 Axes>"
            ],
            "image/png": "[encoded data removed]"
          },
          "metadata": {
            "needs_background": "light"
          }
        },
        {
          "output_type": "display_data",
          "data": {
            "text/plain": [
              "<Figure size 432x288 with 1 Axes>"
            ],
            "image/png": "[encoded data removed]"
          },
          "metadata": {
            "needs_background": "light"
          }
        }
      ]
    },
    {
      "cell_type": "markdown",
      "source": [
        "Here is an overview of characteristics displayed by customers in each cluster:\n",
        "\n",
        "* Cluster 0: Customers in this segment display low recency, frequency, and monetary value. They rarely shop on the platform and are low potential customers who are likely to stop doing business with the ecommerce company.\n",
        "\n",
        "\n",
        "* Cluster 1: Users in this cluster display medium high recency but haven’t been seen spending much on the platform. They also don’t visit the site often. This indicates that they might be newer customers who have just started doing business with the company.\n",
        "\n",
        "* Cluster 2: Customers in this segment display high recency and low frequency and spend a lot of money on the platform. This indicates that they tend to buy high-value items or make bulk purchases.\n",
        "\n",
        "* Cluster 3: The final segment comprises users who display high recency and make frequent purchases on the platform. However, they don’t spend much on the platform, which might mean that they tend to select cheaper items in each purchase.\n"
      ],
      "metadata": {
        "id": "IJWw2umMWF2U"
      }
    }
  ]
}