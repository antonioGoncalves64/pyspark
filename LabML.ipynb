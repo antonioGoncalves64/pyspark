{
  "nbformat": 4,
  "nbformat_minor": 0,
  "metadata": {
    "colab": {
      "provenance": []
    },
    "kernelspec": {
      "name": "python3",
      "display_name": "Python 3"
    },
    "language_info": {
      "name": "python"
    }
  },
  "cells": [
    {
      "cell_type": "markdown",
      "source": [
        "\n",
        "![spark.png](data:image/png;base64,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)"
      ],
      "metadata": {
        "id": "8Z1Gy9tVxz1B"
      }
    },
    {
      "cell_type": "markdown",
      "source": [
        "# Problem to solve: How to build the K-Means clustering model in Pyspark to perform customer segmentation on the e-commerce dataset"
      ],
      "metadata": {
        "id": "HlXzSIzCzApB"
      }
    },
    {
      "cell_type": "markdown",
      "source": [
        "By the end of this lab, you will be familiar with the following concepts:\n",
        "\n",
        "1. Reading csv files with PySpark\n",
        "1. Exploratory Data Analysis with PySpark\n",
        "1. Grouping and sorting data\n",
        "1. Performing arithmetic operations\n",
        "1. Aggregating datasets\n",
        "1. Data Pre-Processing with PySpark\n",
        "1. Working with datetime values\n",
        "1. Type conversion\n",
        "1. Joining two dataframes\n",
        "1. The rank() function\n",
        "1. PySpark Machine Learning\n",
        "1. Creating a feature vector\n",
        "1. Standardizing data\n",
        "1. Building a K-Means clustering model\n",
        "1. Interpreting the model\n"
      ],
      "metadata": {
        "id": "c2Lx0QznzfdQ"
      }
    },
    {
      "cell_type": "markdown",
      "source": [
        "# Install pyspark"
      ],
      "metadata": {
        "id": "Zxxchy_VpoAQ"
      }
    },
    {
      "cell_type": "code",
      "execution_count": 15,
      "metadata": {
        "colab": {
          "base_uri": "https://localhost:8080/"
        },
        "id": "5mSUlYfleBaB",
        "outputId": "40a17bda-4fd1-4bcd-8c7c-06c5eda095e5"
      },
      "outputs": [
        {
          "output_type": "stream",
          "name": "stdout",
          "text": [
            "Looking in indexes: https://pypi.org/simple, https://us-python.pkg.dev/colab-wheels/public/simple/\n",
            "Requirement already satisfied: pyspark in /usr/local/lib/python3.8/dist-packages (3.3.1)\n",
            "Requirement already satisfied: py4j==0.10.9.5 in /usr/local/lib/python3.8/dist-packages (from pyspark) (0.10.9.5)\n",
            "Looking in indexes: https://pypi.org/simple, https://us-python.pkg.dev/colab-wheels/public/simple/\n",
            "Collecting findspark\n",
            "  Downloading findspark-2.0.1-py2.py3-none-any.whl (4.4 kB)\n",
            "Installing collected packages: findspark\n",
            "Successfully installed findspark-2.0.1\n"
          ]
        }
      ],
      "source": [
        "!pip install pyspark\n",
        "!pip install findspark"
      ]
    },
    {
      "cell_type": "markdown",
      "source": [
        "# Creating a SparkSession\n",
        "\n",
        "A SparkSession is an entry point into all functionality in Spark, and is required if you want to build a dataframe in PySpark. Run the following lines of code to initialize a SparkSession.\n",
        "\n",
        "Using the codes bellow, we built a spark session and set a name for the application. Then, the data was cached in off-heap memory to avoid storing it directly on disk, and the amount of memory was manually specified."
      ],
      "metadata": {
        "id": "4okpNe9Bptwn"
      }
    },
    {
      "cell_type": "code",
      "source": [
        "from pyspark.sql import SparkSession\n",
        "import findspark\n",
        "\n",
        "findspark.init()\n",
        "\n",
        "spark = SparkSession.builder.appName(\"Datacamp Pyspark Tutorial\")\\\n",
        "                    .config(\"spark.memory.offHeap.enabled\",\"true\")\\\n",
        "                    .config(\"spark.memory.offHeap.size\",\"10g\")\\\n",
        "                    .getOrCreate()"
      ],
      "metadata": {
        "id": "uJeOnmA1eH5j"
      },
      "execution_count": 16,
      "outputs": []
    },
    {
      "cell_type": "markdown",
      "source": [
        "# Creating the DataFrame from a csv"
      ],
      "metadata": {
        "id": "IwD3mc7HpyZ2"
      }
    },
    {
      "cell_type": "code",
      "source": [
        "# Download the data first into a local `OnlineRetail.csv` file\n",
        "\n",
        "!curl https://raw.githubusercontent.com/antonioGoncalves64/pyspark/main/OnlineRetail.csv >> OnlineRetail.csv\n",
        "\n",
        "\n",
        "\n",
        "df = spark.read.csv('OnlineRetail.csv',header=True,sep=\";\")"
      ],
      "metadata": {
        "id": "ppsuabFJeOAZ",
        "colab": {
          "base_uri": "https://localhost:8080/"
        },
        "outputId": "18102089-680f-4149-aa38-af39cdc9a46a"
      },
      "execution_count": 17,
      "outputs": [
        {
          "output_type": "stream",
          "name": "stdout",
          "text": [
            "  % Total    % Received % Xferd  Average Speed   Time    Time     Time  Current\n",
            "                                 Dload  Upload   Total   Spent    Left  Speed\n",
            "100 43.4M  100 43.4M    0     0   112M      0 --:--:-- --:--:-- --:--:--  112M\n"
          ]
        }
      ]
    },
    {
      "cell_type": "markdown",
      "source": [
        "# Look at the head of the dataframe"
      ],
      "metadata": {
        "id": "lftSwF2iqBur"
      }
    },
    {
      "cell_type": "code",
      "source": [
        "df.show(5,0)"
      ],
      "metadata": {
        "colab": {
          "base_uri": "https://localhost:8080/"
        },
        "id": "Oss3hHQtlOoG",
        "outputId": "21145a9f-7cf6-47a9-fbaf-1a5bb41f4852"
      },
      "execution_count": null,
      "outputs": [
        {
          "output_type": "stream",
          "name": "stdout",
          "text": [
            "+---------+---------+-----------------------------------+--------+----------------+---------+----------+--------------+\n",
            "|InvoiceNo|StockCode|Description                        |Quantity|InvoiceDate     |UnitPrice|CustomerID|Country       |\n",
            "+---------+---------+-----------------------------------+--------+----------------+---------+----------+--------------+\n",
            "|536365   |85123A   |WHITE HANGING HEART T-LIGHT HOLDER |6       |01/12/2010 08:26|2.55     |17850     |United Kingdom|\n",
            "|536365   |71053    |WHITE METAL LANTERN                |6       |01/12/2010 08:26|3.39     |17850     |United Kingdom|\n",
            "|536365   |84406B   |CREAM CUPID HEARTS COAT HANGER     |8       |01/12/2010 08:26|2.75     |17850     |United Kingdom|\n",
            "|536365   |84029G   |KNITTED UNION FLAG HOT WATER BOTTLE|6       |01/12/2010 08:26|3.39     |17850     |United Kingdom|\n",
            "|536365   |84029E   |RED WOOLLY HOTTIE WHITE HEART.     |6       |01/12/2010 08:26|3.39     |17850     |United Kingdom|\n",
            "+---------+---------+-----------------------------------+--------+----------------+---------+----------+--------------+\n",
            "only showing top 5 rows\n",
            "\n"
          ]
        }
      ]
    },
    {
      "cell_type": "markdown",
      "source": [
        "# Exploratory Data Analysis"
      ],
      "metadata": {
        "id": "V8yX-nhEqGJ6"
      }
    },
    {
      "cell_type": "markdown",
      "source": [
        "## Count the number of rows in the dataframe"
      ],
      "metadata": {
        "id": "xYUBnDnbq5Zi"
      }
    },
    {
      "cell_type": "code",
      "source": [
        "df.count()"
      ],
      "metadata": {
        "colab": {
          "base_uri": "https://localhost:8080/"
        },
        "id": "m-9txs-Pnh2Q",
        "outputId": "6512a767-e798-4568-d0c2-31dd6bbc857c"
      },
      "execution_count": null,
      "outputs": [
        {
          "output_type": "execute_result",
          "data": {
            "text/plain": [
              "225199"
            ]
          },
          "metadata": {},
          "execution_count": 73
        }
      ]
    },
    {
      "cell_type": "markdown",
      "source": [
        "## Count how many unique customers are present in the dataframe\n",
        "\n",
        "```\n",
        "# This is formatted as code\n",
        "```\n",
        "\n"
      ],
      "metadata": {
        "id": "h_oPAVygq-wR"
      }
    },
    {
      "cell_type": "code",
      "source": [
        "df.select('CustomerID').distinct().count()"
      ],
      "metadata": {
        "colab": {
          "base_uri": "https://localhost:8080/"
        },
        "id": "JRor1x2xnpQW",
        "outputId": "471efd39-d22a-43ba-b473-2c44b88cdbd8"
      },
      "execution_count": null,
      "outputs": [
        {
          "output_type": "execute_result",
          "data": {
            "text/plain": [
              "2879"
            ]
          },
          "metadata": {},
          "execution_count": 74
        }
      ]
    },
    {
      "cell_type": "markdown",
      "source": [
        "## What country do most purchases come from"
      ],
      "metadata": {
        "id": "YTbx51yJrMyo"
      }
    },
    {
      "cell_type": "code",
      "source": [
        "from pyspark.sql.functions import *\n",
        "from pyspark.sql.types import *\n",
        "\n",
        "df.groupBy('Country').agg(countDistinct('CustomerID').alias('country_count')).orderBy(desc('country_count')).show()"
      ],
      "metadata": {
        "colab": {
          "base_uri": "https://localhost:8080/"
        },
        "id": "SnRmgb79nyVC",
        "outputId": "4e7e231b-9a7c-4434-98fe-724d58677f51"
      },
      "execution_count": null,
      "outputs": [
        {
          "output_type": "stream",
          "name": "stdout",
          "text": [
            "+---------------+-------------+\n",
            "|        Country|country_count|\n",
            "+---------------+-------------+\n",
            "| United Kingdom|         2607|\n",
            "|        Germany|           60|\n",
            "|         France|           59|\n",
            "|        Belgium|           20|\n",
            "|          Spain|           20|\n",
            "|    Switzerland|           12|\n",
            "|       Portugal|           11|\n",
            "|          Italy|           10|\n",
            "|      Australia|            8|\n",
            "|        Austria|            8|\n",
            "|    Netherlands|            8|\n",
            "|Channel Islands|            7|\n",
            "|         Cyprus|            5|\n",
            "|          Japan|            5|\n",
            "|         Sweden|            4|\n",
            "|        Finland|            4|\n",
            "|        Denmark|            4|\n",
            "|         Greece|            3|\n",
            "|           EIRE|            3|\n",
            "|         Norway|            3|\n",
            "+---------------+-------------+\n",
            "only showing top 20 rows\n",
            "\n"
          ]
        }
      ]
    },
    {
      "cell_type": "markdown",
      "source": [
        "## When was the most recent purchase made by a customer on the e-commerce platform?"
      ],
      "metadata": {
        "id": "lar0QdCzrykp"
      }
    },
    {
      "cell_type": "code",
      "source": [
        "spark.sql(\"set spark.sql.legacy.timeParserPolicy=LEGACY\")\n",
        "df = df.withColumn('date',to_timestamp(\"InvoiceDate\", 'dd/MM/yy HH:mm'))\n",
        "df.select(max(\"date\")).show()"
      ],
      "metadata": {
        "colab": {
          "base_uri": "https://localhost:8080/"
        },
        "id": "QAdQHV2ioZkD",
        "outputId": "99409276-a7d2-4349-e11b-829d556f80e9"
      },
      "execution_count": null,
      "outputs": [
        {
          "output_type": "stream",
          "name": "stdout",
          "text": [
            "+-------------------+\n",
            "|          max(date)|\n",
            "+-------------------+\n",
            "|2011-06-13 15:30:00|\n",
            "+-------------------+\n",
            "\n"
          ]
        }
      ]
    },
    {
      "cell_type": "markdown",
      "source": [
        "## When was the earliest purchase made by a customer on the e-commerce platform?"
      ],
      "metadata": {
        "id": "KzqFlY4nsQTs"
      }
    },
    {
      "cell_type": "code",
      "source": [
        "df.select(min(\"date\")).show()"
      ],
      "metadata": {
        "colab": {
          "base_uri": "https://localhost:8080/"
        },
        "id": "LIJcFZ-7ow6A",
        "outputId": "76abbd61-8707-47ca-902f-2a8a1ceae464"
      },
      "execution_count": null,
      "outputs": [
        {
          "output_type": "stream",
          "name": "stdout",
          "text": [
            "+-------------------+\n",
            "|          min(date)|\n",
            "+-------------------+\n",
            "|2010-12-01 08:26:00|\n",
            "+-------------------+\n",
            "\n"
          ]
        }
      ]
    },
    {
      "cell_type": "markdown",
      "source": [
        "# Data Pre-processing\n",
        "\n",
        "Now that we have analyzed the dataset and have a better understanding of each data point, we need to prepare the data to feed into the machine learning algorithm.\n",
        "\n",
        "we need to create multiple customer segments based on each user’s purchase behavior. \n",
        "\n",
        "The variables in this dataset are in a format that cannot be easily ingested into the customer segmentation model. These features individually do not tell us much about customer purchase behavior.\n",
        "\n",
        "Due to this, we will use the existing variables to derive three new informative features - recency, frequency, and monetary value (RFM). RFM is commonly used in marketing to evaluate a client’s value based on their:\n",
        "\n",
        "* Recency: How recently has each customer made a purchase?\n",
        "\n",
        "* Frequency: How often have they bought something?\n",
        "\n",
        "* Monetary Value: How much money do they spend on average when making purchases?\n",
        "\n",
        "We will now preprocess the dataframe to create the above variables."
      ],
      "metadata": {
        "id": "kjQZ7fJStdV4"
      }
    },
    {
      "cell_type": "markdown",
      "source": [
        "## Recency\n",
        "\n",
        "First, let’s calculate the value of recency - the latest date and time a purchase was made on the platform. This can be achieved in two steps:"
      ],
      "metadata": {
        "id": "LhETrKJJt_V6"
      }
    },
    {
      "cell_type": "markdown",
      "source": [
        "### Assign a recency score to each customer\n",
        "\n",
        "We will subtract every date in the dataframe from the earliest date. This will tell us how recently a customer was seen in the dataframe. A value of 0 indicates the lowest recency, as it will be assigned to the person who was seen making a purchase on the earliest date."
      ],
      "metadata": {
        "id": "rxLmvJiCuJUA"
      }
    },
    {
      "cell_type": "code",
      "source": [
        "df = df.withColumn(\"from_date\", lit(\"01/12/10 08:26\"))\n",
        "df = df.withColumn('from_date',to_timestamp(\"from_date\", 'dd/MM/yy HH:mm'))\n",
        "\n",
        "df2=df.withColumn('from_date',to_timestamp(col('from_date'))).withColumn('recency',col(\"date\").cast(\"long\") - col('from_date').cast(\"long\"))"
      ],
      "metadata": {
        "id": "mBXF4jHkuU4I"
      },
      "execution_count": null,
      "outputs": []
    },
    {
      "cell_type": "code",
      "source": [
        "df2 = df2.join(df2.groupBy('CustomerID').agg(max('recency').alias('recency')),on='recency',how='leftsemi')"
      ],
      "metadata": {
        "id": "KwX-SY9cutl6"
      },
      "execution_count": null,
      "outputs": []
    },
    {
      "cell_type": "markdown",
      "source": [],
      "metadata": {
        "id": "Tj6qyFq-uwpT"
      }
    },
    {
      "cell_type": "code",
      "source": [
        "df2.show(5,0)"
      ],
      "metadata": {
        "colab": {
          "base_uri": "https://localhost:8080/"
        },
        "id": "68rv_KQ2uw-x",
        "outputId": "123af2bd-c924-4294-e33a-387220a6d6d6"
      },
      "execution_count": null,
      "outputs": [
        {
          "output_type": "stream",
          "name": "stdout",
          "text": [
            "+-------+---------+---------+-----------------------------------+--------+----------------+---------+----------+--------------+-------------------+-------------------+\n",
            "|recency|InvoiceNo|StockCode|Description                        |Quantity|InvoiceDate     |UnitPrice|CustomerID|Country       |date               |from_date          |\n",
            "+-------+---------+---------+-----------------------------------+--------+----------------+---------+----------+--------------+-------------------+-------------------+\n",
            "|5220   |536384   |82484    |WOOD BLACK BOARD ANT WHITE FINISH  |3       |01/12/2010 09:53|6.45     |18074     |United Kingdom|2010-12-01 09:53:00|2010-12-01 08:26:00|\n",
            "|5220   |536384   |84755    |COLOUR GLASS T-LIGHT HOLDER HANGING|48      |01/12/2010 09:53|0.65     |18074     |United Kingdom|2010-12-01 09:53:00|2010-12-01 08:26:00|\n",
            "|5220   |536384   |22464    |HANGING METAL HEART LANTERN        |12      |01/12/2010 09:53|1.65     |18074     |United Kingdom|2010-12-01 09:53:00|2010-12-01 08:26:00|\n",
            "|5220   |536384   |21324    |HANGING MEDINA LANTERN SMALL       |6       |01/12/2010 09:53|2.95     |18074     |United Kingdom|2010-12-01 09:53:00|2010-12-01 08:26:00|\n",
            "|5220   |536384   |22457    |NATURAL SLATE HEART CHALKBOARD     |12      |01/12/2010 09:53|2.95     |18074     |United Kingdom|2010-12-01 09:53:00|2010-12-01 08:26:00|\n",
            "+-------+---------+---------+-----------------------------------+--------+----------------+---------+----------+--------------+-------------------+-------------------+\n",
            "only showing top 5 rows\n",
            "\n"
          ]
        }
      ]
    },
    {
      "cell_type": "code",
      "source": [
        "df2.printSchema()"
      ],
      "metadata": {
        "colab": {
          "base_uri": "https://localhost:8080/"
        },
        "id": "_sT1XSqowAYJ",
        "outputId": "47be4cd2-630f-43fe-f3b1-b27c0152aefc"
      },
      "execution_count": null,
      "outputs": [
        {
          "output_type": "stream",
          "name": "stdout",
          "text": [
            "root\n",
            " |-- recency: long (nullable = true)\n",
            " |-- InvoiceNo: string (nullable = true)\n",
            " |-- StockCode: string (nullable = true)\n",
            " |-- Description: string (nullable = true)\n",
            " |-- Quantity: string (nullable = true)\n",
            " |-- InvoiceDate: string (nullable = true)\n",
            " |-- UnitPrice: string (nullable = true)\n",
            " |-- CustomerID: string (nullable = true)\n",
            " |-- Country: string (nullable = true)\n",
            " |-- date: timestamp (nullable = true)\n",
            " |-- from_date: timestamp (nullable = true)\n",
            "\n"
          ]
        }
      ]
    },
    {
      "cell_type": "markdown",
      "source": [
        "## Frequency\n",
        "\n",
        "Let’s now calculate the value of frequency - how often a customer bought something on the platform. To do this, we just need to group by each customer ID and count the number of items they purchased:"
      ],
      "metadata": {
        "id": "fs_ZlB4KwIgN"
      }
    },
    {
      "cell_type": "code",
      "source": [
        "df_freq = df2.groupBy('CustomerID').agg(count('InvoiceDate').alias('frequency'))\n",
        "\n",
        "df_freq.show(5,0)"
      ],
      "metadata": {
        "colab": {
          "base_uri": "https://localhost:8080/"
        },
        "id": "bbPOWWr6wMx6",
        "outputId": "a3c38e8a-5261-4e57-cca3-cd8f43086695"
      },
      "execution_count": null,
      "outputs": [
        {
          "output_type": "stream",
          "name": "stdout",
          "text": [
            "+----------+---------+\n",
            "|CustomerID|frequency|\n",
            "+----------+---------+\n",
            "|15574     |1        |\n",
            "|17714     |10       |\n",
            "|14157     |1        |\n",
            "|16250     |10       |\n",
            "|17551     |43       |\n",
            "+----------+---------+\n",
            "only showing top 5 rows\n",
            "\n"
          ]
        }
      ]
    },
    {
      "cell_type": "code",
      "source": [
        "df3 = df2.join(df_freq,on='CustomerID',how='inner')\n",
        "df3.printSchema()"
      ],
      "metadata": {
        "colab": {
          "base_uri": "https://localhost:8080/"
        },
        "id": "GuekUq-Cwaj4",
        "outputId": "1e2a7fc8-2023-4785-a507-0df7c02f347e"
      },
      "execution_count": null,
      "outputs": [
        {
          "output_type": "stream",
          "name": "stdout",
          "text": [
            "root\n",
            " |-- CustomerID: string (nullable = true)\n",
            " |-- recency: long (nullable = true)\n",
            " |-- InvoiceNo: string (nullable = true)\n",
            " |-- StockCode: string (nullable = true)\n",
            " |-- Description: string (nullable = true)\n",
            " |-- Quantity: string (nullable = true)\n",
            " |-- InvoiceDate: string (nullable = true)\n",
            " |-- UnitPrice: string (nullable = true)\n",
            " |-- Country: string (nullable = true)\n",
            " |-- date: timestamp (nullable = true)\n",
            " |-- from_date: timestamp (nullable = true)\n",
            " |-- frequency: long (nullable = false)\n",
            "\n"
          ]
        }
      ]
    },
    {
      "cell_type": "markdown",
      "source": [
        "### Monetary Value\n",
        "\n",
        "Finally, let’s calculate monetary value - the total amount spent by each customer in the dataframe. There are two steps to achieving this:\n",
        "\n",
        "* Find the total amount spent in each purchase\n",
        "* Find the total amount spent by each customer"
      ],
      "metadata": {
        "id": "cTQq5Ze9wi3_"
      }
    },
    {
      "cell_type": "markdown",
      "source": [
        "### Find the total amount spent in each purchase\n",
        "Each customerID comes with variables called “Quantity” and “UnitPrice” for a single purchase. To get the total amount spent by each customer in one purchase, we need to multiply “Quantity” with “UnitPrice”"
      ],
      "metadata": {
        "id": "ob1Id33lw8fy"
      }
    },
    {
      "cell_type": "code",
      "source": [
        "m_val = df3.withColumn('TotalAmount',col(\"Quantity\") * col(\"UnitPrice\"))\n",
        "\n"
      ],
      "metadata": {
        "id": "rrGWw3kywmeu"
      },
      "execution_count": null,
      "outputs": []
    },
    {
      "cell_type": "markdown",
      "source": [
        "###Find the total amount spent by each customer. o find the total amount spent by each customer overall, we just need to group by the CustomerID column and sum the total amount spent"
      ],
      "metadata": {
        "id": "M51pE1M3xRbo"
      }
    },
    {
      "cell_type": "code",
      "source": [
        "m_val = m_val.groupBy('CustomerID').agg(sum('TotalAmount').alias('monetary_value'))"
      ],
      "metadata": {
        "id": "Kqdc3EdIxWW2"
      },
      "execution_count": null,
      "outputs": []
    },
    {
      "cell_type": "markdown",
      "source": [
        "Merge this dataframe with the all the other variables"
      ],
      "metadata": {
        "id": "vkQgiGSGxcu9"
      }
    },
    {
      "cell_type": "code",
      "source": [
        "finaldf = m_val.join(df3,on='CustomerID',how='inner')\n",
        "\n"
      ],
      "metadata": {
        "id": "w7kSfw9kxeuF"
      },
      "execution_count": null,
      "outputs": []
    },
    {
      "cell_type": "code",
      "source": [
        "finaldf = finaldf.select(['recency','frequency','monetary_value','CustomerID']).distinct()\n",
        "\n",
        "finaldf.show(5,0)"
      ],
      "metadata": {
        "colab": {
          "base_uri": "https://localhost:8080/"
        },
        "id": "tCaWp3anyOV1",
        "outputId": "336f48a6-de9a-4751-bc6b-1610308a6d09"
      },
      "execution_count": null,
      "outputs": [
        {
          "output_type": "stream",
          "name": "stdout",
          "text": [
            "+-------+---------+--------------+----------+\n",
            "|recency|frequency|monetary_value|CustomerID|\n",
            "+-------+---------+--------------+----------+\n",
            "|1311720|1        |3.75          |15574     |\n",
            "|4586760|10       |153.0         |17714     |\n",
            "|7627260|1        |-32.45        |14157     |\n",
            "|9700860|10       |163.3         |16250     |\n",
            "|1230360|43       |306.84        |17551     |\n",
            "+-------+---------+--------------+----------+\n",
            "only showing top 5 rows\n",
            "\n"
          ]
        }
      ]
    },
    {
      "cell_type": "code",
      "source": [
        "from pyspark.ml.feature import VectorAssembler\n",
        "from pyspark.ml.feature import StandardScaler\n",
        "\n",
        "assemble=VectorAssembler(inputCols=[\n",
        "    'recency','frequency','monetary_value'\n",
        "], outputCol='features')\n",
        "\n",
        "assembled_data=assemble.transform(finaldf)\n",
        "\n",
        "scale=StandardScaler(inputCol='features',outputCol='standardized')\n",
        "data_scale=scale.fit(assembled_data)\n",
        "data_scale_output=data_scale.transform(assembled_data)\n",
        "\n",
        "data_scale_output.select('standardized').show(2,truncate=False)"
      ],
      "metadata": {
        "colab": {
          "base_uri": "https://localhost:8080/"
        },
        "id": "nfd-repc1ji9",
        "outputId": "347481fe-343a-4619-af04-cc01ebe21473"
      },
      "execution_count": null,
      "outputs": [
        {
          "output_type": "stream",
          "name": "stdout",
          "text": [
            "+-------------------------------------------------------------+\n",
            "|standardized                                                 |\n",
            "+-------------------------------------------------------------+\n",
            "|[0.2660268697875939,0.0420619382191303,0.0020464985893339184]|\n",
            "|[0.9302300836054525,0.42061938219130296,0.08349714244482385] |\n",
            "+-------------------------------------------------------------+\n",
            "only showing top 2 rows\n",
            "\n"
          ]
        }
      ]
    },
    {
      "cell_type": "code",
      "source": [
        "from pyspark.ml.clustering import KMeans\n",
        "from pyspark.ml.evaluation import ClusteringEvaluator\n",
        "import numpy as np\n",
        "\n",
        "cost = np.zeros(10)\n",
        "\n",
        "evaluator = ClusteringEvaluator(predictionCol='prediction', featuresCol='standardized',metricName='silhouette', distanceMeasure='squaredEuclidean')\n",
        "\n",
        "for i in range(2,10):\n",
        "    KMeans_algo=KMeans(featuresCol='standardized', k=i)\n",
        "    KMeans_fit=KMeans_algo.fit(data_scale_output)\n",
        "    output=KMeans_fit.transform(data_scale_output)\n",
        "    cost[i] = KMeans_fit.summary.trainingCost"
      ],
      "metadata": {
        "id": "Si6hfGbX2K7D"
      },
      "execution_count": null,
      "outputs": []
    },
    {
      "cell_type": "code",
      "source": [
        "import pandas as pd\n",
        "import pylab as pl\n",
        "df_cost = pd.DataFrame(cost[2:])\n",
        "df_cost.columns = [\"cost\"]\n",
        "new_col = range(2,10)\n",
        "df_cost.insert(0, 'cluster', new_col)\n",
        "pl.plot(df_cost.cluster, df_cost.cost)\n",
        "pl.xlabel('Number of Clusters')\n",
        "pl.ylabel('Score')\n",
        "pl.title('Elbow Curve')\n",
        "pl.show()"
      ],
      "metadata": {
        "colab": {
          "base_uri": "https://localhost:8080/",
          "height": 295
        },
        "id": "LQkw8I_F2ORy",
        "outputId": "410218b6-9523-41fd-de51-ffcf6c660a19"
      },
      "execution_count": null,
      "outputs": [
        {
          "output_type": "display_data",
          "data": {
            "text/plain": [
              "<Figure size 432x288 with 1 Axes>"
            ],
            "image/png": "[encoded data removed]"
          },
          "metadata": {
            "needs_background": "light"
          }
        }
      ]
    },
    {
      "cell_type": "code",
      "source": [
        "KMeans_algo=KMeans(featuresCol='standardized', k=4)\n",
        "KMeans_fit=KMeans_algo.fit(data_scale_output)"
      ],
      "metadata": {
        "id": "3MwHP1gg2sc-"
      },
      "execution_count": null,
      "outputs": []
    },
    {
      "cell_type": "code",
      "source": [
        "preds=KMeans_fit.transform(data_scale_output)\n",
        "\n",
        "preds.show(5,0)"
      ],
      "metadata": {
        "colab": {
          "base_uri": "https://localhost:8080/"
        },
        "id": "SzNcLzz62vol",
        "outputId": "bed81009-3b01-4b90-db59-78a2205d4d92"
      },
      "execution_count": null,
      "outputs": [
        {
          "output_type": "stream",
          "name": "stdout",
          "text": [
            "+-------+---------+--------------+----------+-----------------------+-------------------------------------------------------------+----------+\n",
            "|recency|frequency|monetary_value|CustomerID|features               |standardized                                                 |prediction|\n",
            "+-------+---------+--------------+----------+-----------------------+-------------------------------------------------------------+----------+\n",
            "|1311720|1        |3.75          |15574     |[1311720.0,1.0,3.75]   |[0.2660268697875939,0.0420619382191303,0.0020464985893339184]|0         |\n",
            "|4586760|10       |153.0         |17714     |[4586760.0,10.0,153.0] |[0.9302300836054525,0.42061938219130296,0.08349714244482385] |0         |\n",
            "|7627260|1        |-32.45        |14157     |[7627260.0,1.0,-32.45] |[1.5468667877718745,0.0420619382191303,-0.01770903445970284] |0         |\n",
            "|9700860|10       |163.3         |16250     |[9700860.0,10.0,163.3] |[1.967408761052418,0.42061938219130296,0.0891181919035277]   |1         |\n",
            "|1230360|43       |306.84        |17551     |[1230360.0,43.0,306.84]|[0.24952643819707254,1.8086633434226027,0.16745270057365852] |0         |\n",
            "+-------+---------+--------------+----------+-----------------------+-------------------------------------------------------------+----------+\n",
            "only showing top 5 rows\n",
            "\n"
          ]
        }
      ]
    },
    {
      "cell_type": "code",
      "source": [
        "import matplotlib.pyplot as plt\n",
        "import seaborn as sns\n",
        "\n",
        "df_viz = preds.select('recency','frequency','monetary_value','prediction')\n",
        "df_viz = df_viz.toPandas()\n",
        "avg_df = df_viz.groupby(['prediction'], as_index=False).mean()\n",
        "\n",
        "list1 = ['recency','frequency','monetary_value']\n",
        "\n",
        "for i in list1:\n",
        "    sns.barplot(x='prediction',y=str(i),data=avg_df)\n",
        "    plt.show()"
      ],
      "metadata": {
        "colab": {
          "base_uri": "https://localhost:8080/",
          "height": 814
        },
        "id": "y1RZ3kSL26-E",
        "outputId": "7fa75cb0-0b48-4375-e89f-e571a0c41c04"
      },
      "execution_count": null,
      "outputs": [
        {
          "output_type": "display_data",
          "data": {
            "text/plain": [
              "<Figure size 432x288 with 1 Axes>"
            ],
            "image/png": "[encoded data removed]"
          },
          "metadata": {
            "needs_background": "light"
          }
        },
        {
          "output_type": "display_data",
          "data": {
            "text/plain": [
              "<Figure size 432x288 with 1 Axes>"
            ],
            "image/png": "[encoded data removed]"
          },
          "metadata": {
            "needs_background": "light"
          }
        },
        {
          "output_type": "display_data",
          "data": {
            "text/plain": [
              "<Figure size 432x288 with 1 Axes>"
            ],
            "image/png": "[encoded data removed]"
          },
          "metadata": {
            "needs_background": "light"
          }
        }
      ]
    }
  ]
}