{
  "cells": [
    {
      "cell_type": "markdown",
      "source": [
        "![spark.png](data:image/png;base64,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)"
      ],
      "metadata": {
        "id": "Lbizmc9iFQtR"
      }
    },
    {
      "cell_type": "markdown",
      "source": [
        "# Spark DataFrames and SparkSQL"
      ],
      "metadata": {
        "id": "flU-G5HYFJ9C"
      }
    },
    {
      "cell_type": "markdown",
      "source": [
        "# Install pyspark"
      ],
      "metadata": {
        "id": "dF2Rlh2w-K6N"
      }
    },
    {
      "cell_type": "code",
      "source": [
        "# Installing required packages\n",
        "!pip install pyspark\n",
        "!pip install findspark"
      ],
      "outputs": [
        {
          "output_type": "stream",
          "name": "stdout",
          "text": [
            "Looking in indexes: https://pypi.org/simple, https://us-python.pkg.dev/colab-wheels/public/simple/\n",
            "Collecting pyspark\n",
            "  Downloading pyspark-3.3.1.tar.gz (281.4 MB)\n",
            "\u001b[K     |████████████████████████████████| 281.4 MB 38 kB/s \n",
            "\u001b[?25hCollecting py4j==0.10.9.5\n",
            "  Downloading py4j-0.10.9.5-py2.py3-none-any.whl (199 kB)\n",
            "\u001b[K     |████████████████████████████████| 199 kB 47.6 MB/s \n",
            "\u001b[?25hBuilding wheels for collected packages: pyspark\n",
            "  Building wheel for pyspark (setup.py) ... \u001b[?25l\u001b[?25hdone\n",
            "  Created wheel for pyspark: filename=pyspark-3.3.1-py2.py3-none-any.whl size=281845512 sha256=464d1dbe142a26fa1f4ddec02c3e0f1064d6d8ebecb9e08506027b72e98032cb\n",
            "  Stored in directory: /root/.cache/pip/wheels/43/dc/11/ec201cd671da62fa9c5cc77078235e40722170ceba231d7598\n",
            "Successfully built pyspark\n",
            "Installing collected packages: py4j, pyspark\n",
            "Successfully installed py4j-0.10.9.5 pyspark-3.3.1\n",
            "Looking in indexes: https://pypi.org/simple, https://us-python.pkg.dev/colab-wheels/public/simple/\n",
            "Collecting findspark\n",
            "  Downloading findspark-2.0.1-py2.py3-none-any.whl (4.4 kB)\n",
            "Installing collected packages: findspark\n",
            "Successfully installed findspark-2.0.1\n"
          ]
        }
      ],
      "execution_count": 1,
      "metadata": {
        "id": "OLzs00ic-H2C",
        "outputId": "db90e29b-2dd5-4285-e337-7ee31f800043",
        "colab": {
          "base_uri": "https://localhost:8080/"
        }
      }
    },
    {
      "cell_type": "markdown",
      "source": [
        "## Exercise 1 -  Spark Context and Spark Session\n"
      ],
      "metadata": {
        "id": "xQGWpno9-H2I"
      }
    },
    {
      "cell_type": "markdown",
      "source": [
        "In this exercise, you will create the Spark Context and initialize the Spark session needed for SparkSQL and DataFrames.\n",
        "SparkContext is the entry point for Spark applications and contains functions to create RDDs such as `parallelize()`. SparkSession is needed for SparkSQL and DataFrame operations.\n"
      ],
      "metadata": {
        "id": "_33MSZ8E-H2K"
      }
    },
    {
      "cell_type": "markdown",
      "source": [
        "#### Task 1: Creating the spark session and context\n"
      ],
      "metadata": {
        "id": "HePMRSQT-H2K"
      }
    },
    {
      "cell_type": "code",
      "source": [
        "import findspark\n",
        "findspark.init()\n",
        "\n",
        "# PySpark is the Spark API for Python. In this lab, we use PySpark to initialize the spark context. \n",
        "from pyspark import SparkContext, SparkConf\n",
        "from pyspark.sql import SparkSession\n",
        "\n",
        "# Creating a spark context class\n",
        "sc = SparkContext()\n",
        "\n",
        "# Creating a spark session\n",
        "spark = SparkSession \\\n",
        "    .builder \\\n",
        "    .appName(\"Python Spark DataFrames example\") \\\n",
        "    .config(\"spark.some.config.option\", \"some-value\") \\\n",
        "    .getOrCreate()"
      ],
      "outputs": [],
      "execution_count": 2,
      "metadata": {
        "id": "0ZJaszct-H2L"
      }
    },
    {
      "cell_type": "code",
      "source": [],
      "outputs": [],
      "execution_count": null,
      "metadata": {
        "collapsed": true,
        "jupyter": {
          "source_hidden": false,
          "outputs_hidden": false
        },
        "nteract": {
          "transient": {
            "deleting": false
          }
        },
        "id": "ookBQugi-H2M"
      }
    },
    {
      "cell_type": "markdown",
      "source": [
        "## Exercise 3: DataFrames and SparkSQL\n"
      ],
      "metadata": {
        "id": "kTePBAU3-H2M"
      }
    },
    {
      "cell_type": "markdown",
      "source": [
        "In order to work with the extremely powerful SQL engine in Apache Spark, you will need a Spark Session. We have created that in the first Exercise, let us verify that spark session is still active.\n"
      ],
      "metadata": {
        "id": "e93N9SvY-H2M"
      }
    },
    {
      "cell_type": "markdown",
      "source": [
        "#### Task 1: Create a DataFrame!\n"
      ],
      "metadata": {
        "id": "oS-D_2ix-H2N"
      }
    },
    {
      "cell_type": "markdown",
      "source": [
        "You can create a structured data set (much like a database table) in Spark.  Once you have done that, you can then use powerful SQL tools to query and join your dataframes.\n"
      ],
      "metadata": {
        "id": "sxgQjCDi-H2N"
      }
    },
    {
      "cell_type": "code",
      "source": [
        "!curl https://raw.githubusercontent.com/PacktPublishing/Jupyter-for-Data-Science/master/Chapter04/files/people.json >> people.json\n",
        "\n",
        "# Read the dataset into a spark dataframe using the `read.json()` function\n",
        "df = spark.read.json(\"people.json\").cache()"
      ],
      "outputs": [
        {
          "output_type": "stream",
          "name": "stdout",
          "text": [
            "  % Total    % Received % Xferd  Average Speed   Time    Time     Time  Current\n",
            "                                 Dload  Upload   Total   Spent    Left  Speed\n",
            "100   227  100   227    0     0    395      0 --:--:-- --:--:-- --:--:--   395\n"
          ]
        }
      ],
      "execution_count": 3,
      "metadata": {
        "id": "E9Q-K3Cy-H2O",
        "outputId": "47adf558-582c-4327-bfc5-5c45219dfc82",
        "colab": {
          "base_uri": "https://localhost:8080/"
        }
      }
    },
    {
      "cell_type": "code",
      "source": [
        "# Print the dataframe as well as the data schema\n",
        "df.show()\n",
        "df.printSchema()"
      ],
      "outputs": [
        {
          "output_type": "stream",
          "name": "stdout",
          "text": [
            "+----+----+--------------------+---------------+\n",
            "| age|born|                fame|           name|\n",
            "+----+----+--------------------+---------------+\n",
            "|null|null|                null|        Michael|\n",
            "|  30|null|                null|           Andy|\n",
            "|  19|null|                null|         Justin|\n",
            "|null|1955|co-founder of App...|     Steve Jobs|\n",
            "|null|1955|                null|Tim Berners-Lee|\n",
            "|null|1815|                null|   George Boole|\n",
            "+----+----+--------------------+---------------+\n",
            "\n",
            "root\n",
            " |-- age: long (nullable = true)\n",
            " |-- born: long (nullable = true)\n",
            " |-- fame: string (nullable = true)\n",
            " |-- name: string (nullable = true)\n",
            "\n"
          ]
        }
      ],
      "execution_count": 4,
      "metadata": {
        "id": "q9xvVzBS-H2P",
        "outputId": "c8b90a77-aade-45ba-8544-ff1420b0e692",
        "colab": {
          "base_uri": "https://localhost:8080/"
        }
      }
    },
    {
      "cell_type": "code",
      "source": [
        "# Register the DataFrame as a SQL temporary view\n",
        "df.createTempView(\"people\")"
      ],
      "outputs": [],
      "execution_count": 5,
      "metadata": {
        "id": "28Rmu4Ey-H2P"
      }
    },
    {
      "cell_type": "markdown",
      "source": [],
      "metadata": {
        "id": "Y07bmMIkFGzb"
      }
    },
    {
      "cell_type": "markdown",
      "source": [
        "#### Task 2: Explore the data using DataFrame functions and SparkSQL\n",
        "\n",
        "In this section, we explore the datasets using functions both from dataframes as well as corresponding SQL queries using sparksql. Note the different ways to achieve the same task!\n"
      ],
      "metadata": {
        "id": "0z_EajRY-H2Q"
      }
    },
    {
      "cell_type": "code",
      "source": [
        "# Select and show basic data columns\n",
        "\n",
        "df.select(\"name\").show()\n",
        "df.select(df[\"name\"]).show()\n",
        "spark.sql(\"SELECT name FROM people\").show()"
      ],
      "outputs": [
        {
          "output_type": "stream",
          "name": "stdout",
          "text": [
            "+---------------+\n",
            "|           name|\n",
            "+---------------+\n",
            "|        Michael|\n",
            "|           Andy|\n",
            "|         Justin|\n",
            "|     Steve Jobs|\n",
            "|Tim Berners-Lee|\n",
            "|   George Boole|\n",
            "+---------------+\n",
            "\n",
            "+---------------+\n",
            "|           name|\n",
            "+---------------+\n",
            "|        Michael|\n",
            "|           Andy|\n",
            "|         Justin|\n",
            "|     Steve Jobs|\n",
            "|Tim Berners-Lee|\n",
            "|   George Boole|\n",
            "+---------------+\n",
            "\n",
            "+---------------+\n",
            "|           name|\n",
            "+---------------+\n",
            "|        Michael|\n",
            "|           Andy|\n",
            "|         Justin|\n",
            "|     Steve Jobs|\n",
            "|Tim Berners-Lee|\n",
            "|   George Boole|\n",
            "+---------------+\n",
            "\n"
          ]
        }
      ],
      "execution_count": 6,
      "metadata": {
        "id": "Pu1XGul3-H2Q",
        "outputId": "be38dbf5-2955-4895-e1fe-9664074e84d1",
        "colab": {
          "base_uri": "https://localhost:8080/"
        }
      }
    },
    {
      "cell_type": "code",
      "source": [
        "# Perform basic filtering\n",
        "\n",
        "df.filter(df[\"age\"] > 21).show()\n",
        "spark.sql(\"SELECT age, name FROM people WHERE age > 21\").show()"
      ],
      "outputs": [
        {
          "output_type": "stream",
          "name": "stdout",
          "text": [
            "+---+----+----+----+\n",
            "|age|born|fame|name|\n",
            "+---+----+----+----+\n",
            "| 30|null|null|Andy|\n",
            "+---+----+----+----+\n",
            "\n",
            "+---+----+\n",
            "|age|name|\n",
            "+---+----+\n",
            "| 30|Andy|\n",
            "+---+----+\n",
            "\n"
          ]
        }
      ],
      "execution_count": 7,
      "metadata": {
        "id": "6m-slLe_-H2R",
        "outputId": "98f48306-76e3-4612-fcfe-22db1b23b7ec",
        "colab": {
          "base_uri": "https://localhost:8080/"
        }
      }
    },
    {
      "cell_type": "code",
      "source": [
        "# Perfom basic aggregation of data\n",
        "\n",
        "df.groupBy(\"age\").count().show()\n",
        "spark.sql(\"SELECT age, COUNT(age) as count FROM people GROUP BY age\").show()"
      ],
      "outputs": [
        {
          "output_type": "stream",
          "name": "stdout",
          "text": [
            "+----+-----+\n",
            "| age|count|\n",
            "+----+-----+\n",
            "|  19|    1|\n",
            "|null|    4|\n",
            "|  30|    1|\n",
            "+----+-----+\n",
            "\n",
            "+----+-----+\n",
            "| age|count|\n",
            "+----+-----+\n",
            "|  19|    1|\n",
            "|null|    0|\n",
            "|  30|    1|\n",
            "+----+-----+\n",
            "\n"
          ]
        }
      ],
      "execution_count": 8,
      "metadata": {
        "id": "oSE-AcUb-H2R",
        "outputId": "f30cb356-72c4-4e64-bbe8-75439b780103",
        "colab": {
          "base_uri": "https://localhost:8080/"
        }
      }
    },
    {
      "cell_type": "markdown",
      "source": [
        "***\n"
      ],
      "metadata": {
        "id": "xZz1Ug-S-H2S"
      }
    },
    {
      "cell_type": "markdown",
      "source": [
        "### Question 1 - RDDs\n"
      ],
      "metadata": {
        "id": "shHnVFfp-H2S"
      }
    },
    {
      "cell_type": "markdown",
      "source": [
        "Create an RDD with integers from 1-50. Apply a transformation to multiply every number by 2, resulting in an RDD that contains the first 50 even numbers.\n"
      ],
      "metadata": {
        "id": "5Daj8g58-H2S"
      }
    },
    {
      "cell_type": "code",
      "source": [
        "# starter code\n",
        "# numbers = range(1, 50)\n",
        "# numbers_RDD = ...\n",
        "# even_numbers_RDD = numbers_RDD.map(lambda x: ..)"
      ],
      "outputs": [],
      "execution_count": null,
      "metadata": {
        "id": "TkJTiPL5-H2S"
      }
    },
    {
      "cell_type": "code",
      "source": [
        "# Code block for learners to answer"
      ],
      "outputs": [],
      "execution_count": null,
      "metadata": {
        "id": "O4Ok3Ahx-H2S"
      }
    },
    {
      "cell_type": "markdown",
      "source": [
        "### Question 2 - DataFrames and SparkSQL\n"
      ],
      "metadata": {
        "id": "AeSTFKYT-H2T"
      }
    },
    {
      "cell_type": "markdown",
      "source": [
        "Similar to the `people.json` file, now read the `people2.json` file into the notebook, load it into a dataframe and apply SQL operations to determine the average age in our people2 file.\n"
      ],
      "metadata": {
        "id": "LOKMZsY8-H2T"
      }
    },
    {
      "cell_type": "code",
      "source": [
        "# starter code\n",
        "# !curl https://cf-courses-data.s3.us.cloud-object-storage.appdomain.cloud/IBM-BD0225EN-SkillsNetwork/labs/people2.json >> people2.json\n",
        "# df = spark.read...\n",
        "# df.createTempView..\n",
        "# spark.sql(\"SELECT ...\")"
      ],
      "outputs": [],
      "execution_count": null,
      "metadata": {
        "id": "w6Qa5SsR-H2T"
      }
    },
    {
      "cell_type": "code",
      "source": [
        "# Code block for learners to answer"
      ],
      "outputs": [],
      "execution_count": null,
      "metadata": {
        "id": "62431rI3-H2T"
      }
    },
    {
      "cell_type": "markdown",
      "source": [
        "Double-click **here** for a hint.\n",
        "\n",
        "<!-- The hint is below:\n",
        "\n",
        "1. The SQL query \"Select AVG(column_name) from..\" can be used to find the average value of a column. \n",
        "2. Another possible way is to use the dataframe operations select() and mean()\n",
        "-->\n"
      ],
      "metadata": {
        "id": "sT3bguRN-H2T"
      }
    },
    {
      "cell_type": "markdown",
      "source": [
        "Double-click **here** for the solution.\n",
        "\n",
        "<!-- The answer is below:\n",
        "df = spark.read('people2.json')\n",
        "df.createTempView(\"people2\")\n",
        "spark.sql(\"SELECT AVG(age) from people2\")\n",
        "-->\n"
      ],
      "metadata": {
        "id": "75Lqw0db-H2U"
      }
    },
    {
      "cell_type": "markdown",
      "source": [
        "### Question 3 - SparkSession\n"
      ],
      "metadata": {
        "id": "5bISXdzT-H2U"
      }
    },
    {
      "cell_type": "markdown",
      "source": [
        "Close the SparkSession we created for this notebook\n"
      ],
      "metadata": {
        "id": "50c6EkzG-H2U"
      }
    },
    {
      "cell_type": "code",
      "source": [
        "# Code block for learners to answer"
      ],
      "outputs": [],
      "execution_count": null,
      "metadata": {
        "id": "9sTYJVAZ-H2U"
      }
    },
    {
      "cell_type": "markdown",
      "source": [
        "Double-click **here** for the solution.\n",
        "\n",
        "<!-- The answer is below:\n",
        "\n",
        "spark.stop() will stop the spark session\n",
        "\n",
        "-->\n"
      ],
      "metadata": {
        "id": "dUuHUFpW-H2U"
      }
    }
  ],
  "metadata": {
    "kernelspec": {
      "display_name": "Python 3 (ipykernel)",
      "language": "python",
      "name": "python3"
    },
    "language_info": {
      "codemirror_mode": {
        "name": "ipython",
        "version": 3
      },
      "file_extension": ".py",
      "mimetype": "text/x-python",
      "name": "python",
      "nbconvert_exporter": "python",
      "pygments_lexer": "ipython3",
      "version": "3.9.12"
    },
    "nteract": {
      "version": "0.28.0"
    },
    "colab": {
      "provenance": []
    }
  },
  "nbformat": 4,
  "nbformat_minor": 0
}