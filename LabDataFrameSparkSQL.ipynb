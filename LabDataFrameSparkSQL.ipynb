{
  "cells": [
    {
      "cell_type": "markdown",
      "source": [
        "# Install pyspark"
      ],
      "metadata": {
        "id": "dF2Rlh2w-K6N"
      }
    },
    {
      "cell_type": "code",
      "source": [
        "# Installing required packages\n",
        "!pip install pyspark\n",
        "!pip install findspark"
      ],
      "outputs": [
        {
          "output_type": "stream",
          "name": "stdout",
          "text": [
            "Looking in indexes: https://pypi.org/simple, https://us-python.pkg.dev/colab-wheels/public/simple/\n",
            "Collecting pyspark\n",
            "  Downloading pyspark-3.3.1.tar.gz (281.4 MB)\n",
            "\u001b[K     |████████████████████████████████| 281.4 MB 44 kB/s \n",
            "\u001b[?25hCollecting py4j==0.10.9.5\n",
            "  Downloading py4j-0.10.9.5-py2.py3-none-any.whl (199 kB)\n",
            "\u001b[K     |████████████████████████████████| 199 kB 67.0 MB/s \n",
            "\u001b[?25hBuilding wheels for collected packages: pyspark\n",
            "  Building wheel for pyspark (setup.py) ... \u001b[?25l\u001b[?25hdone\n",
            "  Created wheel for pyspark: filename=pyspark-3.3.1-py2.py3-none-any.whl size=281845512 sha256=f0320eca9ee6be58ee0a67a22c3f8eba2d5707478340977f67c5e32179ed38a1\n",
            "  Stored in directory: /root/.cache/pip/wheels/43/dc/11/ec201cd671da62fa9c5cc77078235e40722170ceba231d7598\n",
            "Successfully built pyspark\n",
            "Installing collected packages: py4j, pyspark\n",
            "Successfully installed py4j-0.10.9.5 pyspark-3.3.1\n",
            "Looking in indexes: https://pypi.org/simple, https://us-python.pkg.dev/colab-wheels/public/simple/\n",
            "Collecting findspark\n",
            "  Downloading findspark-2.0.1-py2.py3-none-any.whl (4.4 kB)\n",
            "Installing collected packages: findspark\n",
            "Successfully installed findspark-2.0.1\n"
          ]
        }
      ],
      "execution_count": 1,
      "metadata": {
        "id": "OLzs00ic-H2C",
        "outputId": "981d6533-d38e-4460-910e-c037c4ca629e",
        "colab": {
          "base_uri": "https://localhost:8080/"
        }
      }
    },
    {
      "cell_type": "markdown",
      "source": [
        "## Exercise 1 -  Spark Context and Spark Session\n"
      ],
      "metadata": {
        "id": "xQGWpno9-H2I"
      }
    },
    {
      "cell_type": "markdown",
      "source": [
        "In this exercise, you will create the Spark Context and initialize the Spark session needed for SparkSQL and DataFrames.\n",
        "SparkContext is the entry point for Spark applications and contains functions to create RDDs such as `parallelize()`. SparkSession is needed for SparkSQL and DataFrame operations.\n"
      ],
      "metadata": {
        "id": "_33MSZ8E-H2K"
      }
    },
    {
      "cell_type": "markdown",
      "source": [
        "#### Task 1: Creating the spark session and context\n"
      ],
      "metadata": {
        "id": "HePMRSQT-H2K"
      }
    },
    {
      "cell_type": "code",
      "source": [
        "import findspark\n",
        "findspark.init()\n",
        "\n",
        "# PySpark is the Spark API for Python. In this lab, we use PySpark to initialize the spark context. \n",
        "from pyspark import SparkContext, SparkConf\n",
        "from pyspark.sql import SparkSession\n",
        "\n",
        "# Creating a spark context class\n",
        "sc = SparkContext()\n",
        "\n",
        "# Creating a spark session\n",
        "spark = SparkSession \\\n",
        "    .builder \\\n",
        "    .appName(\"Python Spark DataFrames example\") \\\n",
        "    .config(\"spark.some.config.option\", \"some-value\") \\\n",
        "    .getOrCreate()"
      ],
      "outputs": [],
      "execution_count": 2,
      "metadata": {
        "id": "0ZJaszct-H2L"
      }
    },
    {
      "cell_type": "code",
      "source": [],
      "outputs": [],
      "execution_count": null,
      "metadata": {
        "collapsed": true,
        "jupyter": {
          "source_hidden": false,
          "outputs_hidden": false
        },
        "nteract": {
          "transient": {
            "deleting": false
          }
        },
        "id": "ookBQugi-H2M"
      }
    },
    {
      "cell_type": "markdown",
      "source": [
        "## Exercise 3: DataFrames and SparkSQL\n"
      ],
      "metadata": {
        "id": "kTePBAU3-H2M"
      }
    },
    {
      "cell_type": "markdown",
      "source": [
        "In order to work with the extremely powerful SQL engine in Apache Spark, you will need a Spark Session. We have created that in the first Exercise, let us verify that spark session is still active.\n"
      ],
      "metadata": {
        "id": "e93N9SvY-H2M"
      }
    },
    {
      "cell_type": "markdown",
      "source": [
        "#### Task 1: Create a DataFrame!\n"
      ],
      "metadata": {
        "id": "oS-D_2ix-H2N"
      }
    },
    {
      "cell_type": "markdown",
      "source": [
        "You can create a structured data set (much like a database table) in Spark.  Once you have done that, you can then use powerful SQL tools to query and join your dataframes.\n"
      ],
      "metadata": {
        "id": "sxgQjCDi-H2N"
      }
    },
    {
      "cell_type": "code",
      "source": [
        "!curl https://raw.githubusercontent.com/PacktPublishing/Jupyter-for-Data-Science/master/Chapter04/files/people.json >> people.json\n",
        "\n",
        "# Read the dataset into a spark dataframe using the `read.json()` function\n",
        "df = spark.read.json(\"people.json\").cache()"
      ],
      "outputs": [
        {
          "output_type": "stream",
          "name": "stdout",
          "text": [
            "  % Total    % Received % Xferd  Average Speed   Time    Time     Time  Current\n",
            "                                 Dload  Upload   Total   Spent    Left  Speed\n",
            "\r  0     0    0     0    0     0      0      0 --:--:-- --:--:-- --:--:--     0\r100   227  100   227    0     0   1455      0 --:--:-- --:--:-- --:--:--  1455\n"
          ]
        }
      ],
      "execution_count": 3,
      "metadata": {
        "id": "E9Q-K3Cy-H2O",
        "outputId": "94029156-38dd-49f9-bbd4-54f839f4564a",
        "colab": {
          "base_uri": "https://localhost:8080/"
        }
      }
    },
    {
      "cell_type": "code",
      "source": [
        "# Print the dataframe as well as the data schema\n",
        "df.show()\n",
        "df.printSchema()"
      ],
      "outputs": [
        {
          "output_type": "stream",
          "name": "stdout",
          "text": [
            "+----+----+--------------------+---------------+\n",
            "| age|born|                fame|           name|\n",
            "+----+----+--------------------+---------------+\n",
            "|null|null|                null|        Michael|\n",
            "|  30|null|                null|           Andy|\n",
            "|  19|null|                null|         Justin|\n",
            "|null|1955|co-founder of App...|     Steve Jobs|\n",
            "|null|1955|                null|Tim Berners-Lee|\n",
            "|null|1815|                null|   George Boole|\n",
            "+----+----+--------------------+---------------+\n",
            "\n",
            "root\n",
            " |-- age: long (nullable = true)\n",
            " |-- born: long (nullable = true)\n",
            " |-- fame: string (nullable = true)\n",
            " |-- name: string (nullable = true)\n",
            "\n"
          ]
        }
      ],
      "execution_count": 4,
      "metadata": {
        "id": "q9xvVzBS-H2P",
        "outputId": "2467cadc-24ae-41d1-e8f7-44f0c8bdf411",
        "colab": {
          "base_uri": "https://localhost:8080/"
        }
      }
    },
    {
      "cell_type": "code",
      "source": [
        "# Register the DataFrame as a SQL temporary view\n",
        "df.createTempView(\"people\")"
      ],
      "outputs": [
        {
          "output_type": "error",
          "ename": "AnalysisException",
          "evalue": "Temporary view 'people' already exists",
          "traceback": [
            "\u001b[0;31m---------------------------------------------------------------------------\u001b[0m",
            "\u001b[0;31mAnalysisException\u001b[0m                         Traceback (most recent call last)",
            "Input \u001b[0;32mIn [25]\u001b[0m, in \u001b[0;36m<cell line: 2>\u001b[0;34m()\u001b[0m\n\u001b[1;32m      1\u001b[0m \u001b[38;5;66;03m# Register the DataFrame as a SQL temporary view\u001b[39;00m\n\u001b[0;32m----> 2\u001b[0m \u001b[43mdf\u001b[49m\u001b[38;5;241;43m.\u001b[39;49m\u001b[43mcreateTempView\u001b[49m\u001b[43m(\u001b[49m\u001b[38;5;124;43m\"\u001b[39;49m\u001b[38;5;124;43mpeople\u001b[39;49m\u001b[38;5;124;43m\"\u001b[39;49m\u001b[43m)\u001b[49m\n",
            "File \u001b[0;32m~/opt/anaconda3/lib/python3.9/site-packages/pyspark/sql/dataframe.py:256\u001b[0m, in \u001b[0;36mDataFrame.createTempView\u001b[0;34m(self, name)\u001b[0m\n\u001b[1;32m    232\u001b[0m \u001b[38;5;28;01mdef\u001b[39;00m \u001b[38;5;21mcreateTempView\u001b[39m(\u001b[38;5;28mself\u001b[39m, name: \u001b[38;5;28mstr\u001b[39m) \u001b[38;5;241m-\u001b[39m\u001b[38;5;241m>\u001b[39m \u001b[38;5;28;01mNone\u001b[39;00m:\n\u001b[1;32m    233\u001b[0m     \u001b[38;5;124;03m\"\"\"Creates a local temporary view with this :class:`DataFrame`.\u001b[39;00m\n\u001b[1;32m    234\u001b[0m \n\u001b[1;32m    235\u001b[0m \u001b[38;5;124;03m    The lifetime of this temporary table is tied to the :class:`SparkSession`\u001b[39;00m\n\u001b[0;32m   (...)\u001b[0m\n\u001b[1;32m    254\u001b[0m \n\u001b[1;32m    255\u001b[0m \u001b[38;5;124;03m    \"\"\"\u001b[39;00m\n\u001b[0;32m--> 256\u001b[0m     \u001b[38;5;28;43mself\u001b[39;49m\u001b[38;5;241;43m.\u001b[39;49m\u001b[43m_jdf\u001b[49m\u001b[38;5;241;43m.\u001b[39;49m\u001b[43mcreateTempView\u001b[49m\u001b[43m(\u001b[49m\u001b[43mname\u001b[49m\u001b[43m)\u001b[49m\n",
            "File \u001b[0;32m~/opt/anaconda3/lib/python3.9/site-packages/py4j/java_gateway.py:1321\u001b[0m, in \u001b[0;36mJavaMember.__call__\u001b[0;34m(self, *args)\u001b[0m\n\u001b[1;32m   1315\u001b[0m command \u001b[38;5;241m=\u001b[39m proto\u001b[38;5;241m.\u001b[39mCALL_COMMAND_NAME \u001b[38;5;241m+\u001b[39m\\\n\u001b[1;32m   1316\u001b[0m     \u001b[38;5;28mself\u001b[39m\u001b[38;5;241m.\u001b[39mcommand_header \u001b[38;5;241m+\u001b[39m\\\n\u001b[1;32m   1317\u001b[0m     args_command \u001b[38;5;241m+\u001b[39m\\\n\u001b[1;32m   1318\u001b[0m     proto\u001b[38;5;241m.\u001b[39mEND_COMMAND_PART\n\u001b[1;32m   1320\u001b[0m answer \u001b[38;5;241m=\u001b[39m \u001b[38;5;28mself\u001b[39m\u001b[38;5;241m.\u001b[39mgateway_client\u001b[38;5;241m.\u001b[39msend_command(command)\n\u001b[0;32m-> 1321\u001b[0m return_value \u001b[38;5;241m=\u001b[39m \u001b[43mget_return_value\u001b[49m\u001b[43m(\u001b[49m\n\u001b[1;32m   1322\u001b[0m \u001b[43m    \u001b[49m\u001b[43manswer\u001b[49m\u001b[43m,\u001b[49m\u001b[43m \u001b[49m\u001b[38;5;28;43mself\u001b[39;49m\u001b[38;5;241;43m.\u001b[39;49m\u001b[43mgateway_client\u001b[49m\u001b[43m,\u001b[49m\u001b[43m \u001b[49m\u001b[38;5;28;43mself\u001b[39;49m\u001b[38;5;241;43m.\u001b[39;49m\u001b[43mtarget_id\u001b[49m\u001b[43m,\u001b[49m\u001b[43m \u001b[49m\u001b[38;5;28;43mself\u001b[39;49m\u001b[38;5;241;43m.\u001b[39;49m\u001b[43mname\u001b[49m\u001b[43m)\u001b[49m\n\u001b[1;32m   1324\u001b[0m \u001b[38;5;28;01mfor\u001b[39;00m temp_arg \u001b[38;5;129;01min\u001b[39;00m temp_args:\n\u001b[1;32m   1325\u001b[0m     temp_arg\u001b[38;5;241m.\u001b[39m_detach()\n",
            "File \u001b[0;32m~/opt/anaconda3/lib/python3.9/site-packages/pyspark/sql/utils.py:196\u001b[0m, in \u001b[0;36mcapture_sql_exception.<locals>.deco\u001b[0;34m(*a, **kw)\u001b[0m\n\u001b[1;32m    192\u001b[0m converted \u001b[38;5;241m=\u001b[39m convert_exception(e\u001b[38;5;241m.\u001b[39mjava_exception)\n\u001b[1;32m    193\u001b[0m \u001b[38;5;28;01mif\u001b[39;00m \u001b[38;5;129;01mnot\u001b[39;00m \u001b[38;5;28misinstance\u001b[39m(converted, UnknownException):\n\u001b[1;32m    194\u001b[0m     \u001b[38;5;66;03m# Hide where the exception came from that shows a non-Pythonic\u001b[39;00m\n\u001b[1;32m    195\u001b[0m     \u001b[38;5;66;03m# JVM exception message.\u001b[39;00m\n\u001b[0;32m--> 196\u001b[0m     \u001b[38;5;28;01mraise\u001b[39;00m converted \u001b[38;5;28;01mfrom\u001b[39;00m \u001b[38;5;28mNone\u001b[39m\n\u001b[1;32m    197\u001b[0m \u001b[38;5;28;01melse\u001b[39;00m:\n\u001b[1;32m    198\u001b[0m     \u001b[38;5;28;01mraise\u001b[39;00m\n",
            "\u001b[0;31mAnalysisException\u001b[0m: Temporary view 'people' already exists"
          ]
        }
      ],
      "execution_count": null,
      "metadata": {
        "id": "28Rmu4Ey-H2P",
        "outputId": "35808e1c-c1e7-4777-92e8-18c81469239d"
      }
    },
    {
      "cell_type": "markdown",
      "source": [
        "#### Task 2: Explore the data using DataFrame functions and SparkSQL\n",
        "\n",
        "In this section, we explore the datasets using functions both from dataframes as well as corresponding SQL queries using sparksql. Note the different ways to achieve the same task!\n"
      ],
      "metadata": {
        "id": "0z_EajRY-H2Q"
      }
    },
    {
      "cell_type": "code",
      "source": [
        "# Select and show basic data columns\n",
        "\n",
        "df.select(\"name\").show()\n",
        "df.select(df[\"name\"]).show()\n",
        "spark.sql(\"SELECT name FROM people\").show()"
      ],
      "outputs": [
        {
          "output_type": "stream",
          "name": "stdout",
          "text": [
            "+---------------+\n",
            "|           name|\n",
            "+---------------+\n",
            "|        Michael|\n",
            "|           Andy|\n",
            "|         Justin|\n",
            "|        Michael|\n",
            "|           Andy|\n",
            "|         Justin|\n",
            "|        Michael|\n",
            "|           Andy|\n",
            "|         Justin|\n",
            "|     Steve Jobs|\n",
            "|Tim Berners-Lee|\n",
            "|   George Boole|\n",
            "+---------------+\n",
            "\n",
            "+---------------+\n",
            "|           name|\n",
            "+---------------+\n",
            "|        Michael|\n",
            "|           Andy|\n",
            "|         Justin|\n",
            "|        Michael|\n",
            "|           Andy|\n",
            "|         Justin|\n",
            "|        Michael|\n",
            "|           Andy|\n",
            "|         Justin|\n",
            "|     Steve Jobs|\n",
            "|Tim Berners-Lee|\n",
            "|   George Boole|\n",
            "+---------------+\n",
            "\n",
            "+---------------+\n",
            "|           name|\n",
            "+---------------+\n",
            "|        Michael|\n",
            "|           Andy|\n",
            "|         Justin|\n",
            "|        Michael|\n",
            "|           Andy|\n",
            "|         Justin|\n",
            "|        Michael|\n",
            "|           Andy|\n",
            "|         Justin|\n",
            "|     Steve Jobs|\n",
            "|Tim Berners-Lee|\n",
            "|   George Boole|\n",
            "+---------------+\n",
            "\n"
          ]
        }
      ],
      "execution_count": null,
      "metadata": {
        "id": "Pu1XGul3-H2Q",
        "outputId": "f293ad66-0387-4012-a1f9-e69a0ac2b136"
      }
    },
    {
      "cell_type": "code",
      "source": [
        "# Perform basic filtering\n",
        "\n",
        "df.filter(df[\"age\"] > 21).show()\n",
        "spark.sql(\"SELECT age, name FROM people WHERE age > 21\").show()"
      ],
      "outputs": [
        {
          "output_type": "stream",
          "name": "stdout",
          "text": [
            "+---+----+----+----+\n",
            "|age|born|fame|name|\n",
            "+---+----+----+----+\n",
            "| 30|null|null|Andy|\n",
            "| 30|null|null|Andy|\n",
            "| 30|null|null|Andy|\n",
            "+---+----+----+----+\n",
            "\n",
            "+---+----+\n",
            "|age|name|\n",
            "+---+----+\n",
            "| 30|Andy|\n",
            "| 30|Andy|\n",
            "| 30|Andy|\n",
            "+---+----+\n",
            "\n"
          ]
        }
      ],
      "execution_count": null,
      "metadata": {
        "id": "6m-slLe_-H2R",
        "outputId": "122b31dd-2c6a-40bf-815a-321db5d0aacc"
      }
    },
    {
      "cell_type": "code",
      "source": [
        "# Perfom basic aggregation of data\n",
        "\n",
        "df.groupBy(\"age\").count().show()\n",
        "spark.sql(\"SELECT age, COUNT(age) as count FROM people GROUP BY age\").show()"
      ],
      "outputs": [
        {
          "output_type": "stream",
          "name": "stdout",
          "text": [
            "+----+-----+\n",
            "| age|count|\n",
            "+----+-----+\n",
            "|  19|    3|\n",
            "|null|    6|\n",
            "|  30|    3|\n",
            "+----+-----+\n",
            "\n",
            "+----+-----+\n",
            "| age|count|\n",
            "+----+-----+\n",
            "|  19|    3|\n",
            "|null|    0|\n",
            "|  30|    3|\n",
            "+----+-----+\n",
            "\n"
          ]
        }
      ],
      "execution_count": null,
      "metadata": {
        "id": "oSE-AcUb-H2R",
        "outputId": "484a80ba-beb8-44b4-9fc6-60d71efcc4be"
      }
    },
    {
      "cell_type": "markdown",
      "source": [
        "***\n"
      ],
      "metadata": {
        "id": "xZz1Ug-S-H2S"
      }
    },
    {
      "cell_type": "markdown",
      "source": [
        "### Question 1 - RDDs\n"
      ],
      "metadata": {
        "id": "shHnVFfp-H2S"
      }
    },
    {
      "cell_type": "markdown",
      "source": [
        "Create an RDD with integers from 1-50. Apply a transformation to multiply every number by 2, resulting in an RDD that contains the first 50 even numbers.\n"
      ],
      "metadata": {
        "id": "5Daj8g58-H2S"
      }
    },
    {
      "cell_type": "code",
      "source": [
        "# starter code\n",
        "# numbers = range(1, 50)\n",
        "# numbers_RDD = ...\n",
        "# even_numbers_RDD = numbers_RDD.map(lambda x: ..)"
      ],
      "outputs": [],
      "execution_count": null,
      "metadata": {
        "id": "TkJTiPL5-H2S"
      }
    },
    {
      "cell_type": "code",
      "source": [
        "# Code block for learners to answer"
      ],
      "outputs": [],
      "execution_count": null,
      "metadata": {
        "id": "O4Ok3Ahx-H2S"
      }
    },
    {
      "cell_type": "markdown",
      "source": [
        "### Question 2 - DataFrames and SparkSQL\n"
      ],
      "metadata": {
        "id": "AeSTFKYT-H2T"
      }
    },
    {
      "cell_type": "markdown",
      "source": [
        "Similar to the `people.json` file, now read the `people2.json` file into the notebook, load it into a dataframe and apply SQL operations to determine the average age in our people2 file.\n"
      ],
      "metadata": {
        "id": "LOKMZsY8-H2T"
      }
    },
    {
      "cell_type": "code",
      "source": [
        "# starter code\n",
        "# !curl https://cf-courses-data.s3.us.cloud-object-storage.appdomain.cloud/IBM-BD0225EN-SkillsNetwork/labs/people2.json >> people2.json\n",
        "# df = spark.read...\n",
        "# df.createTempView..\n",
        "# spark.sql(\"SELECT ...\")"
      ],
      "outputs": [],
      "execution_count": null,
      "metadata": {
        "id": "w6Qa5SsR-H2T"
      }
    },
    {
      "cell_type": "code",
      "source": [
        "# Code block for learners to answer"
      ],
      "outputs": [],
      "execution_count": null,
      "metadata": {
        "id": "62431rI3-H2T"
      }
    },
    {
      "cell_type": "markdown",
      "source": [
        "Double-click **here** for a hint.\n",
        "\n",
        "<!-- The hint is below:\n",
        "\n",
        "1. The SQL query \"Select AVG(column_name) from..\" can be used to find the average value of a column. \n",
        "2. Another possible way is to use the dataframe operations select() and mean()\n",
        "-->\n"
      ],
      "metadata": {
        "id": "sT3bguRN-H2T"
      }
    },
    {
      "cell_type": "markdown",
      "source": [
        "Double-click **here** for the solution.\n",
        "\n",
        "<!-- The answer is below:\n",
        "df = spark.read('people2.json')\n",
        "df.createTempView(\"people2\")\n",
        "spark.sql(\"SELECT AVG(age) from people2\")\n",
        "-->\n"
      ],
      "metadata": {
        "id": "75Lqw0db-H2U"
      }
    },
    {
      "cell_type": "markdown",
      "source": [
        "### Question 3 - SparkSession\n"
      ],
      "metadata": {
        "id": "5bISXdzT-H2U"
      }
    },
    {
      "cell_type": "markdown",
      "source": [
        "Close the SparkSession we created for this notebook\n"
      ],
      "metadata": {
        "id": "50c6EkzG-H2U"
      }
    },
    {
      "cell_type": "code",
      "source": [
        "# Code block for learners to answer"
      ],
      "outputs": [],
      "execution_count": null,
      "metadata": {
        "id": "9sTYJVAZ-H2U"
      }
    },
    {
      "cell_type": "markdown",
      "source": [
        "Double-click **here** for the solution.\n",
        "\n",
        "<!-- The answer is below:\n",
        "\n",
        "spark.stop() will stop the spark session\n",
        "\n",
        "-->\n"
      ],
      "metadata": {
        "id": "dUuHUFpW-H2U"
      }
    }
  ],
  "metadata": {
    "kernelspec": {
      "display_name": "Python 3 (ipykernel)",
      "language": "python",
      "name": "python3"
    },
    "language_info": {
      "codemirror_mode": {
        "name": "ipython",
        "version": 3
      },
      "file_extension": ".py",
      "mimetype": "text/x-python",
      "name": "python",
      "nbconvert_exporter": "python",
      "pygments_lexer": "ipython3",
      "version": "3.9.12"
    },
    "nteract": {
      "version": "0.28.0"
    },
    "colab": {
      "provenance": []
    }
  },
  "nbformat": 4,
  "nbformat_minor": 0
}