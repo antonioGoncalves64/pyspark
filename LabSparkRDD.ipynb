{
 "cells": [
  {
   "cell_type": "markdown",
   "metadata": {
    "colab_type": "text",
    "id": "view-in-github"
   },
   "source": [
    "<a href=\"https://colab.research.google.com/github/antonioGoncalves64/pyspark/blob/main/TutorialPyspark.ipynb\" target=\"_parent\"><img src=\"https://colab.research.google.com/assets/colab-badge.svg\" alt=\"Open In Colab\"/></a>"
   ]
  },
  {
   "cell_type": "markdown",
   "metadata": {
    "id": "YtWt_7YNAAgs"
   },
   "source": [
    "![spark.png](data:image/png;base64,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)"
   ]
  },
  {
   "cell_type": "markdown",
   "metadata": {
    "id": "cTd5G31cE2VG"
   },
   "source": [
    "# Spark RDD"
   ]
  },
  {
   "cell_type": "markdown",
   "metadata": {
    "id": "y5TC_wFBcbhG"
   },
   "source": [
    "# Install pyspark\n",
    "\n",
    "The easy way of installing PySpark on Google Colab is to use pip install."
   ]
  },
  {
   "cell_type": "code",
   "execution_count": null,
   "metadata": {
    "colab": {
     "base_uri": "https://localhost:8080/"
    },
    "id": "uu32wx-2bIK7",
    "outputId": "764dde19-45ef-4694-833c-4461e5bf525d"
   },
   "outputs": [
    {
     "name": "stdout",
     "output_type": "stream",
     "text": [
      "Looking in indexes: https://pypi.org/simple, https://us-python.pkg.dev/colab-wheels/public/simple/\n",
      "Collecting pyspark\n",
      "  Downloading pyspark-3.3.1.tar.gz (281.4 MB)\n",
      "\u001b[K     |████████████████████████████████| 281.4 MB 52 kB/s \n",
      "\u001b[?25hCollecting py4j==0.10.9.5\n",
      "  Downloading py4j-0.10.9.5-py2.py3-none-any.whl (199 kB)\n",
      "\u001b[K     |████████████████████████████████| 199 kB 49.0 MB/s \n",
      "\u001b[?25hBuilding wheels for collected packages: pyspark\n",
      "  Building wheel for pyspark (setup.py) ... \u001b[?25l\u001b[?25hdone\n",
      "  Created wheel for pyspark: filename=pyspark-3.3.1-py2.py3-none-any.whl size=281845512 sha256=c958de17a49c2a65bfa5a0386d4cd37cd4611499b1c869450e45426990f81079\n",
      "  Stored in directory: /root/.cache/pip/wheels/43/dc/11/ec201cd671da62fa9c5cc77078235e40722170ceba231d7598\n",
      "Successfully built pyspark\n",
      "Installing collected packages: py4j, pyspark\n",
      "Successfully installed py4j-0.10.9.5 pyspark-3.3.1\n",
      "Looking in indexes: https://pypi.org/simple, https://us-python.pkg.dev/colab-wheels/public/simple/\n",
      "Collecting findspark\n",
      "  Downloading findspark-2.0.1-py2.py3-none-any.whl (4.4 kB)\n",
      "Installing collected packages: findspark\n",
      "Successfully installed findspark-2.0.1\n"
     ]
    }
   ],
   "source": [
    "!pip install pyspark\n",
    "!pip install findspark"
   ]
  },
  {
   "cell_type": "markdown",
   "metadata": {
    "id": "2TjBgdBYc4Z1"
   },
   "source": [
    "# Creating a SparkSession\n",
    "After installation, we can create a Spark context and check its information."
   ]
  },
  {
   "cell_type": "code",
   "execution_count": null,
   "metadata": {
    "colab": {
     "base_uri": "https://localhost:8080/",
     "height": 219
    },
    "id": "XIauV_VmdaOJ",
    "outputId": "87a419f3-47c1-47a5-8fb0-8f3972d94125"
   },
   "outputs": [
    {
     "data": {
      "text/html": [
       "\n",
       "            <div>\n",
       "                <p><b>SparkSession - in-memory</b></p>\n",
       "                \n",
       "        <div>\n",
       "            <p><b>SparkContext</b></p>\n",
       "\n",
       "            <p><a href=\"http://413385550f82:4040\">Spark UI</a></p>\n",
       "\n",
       "            <dl>\n",
       "              <dt>Version</dt>\n",
       "                <dd><code>v3.3.1</code></dd>\n",
       "              <dt>Master</dt>\n",
       "                <dd><code>local[*]</code></dd>\n",
       "              <dt>AppName</dt>\n",
       "                <dd><code>Intro pyspark</code></dd>\n",
       "            </dl>\n",
       "        </div>\n",
       "        \n",
       "            </div>\n",
       "        "
      ],
      "text/plain": [
       "<pyspark.sql.session.SparkSession at 0x7fcbf1007df0>"
      ]
     },
     "execution_count": 34,
     "metadata": {},
     "output_type": "execute_result"
    }
   ],
   "source": [
    "from pyspark import SparkConf \n",
    "from pyspark.context import SparkContext \n",
    "\n",
    "import findspark\n",
    "\n",
    "findspark.init()\n",
    "\n",
    "sc = SparkContext.getOrCreate(SparkConf().setMaster(\"local[*]\").setAppName(\"Intro pyspark\"))\n",
    "\n",
    "spark = SparkSession.builder.master(\"local[1]\").appName('SparkDataFrame').getOrCreate()\n",
    "\n",
    "\n",
    "\n",
    "\n",
    "spark\n"
   ]
  },
  {
   "cell_type": "markdown",
   "metadata": {
    "id": "S_x0ahKgedgz"
   },
   "source": [
    "# Resilient Distributed Datasets (RDD)\n",
    "Spark revolves around the concept of a resilient distributed dataset (RDD), which is a fault-tolerant collection of elements that can be operated on in parallel."
   ]
  },
  {
   "cell_type": "markdown",
   "metadata": {
    "id": "NqxCeQ7DeyEY"
   },
   "source": [
    "## How to create RDDs\n",
    "\n",
    "There are two ways to create RDDs:\n",
    "\n",
    "* parallelizing an existing collection in your driver program, or\n",
    "* referencing a dataset in an external storage system, such as a shared filesystem, HDFS, HBase, or any data source offering a Hadoop InputFormat."
   ]
  },
  {
   "cell_type": "markdown",
   "metadata": {
    "id": "1WOLHqqDfrtX"
   },
   "source": [
    "### Parallelized collection\n",
    "\n",
    "Parallelized collections are created by calling SparkContext’s parallelize method on an existing iterable or collection in your driver program. The elements of the collection are copied to form a distributed dataset that can be operated on in parallel. For example, here is how to create two parallelized collection: one for holding the numbers 1 to 5 and the other for hoding a String."
   ]
  },
  {
   "cell_type": "code",
   "execution_count": null,
   "metadata": {
    "colab": {
     "base_uri": "https://localhost:8080/"
    },
    "id": "E5ztdsxefEnN",
    "outputId": "496ad4c4-17b8-4052-d9bd-e16693a2df68"
   },
   "outputs": [
    {
     "name": "stdout",
     "output_type": "stream",
     "text": [
      "numRDD:    <class 'pyspark.rdd.RDD'>\n",
      "helloRDD:  <class 'pyspark.rdd.RDD'>\n"
     ]
    }
   ],
   "source": [
    "numRDD = sc.parallelize([1,2,3,4,5])\n",
    "print (\"numRDD:   \", type(numRDD)) #confirm type of object RDD\n",
    "\n",
    "helloRDD = sc.parallelize((\"Hello world\"))\n",
    "print (\"helloRDD: \",type(helloRDD)) #confirm type of object RDD"
   ]
  },
  {
   "cell_type": "markdown",
   "metadata": {
    "id": "FGwFtO39gCpq"
   },
   "source": [
    "Once created, the distributed dataset (distData) can be operated on in parallel. For example, we can call distData.reduce(lambda a, b: a + b) to add up the elements of the list."
   ]
  },
  {
   "cell_type": "code",
   "execution_count": null,
   "metadata": {
    "colab": {
     "base_uri": "https://localhost:8080/"
    },
    "id": "aTPrNBTwgGnC",
    "outputId": "b7dfdf3e-13ef-44ae-af00-e8b6716a88aa"
   },
   "outputs": [
    {
     "data": {
      "text/plain": [
       "6"
      ]
     },
     "execution_count": 4,
     "metadata": {},
     "output_type": "execute_result"
    }
   ],
   "source": [
    "distData = sc.parallelize([1,2,3])\n",
    "distData.reduce(lambda a, b: a + b)"
   ]
  },
  {
   "cell_type": "markdown",
   "metadata": {
    "id": "RxvHIDiNgMAa"
   },
   "source": [
    "One important parameter for parallel collections is the number of partitions to cut the dataset into. Spark will run one task for each partition of the cluster. Typically you want 2-4 partitions for each CPU in your cluster. Normally, Spark tries to set the number of partitions automatically based on your cluster. However, you can also set it manually by passing it as a second parameter to parallelize (e.g. sc.parallelize(data, 10))"
   ]
  },
  {
   "cell_type": "code",
   "execution_count": null,
   "metadata": {
    "colab": {
     "base_uri": "https://localhost:8080/"
    },
    "id": "TbbmSxvOgNuC",
    "outputId": "993abcaa-5f41-41e3-cf28-35b7d3382695"
   },
   "outputs": [
    {
     "name": "stdout",
     "output_type": "stream",
     "text": [
      "Data01 NumPartitions:  2\n",
      "data02 NumPartitions:  3\n"
     ]
    }
   ],
   "source": [
    "data01 = sc.parallelize([1,2,3,4,5])\n",
    "print (\"Data01 NumPartitions: \", data01.getNumPartitions())\n",
    "\n",
    "data02 = sc.parallelize([1,2,3,4,5],3)\n",
    "print (\"data02 NumPartitions: \", data02.getNumPartitions())"
   ]
  },
  {
   "cell_type": "markdown",
   "metadata": {
    "id": "CoFolhdgiTPY"
   },
   "source": [
    "### External Datasets\n",
    "PySpark can create distributed datasets from any storage source supported by Hadoop, including your local file system, HDFS, Cassandra, HBase, Amazon S3, etc. Spark supports text files, SequenceFiles, and any other Hadoop InputFormat.\n",
    "\n",
    "Text file RDDs can be created using SparkContext’s textFile method. This method takes a URI for the file (either a local path on the machine, or a hdfs://, s3a://, etc URI) and reads it as a collection of lines. Here is an example invocation:"
   ]
  },
  {
   "cell_type": "code",
   "execution_count": null,
   "metadata": {
    "colab": {
     "base_uri": "https://localhost:8080/"
    },
    "id": "i3CvUU_siqi_",
    "outputId": "af395a9b-9d03-4623-f7e6-d15cc9fd0b1e"
   },
   "outputs": [
    {
     "name": "stdout",
     "output_type": "stream",
     "text": [
      "  % Total    % Received % Xferd  Average Speed   Time    Time     Time  Current\n",
      "                                 Dload  Upload   Total   Spent    Left  Speed\n",
      "100 22663  100 22663    0     0  37834      0 --:--:-- --:--:-- --:--:-- 37771\n",
      "Car;MPG;Cylinders;Displacement;Horsepower;Weight;Acceleration;Model;Origin\n",
      "STRING;DOUBLE;INT;DOUBLE;DOUBLE;DOUBLE;DOUBLE;INT;CAT\n",
      "Chevrolet Chevelle Malibu;18.0;8;307.0;130.0;3504.;12.0;70;US\n"
     ]
    }
   ],
   "source": [
    "\n",
    "!curl https://perso.telecom-paristech.fr/eagan/class/igr204/data/cars.csv >> cars.csv\n",
    "\n",
    "\n",
    "fileRDD = sc.textFile(\"cars.csv\")\n",
    "\n",
    "newRDD= fileRDD.take(3)\n",
    "\n",
    "for i in newRDD:\n",
    "    print(i)"
   ]
  },
  {
   "cell_type": "markdown",
   "metadata": {
    "id": "FVKUL-IVepVB"
   },
   "source": [
    "### RDD Operations\n",
    "\n",
    "RDDs support two types of operations: transformations and actions\n",
    " \n",
    "* Transformations  create a new dataset from an existing one.\n",
    "* Actions, which return a value to the driver program after running a computation on the dataset. \n",
    "\n",
    "For example, map is a transformation that passes each dataset element through a function and returns a new RDD representing the results. On the other hand, reduce is an action that aggregates all the elements of the RDD using some function and returns the final result to the driver program (although there is also a parallel reduceByKey that returns a distributed dataset).\n",
    "\n",
    "All transformations in Spark are lazy, in that they do not compute their results right away. Instead, they just remember the transformations applied to some base dataset (e.g. a file). The transformations are only computed when an action requires a result to be returned to the driver program. This design enables Spark to run more efficiently. For example, we can realize that a dataset created through map will be used in a reduce and return only the result of the reduce to the driver, rather than the larger mapped dataset.\n"
   ]
  },
  {
   "cell_type": "markdown",
   "metadata": {
    "id": "zg2yz8pnhYLc"
   },
   "source": [
    "#### Transformations\n"
   ]
  },
  {
   "cell_type": "code",
   "execution_count": null,
   "metadata": {
    "colab": {
     "base_uri": "https://localhost:8080/"
    },
    "id": "sa6vX4Ilm3vS",
    "outputId": "2dca9877-bd2c-4d65-fc98-5ca76af40969"
   },
   "outputs": [
    {
     "name": "stdout",
     "output_type": "stream",
     "text": [
      "RDD_map:  [2, 4, 6, 8, 10]\n"
     ]
    }
   ],
   "source": [
    "# map( ) - Return a new RDD by applying a function to each element of this RDD.\n",
    "\n",
    "RDD = sc.parallelize([1,2,3,4,5])\n",
    "RDD_map = RDD.map(lambda x : x * 2)\n",
    "print (\"RDD_map: \",RDD_map.collect()) # action convert to a  List"
   ]
  },
  {
   "cell_type": "code",
   "execution_count": null,
   "metadata": {
    "colab": {
     "base_uri": "https://localhost:8080/"
    },
    "id": "ICjGylIDnG3I",
    "outputId": "0f3c1b50-6c70-42b5-a1df-82f47219de56"
   },
   "outputs": [
    {
     "name": "stdout",
     "output_type": "stream",
     "text": [
      "RDD_filter:  [3, 4]\n"
     ]
    }
   ],
   "source": [
    "# filter( ) returns a new RDD with only the elements that pass the condition\n",
    "\n",
    "RDD = sc.parallelize([1,2,3,4])\n",
    "RDD_filter = RDD.filter(lambda x : x >2)\n",
    "print (\"RDD_filter: \", RDD_filter.collect()) # action convert to a  List"
   ]
  },
  {
   "cell_type": "code",
   "execution_count": null,
   "metadata": {
    "colab": {
     "base_uri": "https://localhost:8080/"
    },
    "id": "YczEBvB7nHG3",
    "outputId": "dc038127-0c5b-4b90-df14-afe2ac5a314b"
   },
   "outputs": [
    {
     "name": "stdout",
     "output_type": "stream",
     "text": [
      "RDD_flatMap:  ['hello', 'word', 'How', 'are', 'you']\n"
     ]
    }
   ],
   "source": [
    "# flatMap( ) returns multiple values for each element in the original RDD\n",
    "\n",
    "RDD = sc.parallelize([\"hello word\", \"How are you\"])\n",
    "RDD_flatMap = RDD.flatMap(lambda x : x.split(\" \"))\n",
    "print (\"RDD_flatMap: \", RDD_flatMap.collect()) # action convert to a  List"
   ]
  },
  {
   "cell_type": "code",
   "execution_count": null,
   "metadata": {
    "colab": {
     "base_uri": "https://localhost:8080/"
    },
    "id": "jho6OzISnHQ3",
    "outputId": "059a3268-538f-4eb8-b547-ce176aef563b"
   },
   "outputs": [
    {
     "data": {
      "text/plain": [
       "[1, 3, 5, 7, 2, 4, 6, 8]"
      ]
     },
     "execution_count": 10,
     "metadata": {},
     "output_type": "execute_result"
    }
   ],
   "source": [
    "# union( ) Return the union of this RDD and another one\n",
    "\n",
    "rdd01 = sc.parallelize([1, 3, 5, 7])\n",
    "rdd02 = sc.parallelize([2, 4, 6, 8])\n",
    "rdd03 = rdd01.union(rdd02)\n",
    "rdd03.collect()"
   ]
  },
  {
   "cell_type": "markdown",
   "metadata": {
    "id": "eNcDqouUoDXW"
   },
   "source": [
    "#### Actions"
   ]
  },
  {
   "cell_type": "code",
   "execution_count": null,
   "metadata": {
    "colab": {
     "base_uri": "https://localhost:8080/"
    },
    "id": "stkC1bThoPNF",
    "outputId": "10327fd8-2a70-4e1f-99b9-16682b4e0845"
   },
   "outputs": [
    {
     "name": "stdout",
     "output_type": "stream",
     "text": [
      "Value: 1\n",
      "Value: 2\n",
      "Value: 3\n",
      "Value: 4\n",
      "Value: 5\n",
      "Value: 6\n",
      "Value: 7\n",
      "Value: 8\n",
      "Value: 9\n",
      "Value: 10\n",
      "Value: 11\n",
      "Value: 12\n"
     ]
    }
   ],
   "source": [
    "# collection ( ) Return a list that contains all of the elements in this RDD\n",
    "\n",
    "data = [1,2,3,4,5,6,7,8,9,10,11,12]\n",
    "rdd  = sc.parallelize(data)\n",
    "\n",
    "newData = rdd.collect()\n",
    "for d in newData:\n",
    "    print (f\"Value: {d}\")"
   ]
  },
  {
   "cell_type": "code",
   "execution_count": null,
   "metadata": {
    "colab": {
     "base_uri": "https://localhost:8080/"
    },
    "id": "GwEaAKFioYVF",
    "outputId": "8dd4c319-cadf-4a2b-c62b-e1f95ee3e200"
   },
   "outputs": [
    {
     "name": "stdout",
     "output_type": "stream",
     "text": [
      "Value: 1\n",
      "Value: 2\n"
     ]
    }
   ],
   "source": [
    "# take(num) – Take the first num elements of the RDD\n",
    "\n",
    "data = [1,2,3,4,5,6,7,8,9,10,11,12]\n",
    "rdd  = sc.parallelize(data)\n",
    "\n",
    "newData = rdd.take(2)\n",
    "for d in newData:\n",
    "    print (f\"Value: {d}\")"
   ]
  },
  {
   "cell_type": "code",
   "execution_count": null,
   "metadata": {
    "colab": {
     "base_uri": "https://localhost:8080/"
    },
    "id": "-_Z4xlYvogo4",
    "outputId": "14e463b0-266d-45f8-cc40-d8fadf7f9b18"
   },
   "outputs": [
    {
     "name": "stdout",
     "output_type": "stream",
     "text": [
      "Value: 1\n"
     ]
    }
   ],
   "source": [
    "# first( ) – Returns the first record of the RDD\n",
    "\n",
    "data = [1,2,3,4,5,6,7,8,9,10,11,12]\n",
    "rdd  = sc.parallelize(data)\n",
    "\n",
    "newData = rdd.first()\n",
    "print (f\"Value: {newData}\")"
   ]
  },
  {
   "cell_type": "code",
   "execution_count": null,
   "metadata": {
    "colab": {
     "base_uri": "https://localhost:8080/"
    },
    "id": "4bqBHK_jomPQ",
    "outputId": "8ada1359-fa9f-47a4-b856-b02a22f0bc40"
   },
   "outputs": [
    {
     "name": "stdout",
     "output_type": "stream",
     "text": [
      "Count: 12\n"
     ]
    }
   ],
   "source": [
    "# count( ) – Returns the number of records in an RDD\n",
    "\n",
    "data = [1,2,3,4,5,6,7,8,9,10,11,12]\n",
    "rdd  = sc.parallelize(data)\n",
    "\n",
    "num = rdd.count()\n",
    "print (f\"Count: {num}\")"
   ]
  },
  {
   "cell_type": "code",
   "execution_count": null,
   "metadata": {
    "colab": {
     "base_uri": "https://localhost:8080/"
    },
    "id": "xuuLupgAomcJ",
    "outputId": "985e140f-d697-4dea-b6e4-a5b0b294478d"
   },
   "outputs": [
    {
     "name": "stdout",
     "output_type": "stream",
     "text": [
      "Max: 12\n"
     ]
    }
   ],
   "source": [
    "# max( ) – Returns max record\n",
    "\n",
    "data = [1,2,3,4,5,6,7,8,9,10,11,12]\n",
    "rdd  = sc.parallelize(data)\n",
    "\n",
    "num = rdd.max()\n",
    "print (f\"Max: {num}\")"
   ]
  },
  {
   "cell_type": "code",
   "execution_count": null,
   "metadata": {
    "id": "U2G5cn1Domfv"
   },
   "outputs": [],
   "source": [
    "# reduce( ) – Reduces the records to single, we can use this to count or sum\n",
    "\n",
    "data = [1,2,3,4,5,6,7,8,9,10,11,12]\n",
    "rdd  = sc.parallelize(data)\n",
    "\n",
    "num = rdd.reduce(lambda a,b: (a+b))\n",
    "print (f\"Max: {num}\")"
   ]
  },
  {
   "cell_type": "code",
   "execution_count": null,
   "metadata": {
    "id": "5Aeg264po0f_"
   },
   "outputs": [],
   "source": []
  },
  {
   "cell_type": "markdown",
   "metadata": {
    "id": "P5JQGB8go-6j"
   },
   "source": [
    "## Pair RDDs\n",
    "\n",
    "Spark Paired RDDs are RDDs containing a key-value pair. Key-value pair (KVP) consists of a two linked data item in it. Here, the key is the identifier, whereas value is the data corresponding to the key value."
   ]
  },
  {
   "cell_type": "markdown",
   "metadata": {
    "id": "3hxK-CL4xovT"
   },
   "source": [
    "#### Creating Pair RDDs\n",
    "Two common ways to create pair RDD:\n",
    "\n",
    "* From a list of key-value tuples\n",
    "* From a regular RDD"
   ]
  },
  {
   "cell_type": "code",
   "execution_count": null,
   "metadata": {
    "colab": {
     "base_uri": "https://localhost:8080/"
    },
    "id": "eQVy8b_nxzzg",
    "outputId": "4040aad0-0273-48d6-a564-ab7f58b14b6b"
   },
   "outputs": [
    {
     "data": {
      "text/plain": [
       "[('a', 1), ('b', 1), ('c', 1)]"
      ]
     },
     "execution_count": 16,
     "metadata": {},
     "output_type": "execute_result"
    }
   ],
   "source": [
    "# Create a Pair RDD from regular RDD\n",
    "\n",
    "rdd = sc.parallelize([\"b\", \"a\", \"c\"])\n",
    "sorted(rdd.map(lambda x: (x, 1)).collect())"
   ]
  },
  {
   "cell_type": "code",
   "execution_count": null,
   "metadata": {
    "colab": {
     "base_uri": "https://localhost:8080/"
    },
    "id": "tCGfYEfkx7d2",
    "outputId": "c596a990-6b58-44b9-d530-163bc817f099"
   },
   "outputs": [
    {
     "data": {
      "text/plain": [
       "[(1, 'a'), (2, 'b'), (3, 'c')]"
      ]
     },
     "execution_count": 17,
     "metadata": {},
     "output_type": "execute_result"
    }
   ],
   "source": [
    "# Create a Pair RDD from a list\n",
    "\n",
    "rdd = sc.parallelize([(1,\"a\"), (2,\"b\"), (3,\"c\")])\n",
    "rdd.collect()"
   ]
  },
  {
   "cell_type": "markdown",
   "metadata": {
    "id": "cBnHZy3byBZ-"
   },
   "source": [
    "#### Transformations on pair RDDs\n",
    "\n",
    "All regular transformations work on pair RDD. Have to pass functions that operate on key value pairs rather than on individual elements"
   ]
  },
  {
   "cell_type": "code",
   "execution_count": null,
   "metadata": {
    "colab": {
     "base_uri": "https://localhost:8080/"
    },
    "id": "wwpHth-TyMrU",
    "outputId": "c8db88ce-794e-46f8-ec05-4bd08a91ef0d"
   },
   "outputs": [
    {
     "data": {
      "text/plain": [
       "[('b', 2), ('c', 10), ('d', 5), ('a', 7)]"
      ]
     },
     "execution_count": 18,
     "metadata": {},
     "output_type": "execute_result"
    }
   ],
   "source": [
    "# reduceByKey(fun) - groups all the values with the same key\n",
    "\n",
    "rdd = sc.parallelize([(\"a\",1), (\"b\",2), (\"c\", 10),(\"a\", 2), (\"d\", 5), (\"a\", 4) ])\n",
    "rdd_reduceByKey = rdd.reduceByKey(lambda x, y: x+y )\n",
    "rdd_reduceByKey.collect()"
   ]
  },
  {
   "cell_type": "code",
   "execution_count": null,
   "metadata": {
    "colab": {
     "base_uri": "https://localhost:8080/"
    },
    "id": "NHwTbpWyyRyc",
    "outputId": "cee6ff69-18ea-4026-801a-2b4131c317b3"
   },
   "outputs": [
    {
     "data": {
      "text/plain": [
       "[('a', 7), ('b', 10), ('c', 2), ('d', 5)]"
      ]
     },
     "execution_count": 19,
     "metadata": {},
     "output_type": "execute_result"
    }
   ],
   "source": [
    "# sortByKey(fun) - Order RDD pair by key\n",
    "\n",
    "rdd = sc.parallelize([(\"a\",1), (\"c\",2), (\"b\", 10),(\"a\", 2), (\"d\", 5), (\"a\", 4) ])\n",
    "rdd_reduceByKey = rdd.reduceByKey(lambda x, y: x+y )\n",
    "rdd_reduceByKey.sortByKey(ascending = True).collect()"
   ]
  },
  {
   "cell_type": "code",
   "execution_count": null,
   "metadata": {
    "colab": {
     "base_uri": "https://localhost:8080/"
    },
    "id": "HcGYGzxLyVo8",
    "outputId": "eb593c63-49d0-4fad-ef20-c8f0047e8d74"
   },
   "outputs": [
    {
     "name": "stdout",
     "output_type": "stream",
     "text": [
      "c [2]\n",
      "b [10]\n",
      "d [5]\n",
      "a [1, 2, 4]\n"
     ]
    }
   ],
   "source": [
    "# groupByKey( ) - Groups all the values with the same key in the pair\n",
    "\n",
    "rdd = sc.parallelize([(\"a\",1), (\"c\",2), (\"b\", 10),(\"a\", 2), (\"d\", 5), (\"a\", 4) ])\n",
    "rdd_groupByKey = rdd.groupByKey().collect()\n",
    "for letter, value in  rdd_groupByKey:\n",
    "    print (letter, list(value))"
   ]
  },
  {
   "cell_type": "code",
   "execution_count": null,
   "metadata": {
    "colab": {
     "base_uri": "https://localhost:8080/"
    },
    "id": "Zzx2RbH9yV3k",
    "outputId": "1e167f20-0fa6-4b7f-9465-6729e2c46776"
   },
   "outputs": [
    {
     "data": {
      "text/plain": [
       "[('b', (5, 3)), ('a', (1, 2))]"
      ]
     },
     "execution_count": 20,
     "metadata": {},
     "output_type": "execute_result"
    }
   ],
   "source": [
    "# join( ) - transformation joins the two pair RDDs based on their key\n",
    "\n",
    "rdd01 = sc.parallelize([(\"a\",1), (\"b\", 5),(\"c\", 7) ])\n",
    "rdd02 = sc.parallelize([(\"a\",2), (\"b\", 3),(\"d\", 4) ])\n",
    "\n",
    "rdd01. join(rdd02).collect()"
   ]
  },
  {
   "cell_type": "code",
   "execution_count": null,
   "metadata": {
    "colab": {
     "base_uri": "https://localhost:8080/"
    },
    "id": "3HiAIbCNyf7B",
    "outputId": "3bc02ba4-dc14-42ab-8161-358bf53c6f79"
   },
   "outputs": [
    {
     "name": "stdout",
     "output_type": "stream",
     "text": [
      "a 2\n",
      "b 1\n"
     ]
    }
   ],
   "source": [
    "# countByKey( ) - action counts the number of elements for each key\n",
    "\n",
    "rdd = sc.parallelize([(\"a\",2), (\"b\", 4),(\"a\", 3) ])\n",
    "for key, val in  rdd.countByKey().items():\n",
    "    print (key, val)"
   ]
  },
  {
   "cell_type": "code",
   "execution_count": null,
   "metadata": {
    "colab": {
     "base_uri": "https://localhost:8080/"
    },
    "id": "GdOxOJK3ygDS",
    "outputId": "536f0661-e4ea-4172-a3ed-f65eaac7cdec"
   },
   "outputs": [
    {
     "data": {
      "text/plain": [
       "{'a': 2, 'b': 4, 'c': 3}"
      ]
     },
     "execution_count": 22,
     "metadata": {},
     "output_type": "execute_result"
    }
   ],
   "source": [
    "# collectAsMap( ) - action return the key-value pairs in the RDD as a dictionary\n",
    "\n",
    "rdd = sc.parallelize([(\"a\",2), (\"b\", 4),(\"c\", 3) ])\n",
    "rdd.collectAsMap()"
   ]
  },
  {
   "cell_type": "markdown",
   "metadata": {
    "id": "C1nAue2JPfVz"
   },
   "source": [
    "## Example compute-intensive tasks\n",
    "\n",
    "Spark can also be used for compute-intensive tasks. \n",
    "\n",
    "This code estimates π by \"throwing darts\" at a circle. We pick random points in the unit square ((0, 0) to (1,1)) and see how many fall in the unit circle. The fraction should be π / 4, so we use this to get our estimate."
   ]
  },
  {
   "cell_type": "code",
   "execution_count": null,
   "metadata": {
    "colab": {
     "base_uri": "https://localhost:8080/"
    },
    "id": "yjt7bkykP8uO",
    "outputId": "b2e8b75f-c842-4045-e4ed-e43371973278"
   },
   "outputs": [
    {
     "name": "stdout",
     "output_type": "stream",
     "text": [
      "Pi is roughly 3.1423168\n"
     ]
    }
   ],
   "source": [
    "from random import random\n",
    "NUM_SAMPLES = 10000000\n",
    "\n",
    "def sample(p):\n",
    "    x, y = random(), random()\n",
    "    return 1 if x*x + y*y < 1 else 0\n",
    "\n",
    "sample_nums = sc.parallelize(range(0, NUM_SAMPLES))\n",
    "#sample = sample_nums.map(lambda a: 1 if 1<2 else 0)\n",
    "sample = sample_nums.map(sample)\n",
    "count = sample.reduce(lambda a, b: a + b)\n",
    "val = 4.0 * count / NUM_SAMPLES\n",
    "\n",
    "print (F\"Pi is roughly {val}\")"
   ]
  },
  {
   "cell_type": "markdown",
   "metadata": {
    "id": "X4yWgGcS00XZ"
   },
   "source": [
    "# DataFrame\n",
    "\n",
    "\n",
    "A DataFrame is a two-dimensional labeled data structure with columns of potentially different types. You can think of a DataFrame like a spreadsheet, a SQL table, or a dictionary of series objects. Apache Spark DataFrames provide a rich set of functions (select columns, filter, join, aggregate) that allow you to solve common data analysis problems efficiently.\n",
    "\n",
    "Apache Spark DataFrames are an abstraction built on top of Resilient Distributed Datasets (RDDs). Spark DataFrames and Spark SQL use a unified planning and optimization engine, allowing you to get nearly identical performance across all supported languages (Python, SQL, Scala, and R)"
   ]
  },
  {
   "cell_type": "markdown",
   "metadata": {
    "id": "i2eQzRys84BD"
   },
   "source": [
    "## Create a Spark Session"
   ]
  },
  {
   "cell_type": "code",
   "execution_count": null,
   "metadata": {
    "colab": {
     "base_uri": "https://localhost:8080/",
     "height": 219
    },
    "id": "ul1ATYdZ8k-l",
    "outputId": "b1744b0e-074b-40f4-e2ba-0a35ba32c253"
   },
   "outputs": [
    {
     "data": {
      "text/html": [
       "\n",
       "            <div>\n",
       "                <p><b>SparkSession - in-memory</b></p>\n",
       "                \n",
       "        <div>\n",
       "            <p><b>SparkContext</b></p>\n",
       "\n",
       "            <p><a href=\"http://413385550f82:4040\">Spark UI</a></p>\n",
       "\n",
       "            <dl>\n",
       "              <dt>Version</dt>\n",
       "                <dd><code>v3.3.1</code></dd>\n",
       "              <dt>Master</dt>\n",
       "                <dd><code>local[*]</code></dd>\n",
       "              <dt>AppName</dt>\n",
       "                <dd><code>Intro pyspark</code></dd>\n",
       "            </dl>\n",
       "        </div>\n",
       "        \n",
       "            </div>\n",
       "        "
      ],
      "text/plain": [
       "<pyspark.sql.session.SparkSession at 0x7fcbf1007df0>"
      ]
     },
     "execution_count": 32,
     "metadata": {},
     "output_type": "execute_result"
    }
   ],
   "source": [
    "# create a Spark Session\n",
    "import pyspark\n",
    "from pyspark.sql import SparkSession\n",
    "\n",
    "# create a spark session\n",
    "spark = SparkSession.builder.master(\"local[1]\").appName('SparkDataFrame').getOrCreate()\n",
    "\n",
    "spark \n",
    "\n"
   ]
  },
  {
   "cell_type": "markdown",
   "metadata": {
    "id": "VWWZKsXy_s7m"
   },
   "source": [
    "##  Create a DataFrame "
   ]
  },
  {
   "cell_type": "markdown",
   "metadata": {
    "id": "R3fePRvh7spP"
   },
   "source": [
    "###  Create a DataFrame from RDD\n",
    "\n",
    "Most Apache Spark queries return a DataFrame. This includes reading from a table, loading data from files, and operations that transform data."
   ]
  },
  {
   "cell_type": "code",
   "execution_count": null,
   "metadata": {
    "colab": {
     "base_uri": "https://localhost:8080/"
    },
    "id": "xXnIuBFH7qMA",
    "outputId": "d99c6fb4-58ef-4b5b-845c-1988d83cc365"
   },
   "outputs": [
    {
     "name": "stdout",
     "output_type": "stream",
     "text": [
      "+-----+----+------+-----+------+\n",
      "|Model|Year|Height|Width|Weight|\n",
      "+-----+----+------+-----+------+\n",
      "|   XS|2018|  5.65| 2.79|  6.24|\n",
      "|   XR|2018|  5.94| 2.98|  6.84|\n",
      "|  X10|2017|  5.65| 2.79|  6.13|\n",
      "|8Plus|2017|  6.23| 3.07|  7.12|\n",
      "+-----+----+------+-----+------+\n",
      "\n"
     ]
    }
   ],
   "source": [
    "iphones_RDD = sc.parallelize([ (\"XS\", 2018, 5.65, 2.79, 6.24), \\\n",
    "(\"XR\", 2018, 5.94, 2.98, 6.84),\\\n",
    "(\"X10\", 2017, 5.65, 2.79, 6.13),\\\n",
    "(\"8Plus\", 2017, 6.23, 3.07, 7.12)\\\n",
    "])\n",
    "\n",
    "names = ['Model', 'Year', 'Height', 'Width', 'Weight']\n",
    "\n",
    "iphones_df = spark.createDataFrame(iphones_RDD, schema=names)\n",
    "iphones_df.show()\n",
    "\n"
   ]
  },
  {
   "cell_type": "markdown",
   "metadata": {
    "id": "QdFZqA3C9F9P"
   },
   "source": [
    "###  Create a DataFrame from pandas\n",
    "\n",
    "ou can also create a Spark DataFrame from a list or a pandas DataFrame, such as in the following example\n"
   ]
  },
  {
   "cell_type": "code",
   "execution_count": null,
   "metadata": {
    "colab": {
     "base_uri": "https://localhost:8080/"
    },
    "id": "H9NP4NBd9PpH",
    "outputId": "02ab6d2b-b715-4942-ae88-46fd45638816"
   },
   "outputs": [
    {
     "name": "stdout",
     "output_type": "stream",
     "text": [
      "+---+----+\n",
      "|  i|   n|\n",
      "+---+----+\n",
      "|  1|Elia|\n",
      "|  2| Teo|\n",
      "|  3|Fang|\n",
      "+---+----+\n",
      "\n",
      "+---+----+\n",
      "| id|name|\n",
      "+---+----+\n",
      "|  1|Elia|\n",
      "|  2| Teo|\n",
      "|  3|Fang|\n",
      "+---+----+\n",
      "\n"
     ]
    }
   ],
   "source": [
    "import pandas as pd\n",
    "\n",
    "data = [[1, \"Elia\"], [2, \"Teo\"], [3, \"Fang\"]]\n",
    "\n",
    "pdf = pd.DataFrame(data, columns=[\"i\", \"n\"])\n",
    "\n",
    "df1 = spark.createDataFrame(pdf)\n",
    "df1.show()\n",
    "\n",
    "df2 = spark.createDataFrame(data, schema=\"id LONG, name STRING\")\n",
    "df2.show()"
   ]
  },
  {
   "cell_type": "markdown",
   "metadata": {
    "id": "807QjYxu9Wt2"
   },
   "source": [
    "### Load data into a DataFrame from files\n",
    "\n",
    "You can load data from many supported file formats. The following example uses a dataset available in the datasets directory."
   ]
  },
  {
   "cell_type": "code",
   "execution_count": null,
   "metadata": {
    "colab": {
     "base_uri": "https://localhost:8080/"
    },
    "id": "OzUiNGKx9iDr",
    "outputId": "eefd8eda-b9e9-49a8-ee6d-3497c0152038"
   },
   "outputs": [
    {
     "name": "stdout",
     "output_type": "stream",
     "text": [
      "  % Total    % Received % Xferd  Average Speed   Time    Time     Time  Current\n",
      "                                 Dload  Upload   Total   Spent    Left  Speed\n",
      "100 47.9M  100 47.9M    0     0   251M      0 --:--:-- --:--:-- --:--:--  251M\n"
     ]
    },
    {
     "data": {
      "text/plain": [
       "[Row(date=datetime.datetime(2021, 12, 31, 0, 0), county='Uinta', state='Wyoming', fips=56041, cases=4154, deaths=31),\n",
       " Row(date=datetime.datetime(2021, 12, 31, 0, 0), county='Washakie', state='Wyoming', fips=56043, cases=1879, deaths=37),\n",
       " Row(date=datetime.datetime(2021, 12, 31, 0, 0), county='Weston', state='Wyoming', fips=56045, cases=1254, deaths=14)]"
      ]
     },
     "execution_count": 37,
     "metadata": {},
     "output_type": "execute_result"
    }
   ],
   "source": [
    "!curl https://raw.githubusercontent.com/nytimes/covid-19-data/master/us-counties-2021.csv >> us-counties-2021.csv\n",
    "\n",
    "\n",
    "df_csv = spark.read.csv(\"us-counties-2021.csv\", sep=',', header=True, inferSchema=True)\n",
    "\n",
    "df_csv.tail(3)"
   ]
  },
  {
   "cell_type": "markdown",
   "metadata": {
    "id": "eqUtx1FX_VsC"
   },
   "source": [
    "## DataFrame Operations\n",
    "\n",
    "Like RDD Spark suporte  support two types of Data Frame operations: transformations and actions\n",
    " \n",
    "* Transformations  create a new dataset from an existing one.\n",
    "* Actions, which return a value to the driver program after running a computation on the dataset. \n",
    "\n",
    "For example, map is a transformation that passes each dataset element through a function and returns a new RDD representing the results. On the other hand, reduce is an action that aggregates all the elements of the RDD using some function and returns the final result to the driver program (although there is also a parallel reduceByKey that returns a distributed dataset).\n",
    "\n",
    "All transformations in Spark are lazy, in that they do not compute their results right away. Instead, they just remember the transformations applied to some base dataset (e.g. a file). The transformations are only computed when an action requires a result to be returned to the driver program. This design enables Spark to run more efficiently. For example, we can realize that a dataset created through map will be used in a reduce and return only the result of the reduce to the driver, rather than the larger mapped dataset.\n",
    "\n",
    "By default, each transformed RDD may be recomputed each time you run an action on it. However, you may also persist an RDD in memory using the persist (or cache) method, in which case Spark will keep the elements around on the cluster for much faster access the next time you query it. There is also support for persisting RDDs on disk, or replicated across multiple nodes."
   ]
  },
  {
   "cell_type": "markdown",
   "metadata": {
    "id": "m8ZP9BfjANHe"
   },
   "source": [
    "### Transformations"
   ]
  },
  {
   "cell_type": "code",
   "execution_count": null,
   "metadata": {
    "colab": {
     "base_uri": "https://localhost:8080/"
    },
    "id": "kMSTmDynAUgg",
    "outputId": "3f3f2004-1196-45b9-9a6e-8e34e1ad806f"
   },
   "outputs": [
    {
     "name": "stdout",
     "output_type": "stream",
     "text": [
      "+--------+\n",
      "|  county|\n",
      "+--------+\n",
      "| Autauga|\n",
      "| Baldwin|\n",
      "| Barbour|\n",
      "|    Bibb|\n",
      "|  Blount|\n",
      "| Bullock|\n",
      "|  Butler|\n",
      "| Calhoun|\n",
      "|Chambers|\n",
      "|Cherokee|\n",
      "+--------+\n",
      "only showing top 10 rows\n",
      "\n"
     ]
    }
   ],
   "source": [
    "# select( ) - Transformation subsets the columns in the DataFrame\n",
    "\n",
    "\n",
    "\n",
    "covidDF = spark.read.csv(\"us-counties-2021.csv\", header=True, inferSchema=True)\n",
    "\n",
    "county_value_df = covidDF.select(\"county\")\n",
    "\n",
    "county_value_df.show(10)"
   ]
  },
  {
   "cell_type": "code",
   "execution_count": null,
   "metadata": {
    "colab": {
     "base_uri": "https://localhost:8080/"
    },
    "id": "xzQmEoSaMJD7",
    "outputId": "d7ab477d-6a08-40f1-9ad8-a5e5b0bb7228"
   },
   "outputs": [
    {
     "name": "stdout",
     "output_type": "stream",
     "text": [
      "+-------------------+------+-------+-----+-----+------+\n",
      "|               date|county|  state| fips|cases|deaths|\n",
      "+-------------------+------+-------+-----+-----+------+\n",
      "|2021-01-01 00:00:00|  Bibb|Alabama| 1007| 1854|    46|\n",
      "|2021-01-01 00:00:00|  Bibb|Georgia|13021|10273|   261|\n",
      "|2021-01-02 00:00:00|  Bibb|Alabama| 1007| 1863|    46|\n",
      "|2021-01-02 00:00:00|  Bibb|Georgia|13021|10433|   261|\n",
      "|2021-01-03 00:00:00|  Bibb|Alabama| 1007| 1882|    46|\n",
      "+-------------------+------+-------+-----+-----+------+\n",
      "only showing top 5 rows\n",
      "\n"
     ]
    }
   ],
   "source": [
    "# filter( ) transformation filters out the rows based on a condition\n",
    "\n",
    "\n",
    "covidDF = spark.read.csv(\"us-counties-2021.csv\", header=True, inferSchema=True)\n",
    "\n",
    "new_df_covidDF = covidDF.filter(covidDF.county ==  \"Bibb\")\n",
    "\n",
    "new_df_covidDF.show(5)"
   ]
  },
  {
   "cell_type": "code",
   "execution_count": null,
   "metadata": {
    "colab": {
     "base_uri": "https://localhost:8080/"
    },
    "id": "GxJAqEgVM-kr",
    "outputId": "77ee0a5e-43ed-42b4-938d-e23182c0f5fd"
   },
   "outputs": [
    {
     "name": "stdout",
     "output_type": "stream",
     "text": [
      "+------+-----+\n",
      "|deaths|count|\n",
      "+------+-----+\n",
      "|   463|  258|\n",
      "|   148| 1200|\n",
      "|   833|   95|\n",
      "|   496|  149|\n",
      "|  1342|   26|\n",
      "|  1088|   32|\n",
      "|  3794|    7|\n",
      "|  1645|   17|\n",
      "|  2866|    9|\n",
      "|   471|  180|\n",
      "|  1829|   16|\n",
      "|  1238|   22|\n",
      "|  3997|    1|\n",
      "|  2142|   10|\n",
      "|  1591|   16|\n",
      "|  3749|    6|\n",
      "|  1959|   14|\n",
      "|  1580|    7|\n",
      "|  2366|   11|\n",
      "|  3918|    1|\n",
      "+------+-----+\n",
      "only showing top 20 rows\n",
      "\n"
     ]
    }
   ],
   "source": [
    "# groupby() can be used to group a variable\n",
    "\n",
    "covidDF = spark.read.csv(\"us-counties-2021.csv\", header=True, inferSchema=True)\n",
    "\n",
    "new_df_groupByDeaths = covidDF.groupby('deaths')\n",
    "new_df_groupByDeaths.count().show()"
   ]
  },
  {
   "cell_type": "code",
   "execution_count": null,
   "metadata": {
    "colab": {
     "base_uri": "https://localhost:8080/"
    },
    "id": "hLBODkfuNX_-",
    "outputId": "4001f014-8ad5-426a-cc05-b20073b23275"
   },
   "outputs": [
    {
     "name": "stdout",
     "output_type": "stream",
     "text": [
      "+-------------------+-----+\n",
      "|               date|count|\n",
      "+-------------------+-----+\n",
      "|2021-01-01 00:00:00| 3245|\n",
      "|2021-01-02 00:00:00| 3247|\n",
      "|2021-01-03 00:00:00| 3246|\n",
      "|2021-01-04 00:00:00| 3246|\n",
      "|2021-01-05 00:00:00| 3245|\n",
      "|2021-01-06 00:00:00| 3245|\n",
      "|2021-01-07 00:00:00| 3246|\n",
      "|2021-01-08 00:00:00| 3245|\n",
      "|2021-01-09 00:00:00| 3245|\n",
      "|2021-01-10 00:00:00| 3245|\n",
      "|2021-01-11 00:00:00| 3245|\n",
      "|2021-01-12 00:00:00| 3245|\n",
      "|2021-01-13 00:00:00| 3246|\n",
      "|2021-01-14 00:00:00| 3245|\n",
      "|2021-01-15 00:00:00| 3245|\n",
      "|2021-01-16 00:00:00| 3245|\n",
      "|2021-01-17 00:00:00| 3245|\n",
      "|2021-01-18 00:00:00| 3245|\n",
      "|2021-01-19 00:00:00| 3247|\n",
      "|2021-01-20 00:00:00| 3246|\n",
      "+-------------------+-----+\n",
      "only showing top 20 rows\n",
      "\n"
     ]
    }
   ],
   "source": [
    "# orderBy() operation sorts the DataFrame based on one or more columns\n",
    "\n",
    "covidDF = spark.read.csv(\"us-counties-2021.csv\", header=True, inferSchema=True)\n",
    "\n",
    "new_df_groupByDate = covidDF.groupby('date')\n",
    "new_df_groupByDate.count().orderBy('date').show()"
   ]
  },
  {
   "cell_type": "code",
   "execution_count": null,
   "metadata": {
    "colab": {
     "base_uri": "https://localhost:8080/"
    },
    "id": "DQqRutj-N1Jj",
    "outputId": "0a66da82-e9f7-4b88-c91f-0c758a6c9811"
   },
   "outputs": [
    {
     "data": {
      "text/plain": [
       "715194"
      ]
     },
     "execution_count": 51,
     "metadata": {},
     "output_type": "execute_result"
    }
   ],
   "source": [
    "# dropDuplicates() removes the duplicate rows of a DataFrame\n",
    "\n",
    "covidDF = spark.read.csv(\"us-counties-2021.csv\", header=True, inferSchema=True)\n",
    "\n",
    "newDf = covidDF.select('state','cases', 'deaths').dropDuplicates()\n",
    "newDf.count()"
   ]
  },
  {
   "cell_type": "code",
   "execution_count": null,
   "metadata": {
    "colab": {
     "base_uri": "https://localhost:8080/"
    },
    "id": "KlN5HEhQOM9t",
    "outputId": "18d859ab-3ff9-493e-f47f-36e4f98076bb"
   },
   "outputs": [
    {
     "name": "stdout",
     "output_type": "stream",
     "text": [
      "+-------------------+---------+-------+----+-----+------+\n",
      "|               date|   county|  state|fips|cases|mortes|\n",
      "+-------------------+---------+-------+----+-----+------+\n",
      "|2021-01-01 00:00:00|  Autauga|Alabama|1001| 4239|    50|\n",
      "|2021-01-01 00:00:00|  Baldwin|Alabama|1003|13823|   169|\n",
      "|2021-01-01 00:00:00|  Barbour|Alabama|1005| 1517|    33|\n",
      "|2021-01-01 00:00:00|     Bibb|Alabama|1007| 1854|    46|\n",
      "|2021-01-01 00:00:00|   Blount|Alabama|1009| 4693|    63|\n",
      "|2021-01-01 00:00:00|  Bullock|Alabama|1011|  888|    22|\n",
      "|2021-01-01 00:00:00|   Butler|Alabama|1013| 1522|    45|\n",
      "|2021-01-01 00:00:00|  Calhoun|Alabama|1015| 9584|   157|\n",
      "|2021-01-01 00:00:00| Chambers|Alabama|1017| 2366|    63|\n",
      "|2021-01-01 00:00:00| Cherokee|Alabama|1019| 1429|    22|\n",
      "|2021-01-01 00:00:00|  Chilton|Alabama|1021| 3004|    54|\n",
      "|2021-01-01 00:00:00|  Choctaw|Alabama|1023|  491|    22|\n",
      "|2021-01-01 00:00:00|   Clarke|Alabama|1025| 2418|    26|\n",
      "|2021-01-01 00:00:00|     Clay|Alabama|1027| 1150|    34|\n",
      "|2021-01-01 00:00:00| Cleburne|Alabama|1029| 1036|    16|\n",
      "|2021-01-01 00:00:00|   Coffee|Alabama|1031| 3643|    38|\n",
      "|2021-01-01 00:00:00|  Colbert|Alabama|1033| 4701|    60|\n",
      "|2021-01-01 00:00:00|  Conecuh|Alabama|1035|  839|    17|\n",
      "|2021-01-01 00:00:00|    Coosa|Alabama|1037|  519|     7|\n",
      "|2021-01-01 00:00:00|Covington|Alabama|1039| 2931|    40|\n",
      "+-------------------+---------+-------+----+-----+------+\n",
      "only showing top 20 rows\n",
      "\n"
     ]
    }
   ],
   "source": [
    "# withColumnRenamed() renames a column in the DataFrame\n",
    "\n",
    "covidDF = spark.read.csv(\"us-counties-2021.csv\", header=True, inferSchema=True)\n",
    "\n",
    "newDf = covidDF.withColumnRenamed('deaths','mortes')\n",
    "newDf.show()"
   ]
  },
  {
   "cell_type": "markdown",
   "metadata": {
    "id": "OxP1aUXGOiT4"
   },
   "source": [
    "### Actions"
   ]
  },
  {
   "cell_type": "code",
   "execution_count": null,
   "metadata": {
    "colab": {
     "base_uri": "https://localhost:8080/"
    },
    "id": "O_CalqO5OpQg",
    "outputId": "bb546d1e-5ae8-4d42-c360-75825ce3e7de"
   },
   "outputs": [
    {
     "name": "stdout",
     "output_type": "stream",
     "text": [
      "root\n",
      " |-- date: timestamp (nullable = true)\n",
      " |-- county: string (nullable = true)\n",
      " |-- state: string (nullable = true)\n",
      " |-- fips: integer (nullable = true)\n",
      " |-- cases: integer (nullable = true)\n",
      " |-- deaths: integer (nullable = true)\n",
      "\n"
     ]
    }
   ],
   "source": [
    "# printSchema() method prints the types of columns in the DataFrame\n",
    "\n",
    "covidDF = spark.read.csv(\"us-counties-2021.csv\", header=True, inferSchema=True)\n",
    "covidDF.printSchema()"
   ]
  },
  {
   "cell_type": "code",
   "execution_count": null,
   "metadata": {
    "colab": {
     "base_uri": "https://localhost:8080/"
    },
    "id": "ylBjbQq8O1U3",
    "outputId": "ae649c1c-3051-4b09-d332-c622bf63241c"
   },
   "outputs": [
    {
     "data": {
      "text/plain": [
       "['date', 'county', 'state', 'fips', 'cases', 'deaths']"
      ]
     },
     "execution_count": 55,
     "metadata": {},
     "output_type": "execute_result"
    }
   ],
   "source": [
    "# columns prints the columns of a DataFrame\n",
    "\n",
    "covidDF = spark.read.csv(\"us-counties-2021.csv\", header=True, inferSchema=True)\n",
    "covidDF.columns"
   ]
  },
  {
   "cell_type": "code",
   "execution_count": null,
   "metadata": {
    "colab": {
     "base_uri": "https://localhost:8080/"
    },
    "id": "LxIsQZGrO9vs",
    "outputId": "aaf47f53-5147-498a-bd5d-f4837e96498e"
   },
   "outputs": [
    {
     "name": "stdout",
     "output_type": "stream",
     "text": [
      "+-------+---------+-------+------------------+------------------+------------------+\n",
      "|summary|   county|  state|              fips|             cases|            deaths|\n",
      "+-------+---------+-------+------------------+------------------+------------------+\n",
      "|  count|  1185373|1185373|           1174570|           1185373|           1156903|\n",
      "|   mean|     null|   null| 31471.97141081417| 11160.30975988149|193.60917553157006|\n",
      "| stddev|     null|   null|16365.330590115294|42189.206066249295| 881.2526727171902|\n",
      "|    min|Abbeville|Alabama|              1001|                 0|                 0|\n",
      "|    max|  Ziebach|Wyoming|             78030|           1697286|             35382|\n",
      "+-------+---------+-------+------------------+------------------+------------------+\n",
      "\n"
     ]
    }
   ],
   "source": [
    "# describe() operation compute summary statistics of numerical columns in the DataFrame\n",
    "\n",
    "covidDF = spark.read.csv(\"us-counties-2021.csv\", header=True, inferSchema=True)\n",
    "covidDF.describe().show()"
   ]
  }
 ],
 "metadata": {
  "colab": {
   "authorship_tag": "ABX9TyPoruawvwIUexudI5Ao59CO",
   "include_colab_link": true,
   "provenance": []
  },
  "kernelspec": {
   "display_name": "Python 3 (ipykernel)",
   "language": "python",
   "name": "python3"
  },
  "language_info": {
   "codemirror_mode": {
    "name": "ipython",
    "version": 3
   },
   "file_extension": ".py",
   "mimetype": "text/x-python",
   "name": "python",
   "nbconvert_exporter": "python",
   "pygments_lexer": "ipython3",
   "version": "3.9.12"
  }
 },
 "nbformat": 4,
 "nbformat_minor": 1
}
