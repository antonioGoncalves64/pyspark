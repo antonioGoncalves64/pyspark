{
 "cells": [
  {
   "cell_type": "markdown",
   "metadata": {},
   "source": [
    "<img src=\"images/python.png\" alt=\"drawing\" width=\"300\"/>\n",
    "\n",
    "# Lab Processamento Paralelo\n",
    "\n",
    "\n"
   ]
  },
  {
   "cell_type": "markdown",
   "metadata": {},
   "source": [
    "## Introdução\n",
    "\n",
    "Execute os programas propostos e responde as questões\n",
    "\n",
    "\n",
    "\n",
    "\n",
    "\n",
    "\n",
    "\n"
   ]
  },
  {
   "cell_type": "markdown",
   "metadata": {},
   "source": [
    "# Programas I/O Bound"
   ]
  },
  {
   "cell_type": "markdown",
   "metadata": {},
   "source": [
    "## Versão sincrona"
   ]
  },
  {
   "cell_type": "code",
   "execution_count": null,
   "metadata": {},
   "outputs": [],
   "source": [
    "# io_bound/synchronous.py\n",
    "import requests\n",
    "import time\n",
    "\n",
    "def get_session():\n",
    "    return requests.Session()\n",
    "\n",
    "def download_site(url):\n",
    "    session = get_session()\n",
    "    with session.get(url) as response:\n",
    "        indicator = \"J\" if \"jython\" in url else \"R\"\n",
    "        print(indicator, sep='', end='', flush=True)\n",
    "\n",
    "def download_all_sites(sites):\n",
    "    for url in sites:\n",
    "        download_site(url)\n",
    "\n",
    "    print()\n",
    "\n",
    "if __name__ == '__main__':\n",
    "    sites = [\n",
    "        \"https://www.jython.org\",\n",
    "        \"http://olympus.realpython.org/dice\",\n",
    "    ] * 80\n",
    "\n",
    "    print(\"Starting downloads\")\n",
    "    start = time.time()\n",
    "    download_all_sites(sites)\n",
    "    duration = time.time() - start\n",
    "    print(f\"Downloaded {len(sites)} sites in {duration} seconds\")\n"
   ]
  },
  {
   "cell_type": "markdown",
   "metadata": {},
   "source": [
    "### Perguntas:\n",
    " 1. Descreva o funcionamento do programa:\n",
    " 1. Será que cada vez que executa o programa o tempo varia?\n",
    " "
   ]
  },
  {
   "cell_type": "markdown",
   "metadata": {
    "nteract": {
     "transient": {
      "deleting": false
     }
    }
   },
   "source": [
    "## Versão asincrona - Uso de thread\n"
   ]
  },
  {
   "cell_type": "code",
   "execution_count": null,
   "metadata": {},
   "outputs": [],
   "source": [
    "# io_bound/threaded.py\n",
    "import concurrent.futures\n",
    "import requests\n",
    "import threading\n",
    "import time\n",
    "\n",
    "thread_local = threading.local()\n",
    "\n",
    "def get_session():\n",
    "    if not hasattr(thread_local, \"session\"):\n",
    "        thread_local.session = requests.Session()\n",
    "\n",
    "    return thread_local.session\n",
    "\n",
    "def download_site(url):\n",
    "    session = get_session()\n",
    "    with session.get(url) as response:\n",
    "        indicator = \"J\" if \"jython\" in url else \"R\"\n",
    "        print(indicator, sep='', end='', flush=True)\n",
    "\n",
    "def download_all_sites(sites):\n",
    "    with concurrent.futures.ThreadPoolExecutor(max_workers=5) as executor:\n",
    "        executor.map(download_site, sites)\n",
    "\n",
    "if __name__ == '__main__':\n",
    "    sites = [\n",
    "        \"https://www.jython.org\",\n",
    "        \"http://olympus.realpython.org/dice\",\n",
    "    ] * 80\n",
    "\n",
    "    print(\"Starting downloads\")\n",
    "    start = time.time()\n",
    "    download_all_sites(sites)\n",
    "    duration = time.time() - start\n",
    "    print(f\"\\nDownloaded {len(sites)} sites in {duration} seconds\")\n"
   ]
  },
  {
   "cell_type": "markdown",
   "metadata": {},
   "source": [
    "### Perguntas:\n",
    " \n",
    "1. Relativamente a versão sincrona como variou o tempo?. \n",
    "  1. **Resposta** é significativamente mais rápido do que antes - quase dez vezes. \n",
    " 1. Analise o padrão de J e R obtido na saída, relativamente a versão anterior.\n",
    "  1. **Resposta:**  Uma coisa a notar aqui são os padrões do J e R. No programa síncrono, era sempre J depois R, J depois R. Neste programa, não é, e isso é porque as threads ficam à espera durante diferentes períodos de tempo."
   ]
  },
  {
   "cell_type": "markdown",
   "metadata": {},
   "source": [
    "## Condições de Corrida \n",
    "Execute o programa no qual race é chamdo com vários valores de entrada."
   ]
  },
  {
   "cell_type": "code",
   "execution_count": null,
   "metadata": {},
   "outputs": [],
   "source": [
    "# io_bound/race.py\n",
    "from concurrent.futures import ThreadPoolExecutor\n",
    "counter = 0\n",
    "\n",
    "def change_counter(amount):\n",
    "    \n",
    "    global counter\n",
    "    for _ in range(1000):\n",
    "        counter += amount\n",
    "\n",
    "def race(num_threads):\n",
    "    global counter\n",
    "    counter = 0\n",
    "    data = [-1 if x %2 else 1 for x in range(1000)]\n",
    "\n",
    "    with ThreadPoolExecutor(max_workers=num_threads) as executor:\n",
    "        executor.map(change_counter, data)\n",
    "\n",
    "    print(counter)\n",
    "\n",
    "if __name__ == \"__main__\":\n",
    "    race(1)\n",
    "    race(1)\n",
    "    race(1)\n",
    "    race(2)\n",
    "    race(2)\n",
    "    race(2)\n",
    "    "
   ]
  },
  {
   "cell_type": "markdown",
   "metadata": {},
   "source": [
    "### Perguntas:\n",
    " \n",
    "1.Explique o resultados obtidos quando é chamado race(0) \n",
    "\n",
    "1.Explique o resultados obtidos quando é chamado race(2) \n"
   ]
  },
  {
   "cell_type": "code",
   "execution_count": null,
   "metadata": {},
   "outputs": [],
   "source": []
  },
  {
   "cell_type": "markdown",
   "metadata": {},
   "source": [
    "# Programas CPU Bound\n",
    "\n",
    "Execute cada um dos seguintes programas e responda as seguintes questões:\n",
    "\n",
    "1. Descreva Porque estes programas são considerados programas CPU Bound e não I/O Bound.\n",
    "  \n",
    "  \n",
    "1. Se executar varias vezes o mesmo programa, verifica alguma alteração no resultado obtido em termos de tempo de execução?. Qual é a sua explicação.\n",
    "  \n",
    "  \n",
    "1. Ordene o tempo de execução de cada dos programas.\n",
    "   \n",
    "   \n",
    "1. Tente aumentar o número de max_workers na versão assincrona. O que verifica em termos de desempenho. \n",
    "   \n",
    "   \n",
    "1.  Apresente uma explicação para a diferença de tempo obtidos.\n",
    "   \n",
    "   "
   ]
  },
  {
   "cell_type": "markdown",
   "metadata": {},
   "source": [
    "## Versão sincrona"
   ]
  },
  {
   "cell_type": "code",
   "execution_count": null,
   "metadata": {},
   "outputs": [],
   "source": [
    "# cpu_bound/synchronous.py\n",
    "import time\n",
    "\n",
    "def calculate(limit):\n",
    "    return sum(i * i for i in range(limit))\n",
    "\n",
    "def find_sums(numbers):\n",
    "    for number in numbers:\n",
    "        calculate(number)\n",
    "\n",
    "if __name__ == '__main__':\n",
    "    numbers = [5_000_000 + x for x in range(20)]\n",
    "\n",
    "    print(\"Starting calculation\")\n",
    "    start = time.time()\n",
    "    find_sums(numbers)\n",
    "    duration = time.time() - start\n",
    "    print(f\"Duration {duration} seconds\")\n"
   ]
  },
  {
   "cell_type": "markdown",
   "metadata": {},
   "source": [
    "## Versão Assincrona"
   ]
  },
  {
   "cell_type": "code",
   "execution_count": null,
   "metadata": {},
   "outputs": [],
   "source": [
    "# cpu_bound/threaded.py\n",
    "import concurrent.futures\n",
    "import time\n",
    "\n",
    "def calculate(limit):\n",
    "    return sum(i * i for i in range(limit))\n",
    "\n",
    "def find_sums(numbers):\n",
    "    with concurrent.futures.ThreadPoolExecutor(max_workers=20) as executor:\n",
    "        executor.map(calculate, numbers)\n",
    "\n",
    "if __name__ == '__main__':\n",
    "    numbers = [5_000_000 + x for x in range(20)]\n",
    "\n",
    "    print(\"Starting calculation\")\n",
    "    start = time.time()\n",
    "    find_sums(numbers)\n",
    "    duration = time.time() - start\n",
    "    print(f\"Duration {duration} seconds\")"
   ]
  },
  {
   "cell_type": "markdown",
   "metadata": {},
   "source": [
    "## Versão com Processos"
   ]
  },
  {
   "cell_type": "code",
   "execution_count": null,
   "metadata": {},
   "outputs": [],
   "source": [
    "# cpu_bound/multi.py\n",
    "import multiprocessing\n",
    "import time\n",
    "\n",
    "def calculate(limit):\n",
    "    return sum(i * i for i in range(limit))\n",
    "\n",
    "def find_sums(numbers):\n",
    "    with multiprocessing.Pool() as pool:\n",
    "        pool.map(calculate, numbers)\n",
    "\n",
    "if __name__ == '__main__':\n",
    "    numbers = [5_000_000 + x for x in range(20)]\n",
    "\n",
    "    print(\"Starting calculation\")\n",
    "    start = time.time()\n",
    "    find_sums(numbers)\n",
    "    duration = time.time() - start\n",
    "    print(f\"Duration {duration} seconds\")\n"
   ]
  },
  {
   "cell_type": "code",
   "execution_count": null,
   "metadata": {},
   "outputs": [],
   "source": []
  }
 ],
 "metadata": {
  "colab": {
   "authorship_tag": "ABX9TyPO1Js+wB+gf1zJ0Yn405Oz",
   "mount_file_id": "12ufX2tXkBxOM9c0k9m3sSpcS4BEMPh1H",
   "provenance": []
  },
  "kernelspec": {
   "display_name": "Python 3 (ipykernel)",
   "language": "python",
   "name": "python3"
  },
  "language_info": {
   "codemirror_mode": {
    "name": "ipython",
    "version": 3
   },
   "file_extension": ".py",
   "mimetype": "text/x-python",
   "name": "python",
   "nbconvert_exporter": "python",
   "pygments_lexer": "ipython3",
   "version": "3.9.12"
  },
  "nteract": {
   "version": "0.28.0"
  }
 },
 "nbformat": 4,
 "nbformat_minor": 4
}
